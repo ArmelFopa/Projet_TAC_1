{
 "cells": [
  {
   "cell_type": "markdown",
   "metadata": {},
   "source": [
    "# APIs: requêtes HTTP"
   ]
  },
  {
   "cell_type": "markdown",
   "metadata": {},
   "source": [
    "## Imports"
   ]
  },
  {
   "cell_type": "code",
   "execution_count": 6,
   "metadata": {},
   "outputs": [
    {
     "name": "stdout",
     "output_type": "stream",
     "text": [
      "import effectué\n"
     ]
    }
   ],
   "source": [
    "import json\n",
    "import requests\n",
    "import pandas as pd\n",
    "\n",
    "print(\"import effectué\")"
   ]
  },
  {
   "cell_type": "markdown",
   "metadata": {},
   "source": [
    "Interrogation d'une API"
   ]
  },
  {
   "cell_type": "code",
   "execution_count": 11,
   "metadata": {},
   "outputs": [
    {
     "name": "stdout",
     "output_type": "stream",
     "text": [
      "Requête réussie pour : Le_Soir\n",
      "Clés disponibles : ['type', 'title', 'displaytitle', 'namespace', 'wikibase_item', 'titles', 'pageid', 'lang', 'dir', 'revision', 'tid', 'timestamp', 'description', 'description_source', 'content_urls', 'extract', 'extract_html']\n"
     ]
    }
   ],
   "source": [
    "# Elle permet d'obtenir le résumé d'un article Wikipédia\n",
    "# Elle peut servir à enrichir le corpus CAMille avec des données contextuelles\n",
    "# (par exemple sur un journaliste ou un journal belge ancien).\n",
    "\n",
    "# Exemple : on recherche un résumé sur \"Le Soir (journal belge)\"\n",
    "query = \"Le_Soir\"\n",
    "url = f\"https://fr.wikipedia.org/api/rest_v1/page/summary/{query}\"\n",
    "\n",
    "headers = {\n",
    "    'User-Agent': 'Mozilla/5.0 (Macintosh; Intel Mac OS X 10_10_1) '\n",
    "                  'AppleWebKit/537.36 (KHTML, like Gecko) '\n",
    "                  'Chrome/39.0.2171.95 Safari/537.36'}\n",
    "\n",
    "\n",
    "response = requests.get(url, headers=headers)\n",
    "\n",
    "if response.status_code == 200:\n",
    "    print(f\"Requête réussie pour : {query}\")\n",
    "    data = response.json()\n",
    "    print(\"Clés disponibles :\", list(data.keys()))\n",
    "else:\n",
    "    print(f\"Erreur HTTP {response.status_code}\")\n"
   ]
  },
  {
   "cell_type": "code",
   "execution_count": 12,
   "metadata": {},
   "outputs": [
    {
     "data": {
      "text/plain": [
       "['type',\n",
       " 'title',\n",
       " 'displaytitle',\n",
       " 'namespace',\n",
       " 'wikibase_item',\n",
       " 'titles',\n",
       " 'pageid',\n",
       " 'lang',\n",
       " 'dir',\n",
       " 'revision',\n",
       " 'tid',\n",
       " 'timestamp',\n",
       " 'description',\n",
       " 'description_source',\n",
       " 'content_urls',\n",
       " 'extract',\n",
       " 'extract_html']"
      ]
     },
     "execution_count": 12,
     "metadata": {},
     "output_type": "execute_result"
    }
   ],
   "source": [
    "list(data.keys())"
   ]
  },
  {
   "cell_type": "markdown",
   "metadata": {},
   "source": [
    "Extration et affichage des champs pertinents"
   ]
  },
  {
   "cell_type": "code",
   "execution_count": 13,
   "metadata": {},
   "outputs": [
    {
     "name": "stdout",
     "output_type": "stream",
     "text": [
      "Titre       : Le Soir\n",
      "Description : quotidien généraliste belge francophone\n",
      "\n",
      "Résumé :\n",
      " Le Soir est un quotidien généraliste belge de langue française fondé en 1887 par Émile Rossel. Il fait partie du Groupe Rossel. Se présentant comme progressiste et indépendant, ce journal est de tradition libérale et historiquement au centre de l'échiquier politique belge.\n"
     ]
    }
   ],
   "source": [
    "# Extraction des informations pertinentes\n",
    "# On récupère proprement : titre, description et résumé (extract).\n",
    "\n",
    "titre = data.get(\"title\", \"N/A\") #data.get pour eviter les erreurs si des champs sont manquants\n",
    "description = data.get(\"description\", \"N/A\")\n",
    "resume = data.get(\"extract\", \"N/A\")\n",
    "\n",
    "# Affichage formaté\n",
    "print(\"Titre       :\", titre)\n",
    "print(\"Description :\", description)\n",
    "print(\"\\nRésumé :\\n\", resume)"
   ]
  },
  {
   "cell_type": "markdown",
   "metadata": {},
   "source": [
    "Mise en tableau"
   ]
  },
  {
   "cell_type": "code",
   "execution_count": 14,
   "metadata": {},
   "outputs": [],
   "source": [
    "# Mise en tableau des résultats\n",
    "# On stocke les informations extraites dans un petit DataFrame pandas\n",
    "\n",
    "api_results = pd.DataFrame([{\n",
    "    \"Sujet\": titre,\n",
    "    \"Description\": description,\n",
    "    \"Résumé\": resume\n",
    "}])"
   ]
  },
  {
   "cell_type": "code",
   "execution_count": 15,
   "metadata": {},
   "outputs": [
    {
     "data": {
      "text/html": [
       "<div>\n",
       "<style scoped>\n",
       "    .dataframe tbody tr th:only-of-type {\n",
       "        vertical-align: middle;\n",
       "    }\n",
       "\n",
       "    .dataframe tbody tr th {\n",
       "        vertical-align: top;\n",
       "    }\n",
       "\n",
       "    .dataframe thead th {\n",
       "        text-align: right;\n",
       "    }\n",
       "</style>\n",
       "<table border=\"1\" class=\"dataframe\">\n",
       "  <thead>\n",
       "    <tr style=\"text-align: right;\">\n",
       "      <th></th>\n",
       "      <th>Sujet</th>\n",
       "      <th>Description</th>\n",
       "      <th>Résumé</th>\n",
       "    </tr>\n",
       "  </thead>\n",
       "  <tbody>\n",
       "    <tr>\n",
       "      <th>0</th>\n",
       "      <td>Le Soir</td>\n",
       "      <td>quotidien généraliste belge francophone</td>\n",
       "      <td>Le Soir est un quotidien généraliste belge de ...</td>\n",
       "    </tr>\n",
       "  </tbody>\n",
       "</table>\n",
       "</div>"
      ],
      "text/plain": [
       "     Sujet                              Description  \\\n",
       "0  Le Soir  quotidien généraliste belge francophone   \n",
       "\n",
       "                                              Résumé  \n",
       "0  Le Soir est un quotidien généraliste belge de ...  "
      ]
     },
     "execution_count": 15,
     "metadata": {},
     "output_type": "execute_result"
    }
   ],
   "source": [
    "# On affiche le tableau\n",
    "api_results"
   ]
  },
  {
   "cell_type": "markdown",
   "metadata": {},
   "source": [
    "## Utiliser [Nominatim](https://nominatim.org/) pour connaître les coordonnées géographiques d'une adresse"
   ]
  },
  {
   "cell_type": "code",
   "execution_count": 2,
   "metadata": {},
   "outputs": [
    {
     "name": "stdout",
     "output_type": "stream",
     "text": [
      "ULB (50.8116064 - 4.3805110)\n"
     ]
    }
   ],
   "source": [
    "address = \"Avenue Franklin Roosevelt, Ixelles\"\n",
    "\n",
    "\"\"\"Retrieve coordinates from Open Street Map\"\"\"\n",
    "headers = {'Referer': 'https://nominatim.openstreetmap.org/ui/search.html'}\n",
    "url = \"https://nominatim.openstreetmap.org/search\"\n",
    "data = {'q': address, 'format': 'json'}\n",
    "resp = requests.get(url, data, headers=headers)\n",
    "try:\n",
    "    json_list = json.loads(resp.text)\n",
    "except json.JSONDecodeError: # response is not in JSON as expected, probably the request is being blocked\n",
    "    print(resp.text)\n",
    "for item in json_list:\n",
    "    display_name = item['display_name']\n",
    "    short_name = display_name.split(\", \")[0]\n",
    "    lat = item['lat']\n",
    "    lon = item['lon']\n",
    "    print(f\"{short_name} ({lat} - {lon})\")\n"
   ]
  },
  {
   "cell_type": "markdown",
   "metadata": {},
   "source": [
    "## Utiliser REST Countries pour récupérer des informations sur un pays"
   ]
  },
  {
   "cell_type": "markdown",
   "metadata": {},
   "source": [
    "https://restcountries.com/"
   ]
  },
  {
   "cell_type": "code",
   "execution_count": 3,
   "metadata": {},
   "outputs": [
    {
     "name": "stdout",
     "output_type": "stream",
     "text": [
      "Languages: English, French\n",
      "Borders: Central African Republic, Chad, Republic of the Congo, Equatorial Guinea, Gabon, Nigeria\n"
     ]
    }
   ],
   "source": [
    "country_name = \"Cameroon\"\n",
    "\n",
    "base_url = \"https://restcountries.com/v3.1/\"\n",
    "name_url = base_url + \"name/\"\n",
    "code_url = base_url + \"alpha/\"\n",
    "resp = requests.get(name_url + country_name)\n",
    "country = resp.json()[0]\n",
    "try:\n",
    "    languages = country['languages']\n",
    "    print(f\"Languages: {', '.join(languages.values())}\")\n",
    "    border_codes = country['borders']\n",
    "    border_names = []\n",
    "    for code in border_codes:\n",
    "        resp = requests.get(code_url + code)\n",
    "        border_country = resp.json()[0]\n",
    "        border_name = border_country[\"name\"][\"common\"]\n",
    "        border_names.append(border_name)\n",
    "    print(f\"Borders: {', '.join(border_names)}\")\n",
    "except KeyError:\n",
    "    print(\"Unknown country, please use English or native name\")"
   ]
  },
  {
   "cell_type": "markdown",
   "metadata": {},
   "source": [
    "## Pour en savoir plus"
   ]
  },
  {
   "cell_type": "markdown",
   "metadata": {},
   "source": [
    "- Les API Rest: https://towardsdatascience.com/introduction-to-rest-apis-90b5d9676004\n",
    "- La librairie [`requests`](https://requests.readthedocs.io/en/latest/)\n",
    "- Développer une API en Python : https://openclassrooms.com/en/courses/4525361-realisez-un-dashboard-avec-tableau/5774811-creez-une-api-avec-flask"
   ]
  }
 ],
 "metadata": {
  "kernelspec": {
   "display_name": "PROJET_TAC_1_venv",
   "language": "python",
   "name": "python3"
  },
  "language_info": {
   "codemirror_mode": {
    "name": "ipython",
    "version": 3
   },
   "file_extension": ".py",
   "mimetype": "text/x-python",
   "name": "python",
   "nbconvert_exporter": "python",
   "pygments_lexer": "ipython3",
   "version": "3.13.9"
  }
 },
 "nbformat": 4,
 "nbformat_minor": 4
}
