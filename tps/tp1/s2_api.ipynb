{
 "cells": [
  {
   "cell_type": "markdown",
   "metadata": {},
   "source": [
    "# APIs: requêtes HTTP"
   ]
  },
  {
   "cell_type": "markdown",
   "metadata": {},
   "source": [
    "## Imports"
   ]
  },
  {
   "cell_type": "code",
   "execution_count": 6,
   "metadata": {},
   "outputs": [
    {
     "name": "stdout",
     "output_type": "stream",
     "text": [
      "import effectué\n"
     ]
    }
   ],
   "source": [
    "import json\n",
    "import requests\n",
    "import pandas as pd\n",
    "\n",
    "print(\"import effectué\")"
   ]
  },
  {
   "cell_type": "markdown",
   "metadata": {},
   "source": [
    "Interrogation d'une API"
   ]
  },
  {
   "cell_type": "code",
   "execution_count": 7,
   "metadata": {},
   "outputs": [
    {
     "name": "stdout",
     "output_type": "stream",
     "text": [
      "Erreur 403\n"
     ]
    }
   ],
   "source": [
    "# Elle permet d'obtenir le résumé d'un article Wikipédia\n",
    "# Elle peut servir à enrichir le corpus CAMille avec des données contextuelles\n",
    "# (par exemple sur un journaliste ou un journal belge ancien).\n",
    "\n",
    "# Exemple : on recherche un résumé sur \"Le Soir (journal belge)\"\n",
    "query = \"Le_Soir_(journal_belge)\"\n",
    "url = f\"https://fr.wikipedia.org/api/rest_v1/page/summary/{query}\"\n",
    "\n",
    "response = requests.get(url)\n",
    "if response.status_code == 200:\n",
    "    data = response.json()\n",
    "    print(f\"Requête réussie pour : {query}\")\n",
    "else:\n",
    "    print(f\"Erreur {response.status_code}\")"
   ]
  },
  {
   "cell_type": "markdown",
   "metadata": {},
   "source": [
    "## Utiliser [Nominatim](https://nominatim.org/) pour connaître les coordonnées géographiques d'une adresse"
   ]
  },
  {
   "cell_type": "code",
   "execution_count": 2,
   "metadata": {},
   "outputs": [
    {
     "name": "stdout",
     "output_type": "stream",
     "text": [
      "ULB (50.8116064 - 4.3805110)\n"
     ]
    }
   ],
   "source": [
    "address = \"Avenue Franklin Roosevelt, Ixelles\"\n",
    "\n",
    "\"\"\"Retrieve coordinates from Open Street Map\"\"\"\n",
    "headers = {'Referer': 'https://nominatim.openstreetmap.org/ui/search.html'}\n",
    "url = \"https://nominatim.openstreetmap.org/search\"\n",
    "data = {'q': address, 'format': 'json'}\n",
    "resp = requests.get(url, data, headers=headers)\n",
    "try:\n",
    "    json_list = json.loads(resp.text)\n",
    "except json.JSONDecodeError: # response is not in JSON as expected, probably the request is being blocked\n",
    "    print(resp.text)\n",
    "for item in json_list:\n",
    "    display_name = item['display_name']\n",
    "    short_name = display_name.split(\", \")[0]\n",
    "    lat = item['lat']\n",
    "    lon = item['lon']\n",
    "    print(f\"{short_name} ({lat} - {lon})\")\n"
   ]
  },
  {
   "cell_type": "markdown",
   "metadata": {},
   "source": [
    "## Utiliser REST Countries pour récupérer des informations sur un pays"
   ]
  },
  {
   "cell_type": "markdown",
   "metadata": {},
   "source": [
    "https://restcountries.com/"
   ]
  },
  {
   "cell_type": "code",
   "execution_count": 3,
   "metadata": {},
   "outputs": [
    {
     "name": "stdout",
     "output_type": "stream",
     "text": [
      "Languages: English, French\n",
      "Borders: Central African Republic, Chad, Republic of the Congo, Equatorial Guinea, Gabon, Nigeria\n"
     ]
    }
   ],
   "source": [
    "country_name = \"Cameroon\"\n",
    "\n",
    "base_url = \"https://restcountries.com/v3.1/\"\n",
    "name_url = base_url + \"name/\"\n",
    "code_url = base_url + \"alpha/\"\n",
    "resp = requests.get(name_url + country_name)\n",
    "country = resp.json()[0]\n",
    "try:\n",
    "    languages = country['languages']\n",
    "    print(f\"Languages: {', '.join(languages.values())}\")\n",
    "    border_codes = country['borders']\n",
    "    border_names = []\n",
    "    for code in border_codes:\n",
    "        resp = requests.get(code_url + code)\n",
    "        border_country = resp.json()[0]\n",
    "        border_name = border_country[\"name\"][\"common\"]\n",
    "        border_names.append(border_name)\n",
    "    print(f\"Borders: {', '.join(border_names)}\")\n",
    "except KeyError:\n",
    "    print(\"Unknown country, please use English or native name\")"
   ]
  },
  {
   "cell_type": "markdown",
   "metadata": {},
   "source": [
    "## Pour en savoir plus"
   ]
  },
  {
   "cell_type": "markdown",
   "metadata": {},
   "source": [
    "- Les API Rest: https://towardsdatascience.com/introduction-to-rest-apis-90b5d9676004\n",
    "- La librairie [`requests`](https://requests.readthedocs.io/en/latest/)\n",
    "- Développer une API en Python : https://openclassrooms.com/en/courses/4525361-realisez-un-dashboard-avec-tableau/5774811-creez-une-api-avec-flask"
   ]
  }
 ],
 "metadata": {
  "kernelspec": {
   "display_name": "PROJET_TAC_1_venv",
   "language": "python",
   "name": "python3"
  },
  "language_info": {
   "codemirror_mode": {
    "name": "ipython",
    "version": 3
   },
   "file_extension": ".py",
   "mimetype": "text/x-python",
   "name": "python",
   "nbconvert_exporter": "python",
   "pygments_lexer": "ipython3",
   "version": "3.13.9"
  }
 },
 "nbformat": 4,
 "nbformat_minor": 4
}
