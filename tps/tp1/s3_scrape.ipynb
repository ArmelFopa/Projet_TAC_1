{
 "cells": [
  {
   "cell_type": "markdown",
   "metadata": {},
   "source": [
    "# Scraping: récupération de la page d'accueil du journal Le Soir\n",
    "\n",
    "Dans ce notebook, nous créons un robot qui va ouvrir la page d'accueil du site du journal [Le Soir](https://www.lesoir.be/) et récupérer le titre de tous les articles du jour et les stocker dans un fichier csv."
   ]
  },
  {
   "cell_type": "markdown",
   "metadata": {},
   "source": [
    "## Imports"
   ]
  },
  {
   "cell_type": "code",
   "execution_count": 1,
   "metadata": {},
   "outputs": [],
   "source": [
    "import os\n",
    "#import re\n",
    "#import time\n",
    "import requests\n",
    "from bs4 import BeautifulSoup\n",
    "#import pandas as pd\n",
    "from pathlib import Path"
   ]
  },
  {
   "cell_type": "markdown",
   "metadata": {},
   "source": [
    "## Récupération de tous les articles de la page d'accueil\n",
    "\n"
   ]
  },
  {
   "cell_type": "code",
   "execution_count": null,
   "metadata": {},
   "outputs": [],
   "source": [
    "headers = {'User-Agent': 'Mozilla/5.0 (Macintosh; Intel Mac OS X 10_10_1) AppleWebKit/537.36 (KHTML, like Gecko) Chrome/39.0.2171.95 Safari/537.36'}\n",
    "\n",
    "\n",
    "# liste où on collectera les URLs / noms de fichiers PDF\n",
    "pdf_files = []\n",
    "\n",
    "# base_url (équivalent de root_url)\n",
    "base_url = \"https://max.de.wilde.web.ulb.be/camille/\"\n",
    "\n",
    "response = requests.get(base_url, headers=headers)\n",
    "\n",
    "# on parse la page\n",
    "soup = BeautifulSoup(response.text, 'html.parser')\n",
    "\n",
    "for link in soup.find_all(\"a\", {\"class\":\"stretched-link outline-hidden\"}):\n",
    "    title = link.text.strip()\n",
    "    url = root_url + link.get('href')\n",
    "    articles.append([url, title])"
   ]
  },
  {
   "cell_type": "code",
   "execution_count": 3,
   "metadata": {},
   "outputs": [
    {
     "data": {
      "text/plain": [
       "80"
      ]
     },
     "execution_count": 3,
     "metadata": {},
     "output_type": "execute_result"
    }
   ],
   "source": [
    "# Affichage du nombre d'articles récupérés\n",
    "len(articles)"
   ]
  },
  {
   "cell_type": "code",
   "execution_count": 4,
   "metadata": {},
   "outputs": [
    {
     "data": {
      "text/plain": [
       "[['https://www.rtbf.be/article/l-institut-federal-des-droits-humains-met-en-garde-contre-l-erosion-insidieuse-et-preoccupante-de-l-etat-de-droit-en-belgique-11616510',\n",
       "  'L\\'Institut fédéral des droits humains met en garde contre l\\'érosion \"insidieuse et préoccupante\" de l\\'État de droit en Belgique'],\n",
       " ['https://www.rtbf.be/article/accord-pour-gaza-israel-devrait-rouvrir-mercredi-le-point-de-passage-de-rafah-11616457',\n",
       "  'Accord pour Gaza\\xa0: Israël devrait rouvrir mercredi le point de passage de Rafah'],\n",
       " ['https://www.rtbf.be/article/deux-exemplaires-du-faux-soir-mis-aux-encheres-il-s-agit-de-l-un-des-coups-les-plus-spectaculaires-de-la-resistance-11615818',\n",
       "  'Deux exemplaires du \"Faux Soir\" mis aux enchères\\xa0: \"Il s’agit de l’un des coups les plus spectaculaires de la résistance\"'],\n",
       " ['https://www.rtbf.be/article/jamy-gourmaud-decrypte-les-phenomenes-de-la-vie-quotidienne-dans-son-livre-365-nouveaux-jours-avec-jamy-11616519',\n",
       "  'Jamy Gourmaud décrypte les phénomènes de la vie quotidienne dans son livre \"365 nouveaux jours avec Jamy\"'],\n",
       " ['https://www.rtbf.be/article/le-ministre-francken-demande-l-utilisation-de-balles-en-caoutchouc-contre-les-emeutiers-comme-a-los-angeles-11616521',\n",
       "  'Le ministre Francken demande l\\'utilisation de balles en caoutchouc contre les émeutiers, \"comme à Los Angeles\"'],\n",
       " ['https://www.rtbf.be/article/les-critiques-d-hugues-dayez-chien-51-quand-le-cinema-francais-copie-mal-le-cinema-hollywoodien-11616459',\n",
       "  'Les critiques d’Hugues Dayez\\xa0: \"Chien 51\", quand le cinéma français copie (mal) le cinéma hollywoodien'],\n",
       " ['https://www.rtbf.be/article/born-in-the-usa-le-cri-rock-de-bruce-springsteen-les-promesses-trahies-de-l-amerique-11612678',\n",
       "  '\"Born in the USA\" : le cri rock de Bruce Springsteen, les promesses trahies de l’Amérique !'],\n",
       " ['https://www.rtbf.be/article/la-revue-de-presse-ecouter-la-colere-de-la-rue-ou-avancer-sur-les-reformes-necessaires-11616498',\n",
       "  'La revue de presse\\xa0: écouter la colère de la rue ou avancer sur les réformes nécessaires\\xa0?'],\n",
       " ['https://www.rtbf.be/article/les-etats-unis-au-secours-de-l-argentine-a-condition-que-javier-milei-remporte-les-elections-de-mi-mandat-11616456',\n",
       "  \"Les États-Unis au secours de l'Argentine... à condition que Javier Milei remporte les élections de mi-mandat\"],\n",
       " ['https://www.rtbf.be/article/la-rue-et-les-urnes-l-eternel-combat-11616477',\n",
       "  'La rue et les urnes, l’éternel combat']]"
      ]
     },
     "execution_count": 4,
     "metadata": {},
     "output_type": "execute_result"
    }
   ],
   "source": [
    "# Affichage des 10 premières entrées\n",
    "articles[:10]"
   ]
  },
  {
   "cell_type": "markdown",
   "metadata": {},
   "source": [
    "## Création d'un dataframe avec les liens et les titres des articles\n"
   ]
  },
  {
   "cell_type": "code",
   "execution_count": 5,
   "metadata": {},
   "outputs": [
    {
     "data": {
      "text/html": [
       "<div>\n",
       "<style scoped>\n",
       "    .dataframe tbody tr th:only-of-type {\n",
       "        vertical-align: middle;\n",
       "    }\n",
       "\n",
       "    .dataframe tbody tr th {\n",
       "        vertical-align: top;\n",
       "    }\n",
       "\n",
       "    .dataframe thead th {\n",
       "        text-align: right;\n",
       "    }\n",
       "</style>\n",
       "<table border=\"1\" class=\"dataframe\">\n",
       "  <thead>\n",
       "    <tr style=\"text-align: right;\">\n",
       "      <th></th>\n",
       "      <th>link</th>\n",
       "      <th>title</th>\n",
       "    </tr>\n",
       "  </thead>\n",
       "  <tbody>\n",
       "    <tr>\n",
       "      <th>0</th>\n",
       "      <td>https://www.rtbf.be/article/l-institut-federal...</td>\n",
       "      <td>L'Institut fédéral des droits humains met en g...</td>\n",
       "    </tr>\n",
       "    <tr>\n",
       "      <th>1</th>\n",
       "      <td>https://www.rtbf.be/article/accord-pour-gaza-i...</td>\n",
       "      <td>Accord pour Gaza : Israël devrait rouvrir merc...</td>\n",
       "    </tr>\n",
       "    <tr>\n",
       "      <th>2</th>\n",
       "      <td>https://www.rtbf.be/article/deux-exemplaires-d...</td>\n",
       "      <td>Deux exemplaires du \"Faux Soir\" mis aux enchèr...</td>\n",
       "    </tr>\n",
       "    <tr>\n",
       "      <th>3</th>\n",
       "      <td>https://www.rtbf.be/article/jamy-gourmaud-decr...</td>\n",
       "      <td>Jamy Gourmaud décrypte les phénomènes de la vi...</td>\n",
       "    </tr>\n",
       "    <tr>\n",
       "      <th>4</th>\n",
       "      <td>https://www.rtbf.be/article/le-ministre-franck...</td>\n",
       "      <td>Le ministre Francken demande l'utilisation de ...</td>\n",
       "    </tr>\n",
       "    <tr>\n",
       "      <th>...</th>\n",
       "      <td>...</td>\n",
       "      <td>...</td>\n",
       "    </tr>\n",
       "    <tr>\n",
       "      <th>75</th>\n",
       "      <td>https://www.rtbf.behttps://auvio.rtbf.be/media...</td>\n",
       "      <td>Microbrasseries belges : le goût du défi</td>\n",
       "    </tr>\n",
       "    <tr>\n",
       "      <th>76</th>\n",
       "      <td>https://www.rtbf.behttps://auvio.rtbf.be/media...</td>\n",
       "      <td>Le chemin du bonheur</td>\n",
       "    </tr>\n",
       "    <tr>\n",
       "      <th>77</th>\n",
       "      <td>https://www.rtbf.behttps://auvio.rtbf.be/media...</td>\n",
       "      <td>The Voice Kids S03</td>\n",
       "    </tr>\n",
       "    <tr>\n",
       "      <th>78</th>\n",
       "      <td>https://www.rtbf.behttps://auvio.rtbf.be/media...</td>\n",
       "      <td>Trains mythiques, paysages de légendes</td>\n",
       "    </tr>\n",
       "    <tr>\n",
       "      <th>79</th>\n",
       "      <td>https://www.rtbf.behttps://auvio.rtbf.be/media...</td>\n",
       "      <td>Météo 20h00</td>\n",
       "    </tr>\n",
       "  </tbody>\n",
       "</table>\n",
       "<p>80 rows × 2 columns</p>\n",
       "</div>"
      ],
      "text/plain": [
       "                                                 link  \\\n",
       "0   https://www.rtbf.be/article/l-institut-federal...   \n",
       "1   https://www.rtbf.be/article/accord-pour-gaza-i...   \n",
       "2   https://www.rtbf.be/article/deux-exemplaires-d...   \n",
       "3   https://www.rtbf.be/article/jamy-gourmaud-decr...   \n",
       "4   https://www.rtbf.be/article/le-ministre-franck...   \n",
       "..                                                ...   \n",
       "75  https://www.rtbf.behttps://auvio.rtbf.be/media...   \n",
       "76  https://www.rtbf.behttps://auvio.rtbf.be/media...   \n",
       "77  https://www.rtbf.behttps://auvio.rtbf.be/media...   \n",
       "78  https://www.rtbf.behttps://auvio.rtbf.be/media...   \n",
       "79  https://www.rtbf.behttps://auvio.rtbf.be/media...   \n",
       "\n",
       "                                                title  \n",
       "0   L'Institut fédéral des droits humains met en g...  \n",
       "1   Accord pour Gaza : Israël devrait rouvrir merc...  \n",
       "2   Deux exemplaires du \"Faux Soir\" mis aux enchèr...  \n",
       "3   Jamy Gourmaud décrypte les phénomènes de la vi...  \n",
       "4   Le ministre Francken demande l'utilisation de ...  \n",
       "..                                                ...  \n",
       "75           Microbrasseries belges : le goût du défi  \n",
       "76                               Le chemin du bonheur  \n",
       "77                                 The Voice Kids S03  \n",
       "78             Trains mythiques, paysages de légendes  \n",
       "79                                        Météo 20h00  \n",
       "\n",
       "[80 rows x 2 columns]"
      ]
     },
     "execution_count": 5,
     "metadata": {},
     "output_type": "execute_result"
    }
   ],
   "source": [
    "df = pd.DataFrame(articles, columns=['link', 'title'])\n",
    "df"
   ]
  },
  {
   "cell_type": "code",
   "execution_count": 6,
   "metadata": {},
   "outputs": [],
   "source": [
    "# Sauvegarde du dataframe dans un fichier csv\n",
    "df.to_csv(f\"../data/rtbf_{time.strftime('%Y%m%d')}.csv\", index=False)"
   ]
  },
  {
   "cell_type": "markdown",
   "metadata": {},
   "source": [
    "## Téléchargement d'un article et affichage du texte"
   ]
  },
  {
   "cell_type": "code",
   "execution_count": 7,
   "metadata": {},
   "outputs": [
    {
     "name": "stderr",
     "output_type": "stream",
     "text": [
      "C:\\Users\\Ing Armel Fopa\\AppData\\Local\\Temp\\ipykernel_5716\\3125040403.py:2: FutureWarning: Series.__getitem__ treating keys as positions is deprecated. In a future version, integer keys will always be treated as labels (consistent with DataFrame behavior). To access a value by position, use `ser.iloc[pos]`\n",
      "  article_url = df.iloc[0][0]\n"
     ]
    },
    {
     "name": "stdout",
     "output_type": "stream",
     "text": [
      "Belgique\n",
      "==================================\n",
      "Parmi les sujets de préoccupations de l'Institut  figurent notamment la non-exécution des décisions de justice, le manque de moyens alloués à cette dernière, le recours de plus en plus fréquent aux sanctions administratives ainsi que les restrictions aux libertés fondamentales comme le droit de manifester et la liberté d'expression.\n",
      "L'État de droit est une des pierres angulaires d'une société juste et fonctionnelle, rappelle l'institution pour qui la vigilance est donc de mise car même dans les démocraties établies comme la Belgique certains principes fondamentaux \" semblent avoir tendance à s'effriter \".\n",
      "L'IFDH recommande dès lors au pouvoir exécutif de prendre les droits humains et l'État de droit comme critère central lors de l'élaboration et de la mise en œuvre des politiques car \" certaines mesures prises, même lorsqu'elles paraissent bien intentionnées ou pragmatiques, peuvent miner la légitimité des politiques à long terme \", souligne l'instance.\n",
      "L'organe lance par ailleurs un appel aux parlementaires pour qu'ils demandent des comptes à l'exécutif lorsque les principes de l'État de droit sont ou risquent d'être violés. L'Institut demande également au pouvoir législatif d'inscrire les garanties nécessaires dans les lois et qu'il soumette les initiatives législatives à l'examen des obligations en matière de droits humains et des principes de l'État de droit.\n",
      "Mots clés de l'article\n",
      "Copyright ©  2025  RTBF\n"
     ]
    }
   ],
   "source": [
    "# Récupération du premier lien du dataframe\n",
    "article_url = df.iloc[0][0]\n",
    "\n",
    "# Ouverture de la page\n",
    "response = requests.get(article_url, headers=headers)\n",
    "soup = BeautifulSoup(response.content, 'html.parser')\n",
    "# Parsing du contenu\n",
    "title = soup.find(\"h1\").get_text(separator=' ')\n",
    "\n",
    "paragraphs = []\n",
    "for paragraph in soup.find_all(\"p\", attrs={\"class\": None}):\n",
    "    paragraphs.append(paragraph.get_text(separator=' ').strip())\n",
    "\n",
    "content = \"\\n\".join(paragraphs)\n",
    "print(title)\n",
    "print(\"==================================\")\n",
    "print(content)"
   ]
  },
  {
   "cell_type": "markdown",
   "metadata": {},
   "source": [
    "### Nettoyage du texte à l'aide d'expressions régulières"
   ]
  },
  {
   "cell_type": "code",
   "execution_count": 8,
   "metadata": {},
   "outputs": [
    {
     "name": "stdout",
     "output_type": "stream",
     "text": [
      "Parmi les sujets de préoccupations de l'Institut  figurent notamment la non-exécution des décisions de justice, le manque de moyens alloués à cette dernière, le recours de plus en plus fréquent aux sanctions administratives ainsi que les restrictions aux libertés fondamentales comme le droit de manifester et la liberté d'expression.\n",
      "L'État de droit est une des pierres angulaires d'une société juste et fonctionnelle, rappelle l'institution pour qui la vigilance est donc de mise car même dans les démocraties établies comme la Belgique certains principes fondamentaux \" semblent avoir tendance à s'effriter \".\n",
      "L'IFDH recommande dès lors au pouvoir exécutif de prendre les droits humains et l'État de droit comme critère central lors de l'élaboration et de la mise en œuvre des politiques car \" certaines mesures prises, même lorsqu'elles paraissent bien intentionnées ou pragmatiques, peuvent miner la légitimité des politiques à long terme \", souligne l'instance.\n",
      "L'organe lance par ailleurs un appel aux parlementaires pour qu'ils demandent des comptes à l'exécutif lorsque les principes de l'État de droit sont ou risquent d'être violés. L'Institut demande également au pouvoir législatif d'inscrire les garanties nécessaires dans les lois et qu'il soumette les initiatives législatives à l'examen des obligations en matière de droits humains et des principes de l'État de droit.\n",
      "Mots clés de l'article\n",
      "Copyright ©  2025  RTBF\n",
      "==================================\n",
      "Parmi les sujets de préoccupations de l'Institut figurent notamment la non-exécution des décisions de justice, le manque de moyens alloués à cette dernière, le recours de plus en plus fréquent aux sanctions administratives ainsi que les restrictions aux libertés fondamentales comme le droit de manifester et la liberté d'expression. L'État de droit est une des pierres angulaires d'une société juste et fonctionnelle, rappelle l'institution pour qui la vigilance est donc de mise car même dans les démocraties établies comme la Belgique certains principes fondamentaux \" semblent avoir tendance à s'effriter \". L'IFDH recommande dès lors au pouvoir exécutif de prendre les droits humains et l'État de droit comme critère central lors de l'élaboration et de la mise en œuvre des politiques car \" certaines mesures prises, même lorsqu'elles paraissent bien intentionnées ou pragmatiques, peuvent miner la légitimité des politiques à long terme \", souligne l'instance. L'organe lance par ailleurs un appel aux parlementaires pour qu'ils demandent des comptes à l'exécutif lorsque les principes de l'État de droit sont ou risquent d'être violés. L'Institut demande également au pouvoir législatif d'inscrire les garanties nécessaires dans les lois et qu'il soumette les initiatives législatives à l'examen des obligations en matière de droits humains et des principes de l'État de droit. Mots clés de l'article Copyright © 2025 RTBF\n"
     ]
    },
    {
     "name": "stderr",
     "output_type": "stream",
     "text": [
      "<>:2: SyntaxWarning: invalid escape sequence '\\('\n",
      "<>:4: SyntaxWarning: invalid escape sequence '\\s'\n",
      "<>:2: SyntaxWarning: invalid escape sequence '\\('\n",
      "<>:4: SyntaxWarning: invalid escape sequence '\\s'\n",
      "C:\\Users\\Ing Armel Fopa\\AppData\\Local\\Temp\\ipykernel_5716\\3799268790.py:2: SyntaxWarning: invalid escape sequence '\\('\n",
      "  clean_content = re.sub(\"\\([^\\)]+\\)\", \" \", content)\n",
      "C:\\Users\\Ing Armel Fopa\\AppData\\Local\\Temp\\ipykernel_5716\\3799268790.py:4: SyntaxWarning: invalid escape sequence '\\s'\n",
      "  clean_content = re.sub(\"\\s+\", \" \", clean_content)\n"
     ]
    }
   ],
   "source": [
    "# Suppression de tout ce qui se trouve entre parenthèses\n",
    "clean_content = re.sub(\"\\([^\\)]+\\)\", \" \", content)\n",
    "# Suppression des espaces multiples\n",
    "clean_content = re.sub(\"\\s+\", \" \", clean_content)\n",
    "\n",
    "print(content)\n",
    "print(\"==================================\")\n",
    "print(clean_content)\n"
   ]
  },
  {
   "cell_type": "markdown",
   "metadata": {},
   "source": [
    "### Création d'un fichier avec le contenu de l'article\n"
   ]
  },
  {
   "cell_type": "code",
   "execution_count": 9,
   "metadata": {},
   "outputs": [],
   "source": [
    "with open(\"../data/rtbf_example.txt\", \"w\") as writer:\n",
    "    writer.write(f\"{title}\\n\\n{clean_content}\")"
   ]
  },
  {
   "cell_type": "markdown",
   "metadata": {},
   "source": [
    "## Pour en savoir plus"
   ]
  },
  {
   "cell_type": "markdown",
   "metadata": {},
   "source": [
    "- Le web scraping avec Python: https://realpython.com/beautiful-soup-web-scraper-python/\n",
    "- Tutoriel sur les expressions régulières: https://www.w3schools.com/python/python_regex.asp"
   ]
  }
 ],
 "metadata": {
  "kernelspec": {
   "display_name": "PROJET_TAC_1_venv",
   "language": "python",
   "name": "python3"
  },
  "language_info": {
   "codemirror_mode": {
    "name": "ipython",
    "version": 3
   },
   "file_extension": ".py",
   "mimetype": "text/x-python",
   "name": "python",
   "nbconvert_exporter": "python",
   "pygments_lexer": "ipython3",
   "version": "3.13.9"
  }
 },
 "nbformat": 4,
 "nbformat_minor": 4
}
