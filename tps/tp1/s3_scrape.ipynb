{
 "cells": [
  {
   "cell_type": "markdown",
   "metadata": {},
   "source": [
    "# Scraping: récupération de la page d'accueil du journal Le Soir\n",
    "\n",
    "Dans ce notebook, nous créons un robot qui va ouvrir la page d'accueil du site du journal [Le Soir](https://www.lesoir.be/) et récupérer le titre de tous les articles du jour et les stocker dans un fichier csv."
   ]
  },
  {
   "cell_type": "markdown",
   "metadata": {},
   "source": [
    "## Imports"
   ]
  },
  {
   "cell_type": "code",
   "execution_count": 3,
   "metadata": {},
   "outputs": [],
   "source": [
    "import os\n",
    "import re\n",
    "import time\n",
    "import requests\n",
    "from bs4 import BeautifulSoup\n",
    "import pandas as pd"
   ]
  },
  {
   "cell_type": "markdown",
   "metadata": {},
   "source": [
    "## Récupération de tous les articles de la page d'accueil\n",
    "\n"
   ]
  },
  {
   "cell_type": "code",
   "execution_count": 4,
   "metadata": {},
   "outputs": [],
   "source": [
    "headers = {'User-Agent': 'Mozilla/5.0 (Macintosh; Intel Mac OS X 10_10_1) AppleWebKit/537.36 (KHTML, like Gecko) Chrome/39.0.2171.95 Safari/537.36'}\n",
    "\n",
    "articles = []\n",
    "\n",
    "root_url = f\"https://www.rtbf.be\"\n",
    "response = requests.get(root_url, headers=headers)\n",
    "soup = BeautifulSoup(response.text, 'html.parser')\n",
    "for link in soup.find_all(\"a\", {\"class\":\"stretched-link outline-hidden\"}):\n",
    "    title = link.text.strip()\n",
    "    url = root_url + link.get('href')\n",
    "    articles.append([url, title])"
   ]
  },
  {
   "cell_type": "code",
   "execution_count": 5,
   "metadata": {},
   "outputs": [
    {
     "data": {
      "text/plain": [
       "80"
      ]
     },
     "execution_count": 5,
     "metadata": {},
     "output_type": "execute_result"
    }
   ],
   "source": [
    "# Affichage du nombre d'articles récupérés\n",
    "len(articles)"
   ]
  },
  {
   "cell_type": "code",
   "execution_count": 6,
   "metadata": {},
   "outputs": [
    {
     "data": {
      "text/plain": [
       "[['https://www.rtbf.be/article/avortement-le-gouvernement-soumettra-une-proposition-de-loi-avant-les-vacances-11612870',\n",
       "  'Avortement\\xa0: le gouvernement soumettra une proposition de loi avant les vacances'],\n",
       " ['https://www.rtbf.be/article/amazon-va-livrer-le-jour-meme-l-impatience-est-elle-le-nouveau-reflexe-des-belges-11612706',\n",
       "  'Amazon va livrer le jour même\\xa0: l’impatience est-elle le nouveau réflexe des Belges\\xa0?'],\n",
       " ['https://www.rtbf.be/article/la-crise-politique-en-france-une-serie-pas-tres-subtile-11612773',\n",
       "  'La crise politique en France, une série pas très subtile'],\n",
       " ['https://www.rtbf.be/article/quand-le-handicap-ne-se-voit-pas-11612875',\n",
       "  'Quand le handicap ne se voit pas'],\n",
       " ['https://www.rtbf.be/article/en-egypte-une-stele-antique-de-plus-de-4000-ans-a-mysterieusement-disparu-11612174',\n",
       "  'En Égypte, une stèle antique de plus de\\xa04000 ans a mystérieusement disparu'],\n",
       " ['https://www.rtbf.be/article/un-nombre-exceptionnel-de-puffins-fuligineux-observes-a-la-cote-belge-11611907',\n",
       "  'Un nombre exceptionnel de puffins fuligineux observés à la côte belge'],\n",
       " ['https://www.rtbf.be/article/le-lion-de-guantanamo-un-roman-graphique-qui-devoile-l-histoire-de-cuba-ses-traditions-ses-usages-11605703',\n",
       "  '\"Le Lion de Guantanamo\" un roman graphique qui dévoile l’histoire de Cuba, ses traditions, ses usages…'],\n",
       " ['https://www.rtbf.be/article/nintendo-publie-un-court-metrage-d-animation-mysterieux-sur-un-bebe-voici-la-theorie-la-plus-plausible-11612719',\n",
       "  'Nintendo publie un court-métrage d’animation mystérieux sur un bébé\\xa0: voici la théorie la plus plausible'],\n",
       " ['https://www.rtbf.be/article/lutte-contre-le-trafic-de-drogue-operation-de-controle-au-port-de-liege-11612720',\n",
       "  'Lutte contre le trafic de drogue\\xa0: opération de contrôle inédite au port de Liège'],\n",
       " ['https://www.rtbf.be/article/france-la-motion-de-destitution-contre-emmanuel-macron-declaree-irrecevable-a-l-assemblee-11612810',\n",
       "  \"La motion de destitution contre Emmanuel Macron déclarée irrecevable à l'Assemblée\"]]"
      ]
     },
     "execution_count": 6,
     "metadata": {},
     "output_type": "execute_result"
    }
   ],
   "source": [
    "# Affichage des 10 premières entrées\n",
    "articles[:10]"
   ]
  },
  {
   "cell_type": "markdown",
   "metadata": {},
   "source": [
    "## Création d'un dataframe avec les liens et les titres des articles\n"
   ]
  },
  {
   "cell_type": "code",
   "execution_count": 7,
   "metadata": {},
   "outputs": [
    {
     "data": {
      "text/html": [
       "<div>\n",
       "<style scoped>\n",
       "    .dataframe tbody tr th:only-of-type {\n",
       "        vertical-align: middle;\n",
       "    }\n",
       "\n",
       "    .dataframe tbody tr th {\n",
       "        vertical-align: top;\n",
       "    }\n",
       "\n",
       "    .dataframe thead th {\n",
       "        text-align: right;\n",
       "    }\n",
       "</style>\n",
       "<table border=\"1\" class=\"dataframe\">\n",
       "  <thead>\n",
       "    <tr style=\"text-align: right;\">\n",
       "      <th></th>\n",
       "      <th>link</th>\n",
       "      <th>title</th>\n",
       "    </tr>\n",
       "  </thead>\n",
       "  <tbody>\n",
       "    <tr>\n",
       "      <th>0</th>\n",
       "      <td>https://www.rtbf.be/article/avortement-le-gouv...</td>\n",
       "      <td>Avortement : le gouvernement soumettra une pro...</td>\n",
       "    </tr>\n",
       "    <tr>\n",
       "      <th>1</th>\n",
       "      <td>https://www.rtbf.be/article/amazon-va-livrer-l...</td>\n",
       "      <td>Amazon va livrer le jour même : l’impatience e...</td>\n",
       "    </tr>\n",
       "    <tr>\n",
       "      <th>2</th>\n",
       "      <td>https://www.rtbf.be/article/la-crise-politique...</td>\n",
       "      <td>La crise politique en France, une série pas tr...</td>\n",
       "    </tr>\n",
       "    <tr>\n",
       "      <th>3</th>\n",
       "      <td>https://www.rtbf.be/article/quand-le-handicap-...</td>\n",
       "      <td>Quand le handicap ne se voit pas</td>\n",
       "    </tr>\n",
       "    <tr>\n",
       "      <th>4</th>\n",
       "      <td>https://www.rtbf.be/article/en-egypte-une-stel...</td>\n",
       "      <td>En Égypte, une stèle antique de plus de 4000 a...</td>\n",
       "    </tr>\n",
       "    <tr>\n",
       "      <th>...</th>\n",
       "      <td>...</td>\n",
       "      <td>...</td>\n",
       "    </tr>\n",
       "    <tr>\n",
       "      <th>75</th>\n",
       "      <td>https://www.rtbf.behttps://auvio.rtbf.be/media...</td>\n",
       "      <td>Feux de l'amour S27</td>\n",
       "    </tr>\n",
       "    <tr>\n",
       "      <th>76</th>\n",
       "      <td>https://www.rtbf.behttps://auvio.rtbf.be/media...</td>\n",
       "      <td>Les Invisibles S04</td>\n",
       "    </tr>\n",
       "    <tr>\n",
       "      <th>77</th>\n",
       "      <td>https://www.rtbf.behttps://auvio.rtbf.be/media...</td>\n",
       "      <td>Enquête sur la crise en psychiatrie</td>\n",
       "    </tr>\n",
       "    <tr>\n",
       "      <th>78</th>\n",
       "      <td>https://www.rtbf.behttps://auvio.rtbf.be/media...</td>\n",
       "      <td>Une affaire d'honneur</td>\n",
       "    </tr>\n",
       "    <tr>\n",
       "      <th>79</th>\n",
       "      <td>https://www.rtbf.behttps://auvio.rtbf.be/media...</td>\n",
       "      <td>Meurtres à Mont-de-Marsan</td>\n",
       "    </tr>\n",
       "  </tbody>\n",
       "</table>\n",
       "<p>80 rows × 2 columns</p>\n",
       "</div>"
      ],
      "text/plain": [
       "                                                 link  \\\n",
       "0   https://www.rtbf.be/article/avortement-le-gouv...   \n",
       "1   https://www.rtbf.be/article/amazon-va-livrer-l...   \n",
       "2   https://www.rtbf.be/article/la-crise-politique...   \n",
       "3   https://www.rtbf.be/article/quand-le-handicap-...   \n",
       "4   https://www.rtbf.be/article/en-egypte-une-stel...   \n",
       "..                                                ...   \n",
       "75  https://www.rtbf.behttps://auvio.rtbf.be/media...   \n",
       "76  https://www.rtbf.behttps://auvio.rtbf.be/media...   \n",
       "77  https://www.rtbf.behttps://auvio.rtbf.be/media...   \n",
       "78  https://www.rtbf.behttps://auvio.rtbf.be/media...   \n",
       "79  https://www.rtbf.behttps://auvio.rtbf.be/media...   \n",
       "\n",
       "                                                title  \n",
       "0   Avortement : le gouvernement soumettra une pro...  \n",
       "1   Amazon va livrer le jour même : l’impatience e...  \n",
       "2   La crise politique en France, une série pas tr...  \n",
       "3                    Quand le handicap ne se voit pas  \n",
       "4   En Égypte, une stèle antique de plus de 4000 a...  \n",
       "..                                                ...  \n",
       "75                                Feux de l'amour S27  \n",
       "76                                 Les Invisibles S04  \n",
       "77                Enquête sur la crise en psychiatrie  \n",
       "78                              Une affaire d'honneur  \n",
       "79                          Meurtres à Mont-de-Marsan  \n",
       "\n",
       "[80 rows x 2 columns]"
      ]
     },
     "execution_count": 7,
     "metadata": {},
     "output_type": "execute_result"
    }
   ],
   "source": [
    "df = pd.DataFrame(articles, columns=['link', 'title'])\n",
    "df"
   ]
  },
  {
   "cell_type": "code",
   "execution_count": 8,
   "metadata": {},
   "outputs": [],
   "source": [
    "# Sauvegarde du dataframe dans un fichier csv\n",
    "df.to_csv(f\"../data/rtbf_{time.strftime('%Y%m%d')}.csv\", index=False)"
   ]
  },
  {
   "cell_type": "markdown",
   "metadata": {},
   "source": [
    "## Téléchargement d'un article et affichage du texte"
   ]
  },
  {
   "cell_type": "code",
   "execution_count": 9,
   "metadata": {},
   "outputs": [
    {
     "name": "stderr",
     "output_type": "stream",
     "text": [
      "C:\\Users\\Ing Armel Fopa\\AppData\\Local\\Temp\\ipykernel_24888\\3125040403.py:2: FutureWarning: Series.__getitem__ treating keys as positions is deprecated. In a future version, integer keys will always be treated as labels (consistent with DataFrame behavior). To access a value by position, use `ser.iloc[pos]`\n",
      "  article_url = df.iloc[0][0]\n"
     ]
    },
    {
     "name": "stdout",
     "output_type": "stream",
     "text": [
      "Avortement : le gouvernement soumettra une proposition de loi avant les vacances\n",
      "==================================\n",
      "En attendant, la commission de la Justice de la Chambre a rejeté une proposition de loi d’Ecolo-Groen qui dépénalise le droit à l’avortement, supprime le délai de réflexion et  allonge le recours à la procédure à 18 semaines .\n",
      "La séance a connu un retard au démarrage en l’absence de la majorité. La coalition Arizona est divisée sur cette question entre partis qui soutiennent le dispositif proposé par une partie de l’opposition, et qui s’appuie sur un rapport d’experts pluridisciplinaires, et les partis qui y sont opposés, en particulier le  CD&V  et la N-VA.\n",
      "\" L’accord de coalition est clair : la législation sera modifiée. La ministre de la Justice Annelies Verlinden travaille actuellement sur un texte \", a assuré Mme Farih. La députée a rappelé que d’autres questions éthiques étaient également à l’ordre du jour, telles que la maternité de substitution, l’accouchement discret, l’euthanasie en cas de démence, etc. L’argument n’a pas convaincu l’opposition, Vlaams Belang excepté.\n",
      "L’autrice du texte soumis au vote, Sarah Schlitz, doute de la sincérité du CD&V. L’élue redoute que les chrétiens-démocrates utilisent ce dossier comme un outil pour en marchander d’autres. \" Je doute que cela arrive l’année prochaine et d’ici là, 400 femmes seront forcées d’aller à l’étranger pour avorter \", a-t-elle affirmé.\n",
      "Mots clés de l'article\n",
      "Copyright ©  2025  RTBF\n"
     ]
    }
   ],
   "source": [
    "# Récupération du premier lien du dataframe\n",
    "article_url = df.iloc[0][0]\n",
    "\n",
    "# Ouverture de la page\n",
    "response = requests.get(article_url, headers=headers)\n",
    "soup = BeautifulSoup(response.content, 'html.parser')\n",
    "# Parsing du contenu\n",
    "title = soup.find(\"h1\").get_text(separator=' ')\n",
    "\n",
    "paragraphs = []\n",
    "for paragraph in soup.find_all(\"p\", attrs={\"class\": None}):\n",
    "    paragraphs.append(paragraph.get_text(separator=' ').strip())\n",
    "\n",
    "content = \"\\n\".join(paragraphs)\n",
    "print(title)\n",
    "print(\"==================================\")\n",
    "print(content)"
   ]
  },
  {
   "cell_type": "markdown",
   "metadata": {},
   "source": [
    "### Nettoyage du texte à l'aide d'expressions régulières"
   ]
  },
  {
   "cell_type": "code",
   "execution_count": 10,
   "metadata": {},
   "outputs": [
    {
     "name": "stdout",
     "output_type": "stream",
     "text": [
      "En attendant, la commission de la Justice de la Chambre a rejeté une proposition de loi d’Ecolo-Groen qui dépénalise le droit à l’avortement, supprime le délai de réflexion et  allonge le recours à la procédure à 18 semaines .\n",
      "La séance a connu un retard au démarrage en l’absence de la majorité. La coalition Arizona est divisée sur cette question entre partis qui soutiennent le dispositif proposé par une partie de l’opposition, et qui s’appuie sur un rapport d’experts pluridisciplinaires, et les partis qui y sont opposés, en particulier le  CD&V  et la N-VA.\n",
      "\" L’accord de coalition est clair : la législation sera modifiée. La ministre de la Justice Annelies Verlinden travaille actuellement sur un texte \", a assuré Mme Farih. La députée a rappelé que d’autres questions éthiques étaient également à l’ordre du jour, telles que la maternité de substitution, l’accouchement discret, l’euthanasie en cas de démence, etc. L’argument n’a pas convaincu l’opposition, Vlaams Belang excepté.\n",
      "L’autrice du texte soumis au vote, Sarah Schlitz, doute de la sincérité du CD&V. L’élue redoute que les chrétiens-démocrates utilisent ce dossier comme un outil pour en marchander d’autres. \" Je doute que cela arrive l’année prochaine et d’ici là, 400 femmes seront forcées d’aller à l’étranger pour avorter \", a-t-elle affirmé.\n",
      "Mots clés de l'article\n",
      "Copyright ©  2025  RTBF\n",
      "==================================\n",
      "En attendant, la commission de la Justice de la Chambre a rejeté une proposition de loi d’Ecolo-Groen qui dépénalise le droit à l’avortement, supprime le délai de réflexion et allonge le recours à la procédure à 18 semaines . La séance a connu un retard au démarrage en l’absence de la majorité. La coalition Arizona est divisée sur cette question entre partis qui soutiennent le dispositif proposé par une partie de l’opposition, et qui s’appuie sur un rapport d’experts pluridisciplinaires, et les partis qui y sont opposés, en particulier le CD&V et la N-VA. \" L’accord de coalition est clair : la législation sera modifiée. La ministre de la Justice Annelies Verlinden travaille actuellement sur un texte \", a assuré Mme Farih. La députée a rappelé que d’autres questions éthiques étaient également à l’ordre du jour, telles que la maternité de substitution, l’accouchement discret, l’euthanasie en cas de démence, etc. L’argument n’a pas convaincu l’opposition, Vlaams Belang excepté. L’autrice du texte soumis au vote, Sarah Schlitz, doute de la sincérité du CD&V. L’élue redoute que les chrétiens-démocrates utilisent ce dossier comme un outil pour en marchander d’autres. \" Je doute que cela arrive l’année prochaine et d’ici là, 400 femmes seront forcées d’aller à l’étranger pour avorter \", a-t-elle affirmé. Mots clés de l'article Copyright © 2025 RTBF\n"
     ]
    },
    {
     "name": "stderr",
     "output_type": "stream",
     "text": [
      "<>:2: SyntaxWarning: invalid escape sequence '\\('\n",
      "<>:4: SyntaxWarning: invalid escape sequence '\\s'\n",
      "<>:2: SyntaxWarning: invalid escape sequence '\\('\n",
      "<>:4: SyntaxWarning: invalid escape sequence '\\s'\n",
      "C:\\Users\\Ing Armel Fopa\\AppData\\Local\\Temp\\ipykernel_24888\\3799268790.py:2: SyntaxWarning: invalid escape sequence '\\('\n",
      "  clean_content = re.sub(\"\\([^\\)]+\\)\", \" \", content)\n",
      "C:\\Users\\Ing Armel Fopa\\AppData\\Local\\Temp\\ipykernel_24888\\3799268790.py:4: SyntaxWarning: invalid escape sequence '\\s'\n",
      "  clean_content = re.sub(\"\\s+\", \" \", clean_content)\n"
     ]
    }
   ],
   "source": [
    "# Suppression de tout ce qui se trouve entre parenthèses\n",
    "clean_content = re.sub(\"\\([^\\)]+\\)\", \" \", content)\n",
    "# Suppression des espaces multiples\n",
    "clean_content = re.sub(\"\\s+\", \" \", clean_content)\n",
    "\n",
    "print(content)\n",
    "print(\"==================================\")\n",
    "print(clean_content)\n"
   ]
  },
  {
   "cell_type": "markdown",
   "metadata": {},
   "source": [
    "### Création d'un fichier avec le contenu de l'article\n"
   ]
  },
  {
   "cell_type": "code",
   "execution_count": 11,
   "metadata": {},
   "outputs": [],
   "source": [
    "with open(\"../data/rtbf_example.txt\", \"w\") as writer:\n",
    "    writer.write(f\"{title}\\n\\n{clean_content}\")"
   ]
  },
  {
   "cell_type": "markdown",
   "metadata": {},
   "source": [
    "## Pour en savoir plus"
   ]
  },
  {
   "cell_type": "markdown",
   "metadata": {},
   "source": [
    "- Le web scraping avec Python: https://realpython.com/beautiful-soup-web-scraper-python/\n",
    "- Tutoriel sur les expressions régulières: https://www.w3schools.com/python/python_regex.asp"
   ]
  }
 ],
 "metadata": {
  "kernelspec": {
   "display_name": "PROJET_TAC_1_venv",
   "language": "python",
   "name": "python3"
  },
  "language_info": {
   "codemirror_mode": {
    "name": "ipython",
    "version": 3
   },
   "file_extension": ".py",
   "mimetype": "text/x-python",
   "name": "python",
   "nbconvert_exporter": "python",
   "pygments_lexer": "ipython3",
   "version": "3.13.8"
  }
 },
 "nbformat": 4,
 "nbformat_minor": 4
}
