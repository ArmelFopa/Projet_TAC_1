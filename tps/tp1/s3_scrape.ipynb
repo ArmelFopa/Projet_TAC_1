{
 "cells": [
  {
   "cell_type": "markdown",
   "metadata": {},
   "source": [
    "# Scraping: récupération de la page d'accueil du journal Le Soir\n",
    "\n",
    "Dans ce notebook, nous créons un robot qui va ouvrir la page d'accueil du site du journal [Le Soir](https://www.lesoir.be/) et récupérer le titre de tous les articles du jour et les stocker dans un fichier csv."
   ]
  },
  {
   "cell_type": "markdown",
   "metadata": {},
   "source": [
    "## Imports"
   ]
  },
  {
   "cell_type": "code",
   "execution_count": 9,
   "metadata": {},
   "outputs": [],
   "source": [
    "import os\n",
    "import certifi\n",
    "#import re\n",
    "#import time\n",
    "import requests\n",
    "from bs4 import BeautifulSoup\n",
    "#import pandas as pd\n",
    "from pathlib import Path"
   ]
  },
  {
   "cell_type": "markdown",
   "metadata": {},
   "source": [
    "## Telechargement de la page \n",
    "\n"
   ]
  },
  {
   "cell_type": "code",
   "execution_count": 24,
   "metadata": {},
   "outputs": [
    {
     "name": "stdout",
     "output_type": "stream",
     "text": [
      "Page téléchargée\n"
     ]
    },
    {
     "name": "stderr",
     "output_type": "stream",
     "text": [
      "c:\\Users\\Ing Armel Fopa\\Desktop\\cours M2\\Bloc 1 2026\\STIC-B545 - Traitement automatique de corpus - 202526\\PROJET\\Projet_TAC_1\\PROJET_TAC_1_venv\\Lib\\site-packages\\urllib3\\connectionpool.py:1097: InsecureRequestWarning: Unverified HTTPS request is being made to host 'max.de.wilde.web.ulb.be'. Adding certificate verification is strongly advised. See: https://urllib3.readthedocs.io/en/latest/advanced-usage.html#tls-warnings\n",
      "  warnings.warn(\n"
     ]
    }
   ],
   "source": [
    "#Le site de cours \"https://max.de.wilde.web.ulb.be/camille/\" présente un certificat SSL non reconnu par Python.\n",
    "# La vérification a donc été désactivée via `verify=False` pour permettre le téléchargement de la page.\n",
    "\n",
    "\n",
    "headers = {'User-Agent': 'Mozilla/5.0 (Macintosh; Intel Mac OS X 10_10_1) AppleWebKit/537.36 (KHTML, like Gecko) Chrome/39.0.2171.95 Safari/537.36'}\n",
    "\n",
    "# base_url (équivalent de root_url)\n",
    "base_url = \"https://max.de.wilde.web.ulb.be/camille/\"\n",
    "\n",
    "response = requests.get(base_url, headers=headers, verify=False)\n",
    "\n",
    "print(\"Page téléchargée\" if response.status_code == 200 else f\" Erreur {response.status_code}\")"
   ]
  },
  {
   "cell_type": "markdown",
   "metadata": {},
   "source": [
    "Extractions des liens PDF"
   ]
  },
  {
   "cell_type": "code",
   "execution_count": 25,
   "metadata": {},
   "outputs": [
    {
     "name": "stdout",
     "output_type": "stream",
     "text": [
      "51 liens trouvés.\n"
     ]
    },
    {
     "data": {
      "text/plain": [
       "[['https://max.de.wilde.web.ulb.be/camille/KB_JB230_1892-08-07_01-0003.pdf',\n",
       "  'KB_JB230_1892-08-07_01-0003.pdf'],\n",
       " ['https://max.de.wilde.web.ulb.be/camille/KB_JB427_1920-01-10_01-00004.pdf',\n",
       "  'KB_JB427_1920-01-10_01-00004.pdf'],\n",
       " ['https://max.de.wilde.web.ulb.be/camille/KB_JB555_1836-02-08_01-00002.pdf',\n",
       "  'KB_JB555_1836-02-08_01-00002.pdf'],\n",
       " ['https://max.de.wilde.web.ulb.be/camille/KB_JB638_1860-05-21_01-00002.pdf',\n",
       "  'KB_JB638_1860-05-21_01-00002.pdf'],\n",
       " ['https://max.de.wilde.web.ulb.be/camille/KB_JB773_1918-11-30_01-00002.pdf',\n",
       "  'KB_JB773_1918-11-30_01-00002.pdf'],\n",
       " ['https://max.de.wilde.web.ulb.be/camille/KB_JB838_1887-12-28_01-00003.pdf',\n",
       "  'KB_JB838_1887-12-28_01-00003.pdf'],\n",
       " ['https://max.de.wilde.web.ulb.be/camille/KB_JB230_1903-10-16_01-0002.pdf',\n",
       "  'KB_JB230_1903-10-16_01-0002.pdf'],\n",
       " ['https://max.de.wilde.web.ulb.be/camille/KB_JB427_1933-01-04_01-00003.pdf',\n",
       "  'KB_JB427_1933-01-04_01-00003.pdf'],\n",
       " ['https://max.de.wilde.web.ulb.be/camille/KB_JB555_1899-01-19_01-00003.pdf',\n",
       "  'KB_JB555_1899-01-19_01-00003.pdf'],\n",
       " ['https://max.de.wilde.web.ulb.be/camille/KB_JB638_1902-12-20_01-00002.pdf',\n",
       "  'KB_JB638_1902-12-20_01-00002.pdf']]"
      ]
     },
     "execution_count": 25,
     "metadata": {},
     "output_type": "execute_result"
    }
   ],
   "source": [
    "from urllib.parse import urljoin\n",
    "\n",
    "# on parse la page\n",
    "soup = BeautifulSoup(response.text, 'html.parser')\n",
    "\n",
    "# liste où on collectera les URLs / noms de fichiers PDF\n",
    "pdf_files = []\n",
    "\n",
    "for link in soup.find_all(\"a\", href=True):\n",
    "    href = link.get(\"href\").strip()\n",
    "\n",
    "    full_url = urljoin(base_url, href)\n",
    "\n",
    "    if \".pdf\" in full_url.lower():\n",
    "\n",
    "        title = link.text.strip() or full_url.split(\"/\")[-1]\n",
    "        pdf_files.append([full_url, title])\n",
    "\n",
    "print(f\"{len(pdf_files)} liens trouvés.\")\n",
    "pdf_files[:10]"
   ]
  },
  {
   "cell_type": "markdown",
   "metadata": {},
   "source": [
    "Preparation du dossier de destination"
   ]
  },
  {
   "cell_type": "code",
   "execution_count": 44,
   "metadata": {},
   "outputs": [
    {
     "name": "stdout",
     "output_type": "stream",
     "text": [
      "Dossier de destination : ..\\data\\camille_pdf\n",
      "51 fichiers PDF trouvés sur la page CAMille.\n",
      "\n",
      "1 ['https://max.de.wilde.web.ulb.be/camille/KB_JB230_1892-08-07_01-0003.pdf', 'KB_JB230_1892-08-07_01-0003.pdf']\n",
      "2 ['https://max.de.wilde.web.ulb.be/camille/KB_JB427_1920-01-10_01-00004.pdf', 'KB_JB427_1920-01-10_01-00004.pdf']\n",
      "3 ['https://max.de.wilde.web.ulb.be/camille/KB_JB555_1836-02-08_01-00002.pdf', 'KB_JB555_1836-02-08_01-00002.pdf']\n",
      "4 ['https://max.de.wilde.web.ulb.be/camille/KB_JB638_1860-05-21_01-00002.pdf', 'KB_JB638_1860-05-21_01-00002.pdf']\n",
      "5 ['https://max.de.wilde.web.ulb.be/camille/KB_JB773_1918-11-30_01-00002.pdf', 'KB_JB773_1918-11-30_01-00002.pdf']\n"
     ]
    }
   ],
   "source": [
    "data_dir = Path(\"../data/camille_pdf\")\n",
    "data_dir.mkdir(parents=True, exist_ok=True)\n",
    "\n",
    "print(f\"Dossier de destination : {data_dir}\")\n",
    "print(f\"{len(pdf_files)} fichiers PDF trouvés sur la page CAMille.\\n\")\n",
    "\n",
    "n = 5\n",
    "for i, link in enumerate (pdf_files[:n], start=1):\n",
    "     print(i, link)"
   ]
  },
  {
   "cell_type": "markdown",
   "metadata": {},
   "source": [
    "Téléchargement des fichiers PDF"
   ]
  },
  {
   "cell_type": "code",
   "execution_count": 48,
   "metadata": {},
   "outputs": [
    {
     "name": "stdout",
     "output_type": "stream",
     "text": [
      "[1/51] Déjà présent : KB_JB230_1892-08-07_01-0003.pdf\n",
      "[2/51] Déjà présent : KB_JB427_1920-01-10_01-00004.pdf\n",
      "[3/51] Déjà présent : KB_JB555_1836-02-08_01-00002.pdf\n",
      "[4/51] Déjà présent : KB_JB638_1860-05-21_01-00002.pdf\n",
      "[5/51] Déjà présent : KB_JB773_1918-11-30_01-00002.pdf\n",
      "[6/51] Déjà présent : KB_JB838_1887-12-28_01-00003.pdf\n",
      "[7/51] Déjà présent : KB_JB230_1903-10-16_01-0002.pdf\n",
      "[8/51] Déjà présent : KB_JB427_1933-01-04_01-00003.pdf\n",
      "[9/51] Déjà présent : KB_JB555_1899-01-19_01-00003.pdf\n",
      "[10/51] Déjà présent : KB_JB638_1902-12-20_01-00002.pdf\n",
      "[11/51] Déjà présent : KB_JB773_1933-10-07_01-00007.pdf\n",
      "[12/51] Déjà présent : KB_JB838_1911-08-03_01-00006.pdf\n",
      "[13/51] Déjà présent : KB_JB230_1913-07-05_01-0001.pdf\n",
      "[14/51] Déjà présent : KB_JB427_1949-07-18_01-00008.pdf\n",
      "[15/51] Déjà présent : KB_JB555_1940-03-01_01-00004.pdf\n",
      "[16/51] Déjà présent : KB_JB638_1946-07-18_01-00003.pdf\n",
      "[17/51] Déjà présent : KB_JB773_1950-07-22_01-00010.pdf\n",
      "[18/51] Déjà présent : KB_JB838_1943-09-04_01-00002.pdf\n",
      "[19/51] Déjà présent : KB_JB258_1884-09-03_01-0003.pdf\n",
      "[20/51] Déjà présent : KB_JB449_1846-05-30_01-00002.pdf\n",
      "[21/51] Déjà présent : KB_JB567_1857-02-02_01-00003.pdf\n",
      "[22/51] Déjà présent : KB_JB685_1894-05-14_01-0003.pdf\n",
      "[23/51] Déjà présent : KB_JB835_1911-04-24_01-00004.pdf\n",
      "[24/51] Déjà présent : KB_JB92_1860-02-09_01-00003.pdf\n",
      "[25/51] Déjà présent : KB_JB258_1894-12-09_01-0003.pdf\n",
      "[26/51] Déjà présent : KB_JB449_1912-01-04_01-00003.pdf\n",
      "[27/51] Déjà présent : KB_JB567_1892-01-03_01-00005.pdf\n",
      "[28/51] Déjà présent : KB_JB685_1903-01-18_01-0002.pdf\n",
      "[29/51] Déjà présent : KB_JB835_1930-04-08_01-00006.pdf\n",
      "[30/51] Déjà présent : KB_JB92_1873-02-06_01-00002.pdf\n",
      "[31/51] Déjà présent : KB_JB258_1906-01-09_01-0002.pdf\n",
      "[32/51] Déjà présent : KB_JB449_1947-08-29_01-00003.pdf\n",
      "[33/51] Déjà présent : KB_JB567_1924-08-30_01-00003.pdf\n",
      "[34/51] Déjà présent : KB_JB685_1913-06-07_01-0006.pdf\n",
      "[35/51] Déjà présent : KB_JB835_1949-09-18_01-00004.pdf\n",
      "[36/51] Déjà présent : KB_JB92_1885-09-29_01-00002.pdf\n",
      "[37/51] Déjà présent : KB_JB421_1899-05-15_01-00003.pdf\n",
      "[38/51] Déjà présent : KB_JB494_1853-10-30_01-0002.pdf\n",
      "[39/51] Déjà présent : KB_JB572_1850-03-15_01-00003.pdf\n",
      "[40/51] Déjà présent : KB_JB729_1895-10-08_01-00003.pdf\n",
      "[41/51] Déjà présent : KB_JB837_1886-12-28_01-00002.pdf\n",
      "[42/51] Déjà présent : KB_JB421_1926-10-29_01-00002.pdf\n",
      "[43/51] Déjà présent : KB_JB494_1922-09-28_01-0005.pdf\n",
      "[44/51] Déjà présent : KB_JB572_1927-07-20_01-00005.pdf\n",
      "[45/51] Déjà présent : KB_JB729_1927-11-15_01-00004.pdf\n",
      "[46/51] Déjà présent : KB_JB837_1925-01-01_01-00003.pdf\n",
      "[47/51] Déjà présent : KB_JB421_1950-04-15_01-00004.pdf\n",
      "[48/51] Déjà présent : KB_JB494_1939-12-08_01-0004.pdf\n",
      "[49/51] Déjà présent : KB_JB572_1950-06-07_01-00004.pdf\n",
      "[50/51] Déjà présent : KB_JB729_1939-10-31_01-00006.pdf\n",
      "[51/51] Déjà présent : KB_JB837_1950-12-01_01-00007.pdf\n"
     ]
    }
   ],
   "source": [
    "total = len(pdf_files)\n",
    "failures = []\n",
    "\n",
    "for i, (pdf_url, title) in enumerate(pdf_files, start=1):\n",
    "    filename = pdf_url.split(\"/\")[-1]\n",
    "    dest = data_dir / filename\n",
    "\n",
    "    # Si le fichier est déjà présent et non vide, on le saute\n",
    "    if dest.exists() and dest.stat().st_size > 0:\n",
    "        print(f\"[{i}/{total}] Déjà présent : {filename}\")\n",
    "        continue\n",
    "\n",
    "    try:\n",
    "        with requests.get(pdf_url, headers=headers, verify=False, stream=True, timeout=60) as r:\n",
    "            r.raise_for_status()\n",
    "            with open(dest, \"wb\") as f:\n",
    "                for chunk in r.iter_content(chunk_size=8192):\n",
    "                    if chunk:\n",
    "                        f.write(chunk)\n",
    "        if dest.stat().st_size > 0:\n",
    "            print(f\"[{i}/{total}] Téléchargé : {filename}\")\n",
    "        else:\n",
    "            failures.append((pdf_url, \"Taille 0\"))\n",
    "            print(f\"[{i}/{total}] Fichier vide : {filename}\")\n",
    "    except Exception as e:\n",
    "        failures.append((pdf_url, str(e)))\n",
    "        print(f\"[{i}/{total}] Erreur sur {filename} : {e}\")"
   ]
  },
  {
   "cell_type": "markdown",
   "metadata": {},
   "source": [
    "Verification du nombre de fichiers telechargés"
   ]
  },
  {
   "cell_type": "code",
   "execution_count": 50,
   "metadata": {},
   "outputs": [
    {
     "name": "stdout",
     "output_type": "stream",
     "text": [
      "\n",
      "--- RÉSUMÉ ---\n",
      "Attendus : 51 | Téléchargés : 51 | Échecs : 0\n"
     ]
    }
   ],
   "source": [
    "print(\"\\n--- RÉSUMÉ ---\")\n",
    "print(f\"Attendus : {total} | Téléchargés : {len(list(data_dir.glob('*.pdf')))} | Échecs : {len(failures)}\")"
   ]
  },
  {
   "cell_type": "markdown",
   "metadata": {},
   "source": [
    "## Pour en savoir plus"
   ]
  },
  {
   "cell_type": "markdown",
   "metadata": {},
   "source": [
    "- Le web scraping avec Python: https://realpython.com/beautiful-soup-web-scraper-python/\n",
    "- Tutoriel sur les expressions régulières: https://www.w3schools.com/python/python_regex.asp"
   ]
  }
 ],
 "metadata": {
  "kernelspec": {
   "display_name": "PROJET_TAC_1_venv",
   "language": "python",
   "name": "python3"
  },
  "language_info": {
   "codemirror_mode": {
    "name": "ipython",
    "version": 3
   },
   "file_extension": ".py",
   "mimetype": "text/x-python",
   "name": "python",
   "nbconvert_exporter": "python",
   "pygments_lexer": "ipython3",
   "version": "3.13.9"
  }
 },
 "nbformat": 4,
 "nbformat_minor": 4
}
