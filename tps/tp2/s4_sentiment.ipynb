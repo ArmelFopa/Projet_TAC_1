{
 "cells": [
  {
   "cell_type": "markdown",
   "metadata": {},
   "source": [
    "# Sentiment analysis \n",
    "\n",
    "\n",
    "\n",
    "Documentation: https://textblob.readthedocs.io/en/"
   ]
  },
  {
   "cell_type": "markdown",
   "metadata": {},
   "source": [
    "Preparation et chargement du corpus"
   ]
  },
  {
   "cell_type": "code",
   "execution_count": 1,
   "metadata": {},
   "outputs": [
    {
     "name": "stdout",
     "output_type": "stream",
     "text": [
      "Fichiers trouvés pour 1950: 4\n",
      "Taille du corpus 1950: 133,895 caractères\n",
      "\n",
      "Extrait:\n",
      " L'AVENIR DU LUXEMBOURG Samedi 15 avri j 350, \n",
      "MORHET \n",
      "Soirée dramatique \n",
      "1 Le cercle dramatique Sainte-Cécile \n",
      "de Morhet reprendra, ce dimanche 16 \n",
      "avril ^Quasimodo), sa brillante soirée \n",
      "qui a remporté un succès si remarqua-\n",
      "| bie le 10 mars dernier. \n",
      "i Rappelons ie programme : \n",
      "; 1) ouverture : « Brabançonne »,par \n",
      "• la Fantare ; 2) « La .bohème », chœur \n",
      "à 2 voix exécuté par JV^.es Renée Cara, \n",
      "j Josée Goffin, Anyse Hubermont et Hé-\n",
      "f lène Bellanger ; a) La comédie en deux \n",
      "actes de Marcell* \n"
     ]
    }
   ],
   "source": [
    "from pathlib import Path\n",
    "import re\n",
    "\n",
    "\n",
    "data_dir = Path(\"../../data/txt\")\n",
    "\n",
    "all_txt = list(data_dir.glob(\"*.txt\"))\n",
    "\n",
    "YEAR = \"1950\"\n",
    "pat = re.compile(rf\"{YEAR}\")\n",
    "\n",
    "files_year = [p for p in all_txt if pat.search(p.name)]\n",
    "print(f\"Fichiers trouvés pour {YEAR}: {len(files_year)}\")\n",
    "\n",
    "corpus_year = \"\"\n",
    "for path in files_year:\n",
    "    for enc in (\"utf-8\", \"latin-1\", \"cp1252\"):\n",
    "        try:\n",
    "            with open(path, \"r\", encoding=enc, errors=\"ignore\") as f:\n",
    "                corpus_year += f.read() + \"\\n\"\n",
    "            break\n",
    "        except Exception:\n",
    "            continue\n",
    "\n",
    "print(f\"Taille du corpus {YEAR}: {len(corpus_year):,} caractères\")\n",
    "print(\"\\nExtrait:\\n\", corpus_year[:500])"
   ]
  },
  {
   "cell_type": "markdown",
   "metadata": {},
   "source": []
  },
  {
   "cell_type": "code",
   "execution_count": 2,
   "metadata": {},
   "outputs": [
    {
     "name": "stderr",
     "output_type": "stream",
     "text": [
      "\n",
      "[notice] A new release of pip is available: 25.2 -> 25.3\n",
      "[notice] To update, run: python.exe -m pip install --upgrade pip\n"
     ]
    }
   ],
   "source": [
    "!python -m pip install -q textblob textblob-fr"
   ]
  },
  {
   "cell_type": "markdown",
   "metadata": {},
   "source": [
    "Import"
   ]
  },
  {
   "cell_type": "code",
   "execution_count": 6,
   "metadata": {},
   "outputs": [],
   "source": [
    "import pandas as pd\n",
    "from textblob import Blobber\n",
    "from textblob_fr import PatternTagger, PatternAnalyzer\n",
    "\n",
    "tb = Blobber(pos_tagger=PatternTagger(), analyzer=PatternAnalyzer())"
   ]
  },
  {
   "cell_type": "markdown",
   "metadata": {},
   "source": [
    "Decoupe du corpus en phrases"
   ]
  },
  {
   "cell_type": "code",
   "execution_count": 7,
   "metadata": {},
   "outputs": [
    {
     "data": {
      "text/plain": [
       "(2583,\n",
       " [\"L'AVENIR DU LUXEMBOURG Samedi 15 avri j 350, \\nMORHET \\nSoirée dramatique \\n1 Le cercle dramatique Sainte-Cécile \\nde Morhet reprendra, ce dimanche 16 \\navril ^Quasimodo), sa brillante soirée \\nqui a remporté un succès si remarqua-\\n| bie le 10 mars dernier.\",\n",
       "  \"i Rappelons ie programme : \\n; 1) ouverture : « Brabançonne »,par \\n• la Fantare ; 2) « La .bohème », chœur \\nà 2 voix exécuté par JV^.es Renée Cara, \\nj Josée Goffin, Anyse Hubermont et Hé-\\nf lène Bellanger ; a) La comédie en deux \\nactes de Marcell* Joignet « L'escalier \\n' du Monastère de -viarmoutier », qui se-\\n; ra interDretée par Josée Goffin, Marie-\\nLouise Flamant,, Madeleine Ska, Renée \\nCara, Solange Noirot, Jeanine Grand-\\n!\",\n",
       "  'iean,.'])"
      ]
     },
     "execution_count": 7,
     "metadata": {},
     "output_type": "execute_result"
    }
   ],
   "source": [
    "sentences = re.split(r'(?<=[\\.\\?\\!])\\s+', corpus_year)\n",
    "len(sentences), sentences[:3]"
   ]
  },
  {
   "cell_type": "markdown",
   "metadata": {},
   "source": [
    "Filtrage et choix de 10 phrases"
   ]
  },
  {
   "cell_type": "code",
   "execution_count": 5,
   "metadata": {},
   "outputs": [
    {
     "name": "stdout",
     "output_type": "stream",
     "text": [
      "1. Madeleine Van Mullem ; 4) « La \n",
      "Vierge du Portail de Reims », 1 acte en \n",
      "prose de Philippe Gérard, interprété \n",
      "par Renée Lambert, Madeleine Ska, \n",
      "j Renée Cara, Jeanine Grandjean, Ma-\n",
      "j rie-Louise Flamant, Marguerite Maquet \n",
      "', et Solange Grandjean ; 5) La comédie \n",
      ",' en 2 actes de M.\n",
      "\n",
      "2. Cartier-Bresson « L'E-\n",
      ": toile », Interorétée par Madeleine Ska, \n",
      "' Jeanine Grandjean, Marguerite Ma-\n",
      "3uet, Jeanne Bays, Solange Noirot, Ma-\n",
      "eleine Van Mullem, Marie-Louise Fla­\n",
      "mant, Josée Goffin et Solange Grand­\n",
      "jean ; 6) Intermèdes et tombola ; 7) \n",
      "€ Vers l'Avenir », exécuté par la Fan-\n",
      "lare.\n",
      "\n",
      "3. La Fanfare sera dirigée par M.\n",
      "\n",
      "4. Emile \n",
      "Binet, organiste de l'église Saint-Mar­\n",
      "tin, à Arlon.\n",
      "\n",
      "5. VAUX-LEZ-ROSIERES \n",
      "Succès théâtral \n",
      "Le dimanche de Pâques, la dramati­\n",
      "que locale s'est taillée un magnifique \n",
      "succès en interprétant : t Gosse de \n",
      "misère », grand drame humain en 5 ac­\n",
      "tes, de Mathilde Mortier, et « Notre \n",
      "nouveau Malt' d'école », la fine comédie \n",
      "d'A.\n",
      "\n",
      "6. jeux de lumière très bien appropriés.\n",
      "\n",
      "7. D'avance, on se \n",
      "1 réjouit déjà de la saison prochaine, \n",
      "] lorsque la scène et la salle seront agran-\n",
      "d eiset où pourront être portées usr les \n",
      "planches, des pièces de grande envergu­\n",
      "re.\n",
      "\n",
      "8. Quant à la comédie, disons tout de \n",
      "suite qu'avec des spécialistes de ce gen­\n",
      "re, elle était assurée d'avance de re­\n",
      "cueillir tous les suffrages.\n",
      "\n",
      "9. Aussi, nous \n",
      "nous bornerons à signaler qu'elle fut \n",
      "enlevée avec brio.\n",
      "\n",
      "10. Le même spectacle sera rendu ce di­\n",
      "manche 16 avril.\n",
      "\n"
     ]
    }
   ],
   "source": [
    "clean_sentences = [s.strip() for s in sentences \n",
    "                   if len(s.split()) >= 6 and not re.search(r\"[@^~%$§<>]\", s)]\n",
    "\n",
    "# Prendre les 10 premières\n",
    "sample_sentences = clean_sentences[:10]\n",
    "\n",
    "for i, s in enumerate(sample_sentences, 1):\n",
    "    print(f\"{i}. {s}\\n\")"
   ]
  },
  {
   "cell_type": "markdown",
   "metadata": {},
   "source": [
    "Calcul de la polarité et subjectivité"
   ]
  },
  {
   "cell_type": "code",
   "execution_count": 8,
   "metadata": {},
   "outputs": [
    {
     "data": {
      "text/html": [
       "<div>\n",
       "<style scoped>\n",
       "    .dataframe tbody tr th:only-of-type {\n",
       "        vertical-align: middle;\n",
       "    }\n",
       "\n",
       "    .dataframe tbody tr th {\n",
       "        vertical-align: top;\n",
       "    }\n",
       "\n",
       "    .dataframe thead th {\n",
       "        text-align: right;\n",
       "    }\n",
       "</style>\n",
       "<table border=\"1\" class=\"dataframe\">\n",
       "  <thead>\n",
       "    <tr style=\"text-align: right;\">\n",
       "      <th></th>\n",
       "      <th>phrase</th>\n",
       "      <th>polarité</th>\n",
       "      <th>subjectivité</th>\n",
       "    </tr>\n",
       "  </thead>\n",
       "  <tbody>\n",
       "    <tr>\n",
       "      <th>0</th>\n",
       "      <td>Madeleine Van Mullem ; 4) « La \\nVierge du Por...</td>\n",
       "      <td>0.100000</td>\n",
       "      <td>0.000000</td>\n",
       "    </tr>\n",
       "    <tr>\n",
       "      <th>1</th>\n",
       "      <td>Cartier-Bresson « L'E-\\n: toile », Interorétée...</td>\n",
       "      <td>0.000000</td>\n",
       "      <td>0.000000</td>\n",
       "    </tr>\n",
       "    <tr>\n",
       "      <th>2</th>\n",
       "      <td>La Fanfare sera dirigée par M.</td>\n",
       "      <td>0.000000</td>\n",
       "      <td>0.000000</td>\n",
       "    </tr>\n",
       "    <tr>\n",
       "      <th>3</th>\n",
       "      <td>Emile \\nBinet, organiste de l'église Saint-Mar...</td>\n",
       "      <td>0.000000</td>\n",
       "      <td>0.000000</td>\n",
       "    </tr>\n",
       "    <tr>\n",
       "      <th>4</th>\n",
       "      <td>VAUX-LEZ-ROSIERES \\nSuccès théâtral \\nLe diman...</td>\n",
       "      <td>0.226250</td>\n",
       "      <td>0.337500</td>\n",
       "    </tr>\n",
       "    <tr>\n",
       "      <th>5</th>\n",
       "      <td>jeux de lumière très bien appropriés.</td>\n",
       "      <td>0.000000</td>\n",
       "      <td>0.200000</td>\n",
       "    </tr>\n",
       "    <tr>\n",
       "      <th>6</th>\n",
       "      <td>D'avance, on se \\n1 réjouit déjà de la saison ...</td>\n",
       "      <td>0.150000</td>\n",
       "      <td>0.100000</td>\n",
       "    </tr>\n",
       "    <tr>\n",
       "      <th>7</th>\n",
       "      <td>Quant à la comédie, disons tout de \\nsuite qu'...</td>\n",
       "      <td>0.213333</td>\n",
       "      <td>0.133333</td>\n",
       "    </tr>\n",
       "    <tr>\n",
       "      <th>8</th>\n",
       "      <td>Aussi, nous \\nnous bornerons à signaler qu'ell...</td>\n",
       "      <td>0.000000</td>\n",
       "      <td>0.000000</td>\n",
       "    </tr>\n",
       "    <tr>\n",
       "      <th>9</th>\n",
       "      <td>Le même spectacle sera rendu ce di­\\nmanche 16...</td>\n",
       "      <td>0.000000</td>\n",
       "      <td>0.500000</td>\n",
       "    </tr>\n",
       "  </tbody>\n",
       "</table>\n",
       "</div>"
      ],
      "text/plain": [
       "                                              phrase  polarité  subjectivité\n",
       "0  Madeleine Van Mullem ; 4) « La \\nVierge du Por...  0.100000      0.000000\n",
       "1  Cartier-Bresson « L'E-\\n: toile », Interorétée...  0.000000      0.000000\n",
       "2                     La Fanfare sera dirigée par M.  0.000000      0.000000\n",
       "3  Emile \\nBinet, organiste de l'église Saint-Mar...  0.000000      0.000000\n",
       "4  VAUX-LEZ-ROSIERES \\nSuccès théâtral \\nLe diman...  0.226250      0.337500\n",
       "5              jeux de lumière très bien appropriés.  0.000000      0.200000\n",
       "6  D'avance, on se \\n1 réjouit déjà de la saison ...  0.150000      0.100000\n",
       "7  Quant à la comédie, disons tout de \\nsuite qu'...  0.213333      0.133333\n",
       "8  Aussi, nous \\nnous bornerons à signaler qu'ell...  0.000000      0.000000\n",
       "9  Le même spectacle sera rendu ce di­\\nmanche 16...  0.000000      0.500000"
      ]
     },
     "execution_count": 8,
     "metadata": {},
     "output_type": "execute_result"
    }
   ],
   "source": [
    "results = []\n",
    "\n",
    "for s in sample_sentences:\n",
    "    blob = tb(s)\n",
    "    sentiment = blob.sentiment\n",
    "    results.append((s, sentiment[0], sentiment[1]))\n",
    "\n",
    "\n",
    "df_sent = pd.DataFrame(results, columns=[\"phrase\", \"polarité\", \"subjectivité\"])\n",
    "df_sent"
   ]
  },
  {
   "cell_type": "markdown",
   "metadata": {},
   "source": [
    "## Utilisation de transformers"
   ]
  },
  {
   "cell_type": "markdown",
   "metadata": {},
   "source": [
    "Importation du pipeline Transformers"
   ]
  },
  {
   "cell_type": "code",
   "execution_count": 42,
   "metadata": {},
   "outputs": [
    {
     "ename": "ImportError",
     "evalue": "\nAutoModelForSequenceClassification requires the PyTorch library but it was not found in your environment. Check out the instructions on the\ninstallation page: https://pytorch.org/get-started/locally/ and follow the ones that match your environment.\nPlease note that you may need to restart your runtime after installation.\n",
     "output_type": "error",
     "traceback": [
      "\u001b[31m---------------------------------------------------------------------------\u001b[39m",
      "\u001b[31mImportError\u001b[39m                               Traceback (most recent call last)",
      "\u001b[36mCell\u001b[39m\u001b[36m \u001b[39m\u001b[32mIn[42]\u001b[39m\u001b[32m, line 6\u001b[39m\n\u001b[32m      4\u001b[39m MODEL = \u001b[33m\"\u001b[39m\u001b[33mnlptown/bert-base-multilingual-uncased-sentiment\u001b[39m\u001b[33m\"\u001b[39m\n\u001b[32m      5\u001b[39m tokenizer = AutoTokenizer.from_pretrained(MODEL)\n\u001b[32m----> \u001b[39m\u001b[32m6\u001b[39m model = \u001b[43mAutoModelForSequenceClassification\u001b[49m\u001b[43m.\u001b[49m\u001b[43mfrom_pretrained\u001b[49m(MODEL)\n\u001b[32m      8\u001b[39m id2label = model.config.id2label  \u001b[38;5;66;03m# ex: {0:'1 star', ..., 4:'5 stars'}\u001b[39;00m\n\u001b[32m      9\u001b[39m id2label\n",
      "\u001b[36mFile \u001b[39m\u001b[32mc:\\Users\\Ing Armel Fopa\\Desktop\\cours M2\\Bloc 1 2026\\STIC-B545 - Traitement automatique de corpus - 202526\\PROJET\\Projet_TAC_1\\PROJET_TAC_1_venv\\Lib\\site-packages\\transformers\\utils\\import_utils.py:2157\u001b[39m, in \u001b[36mDummyObject.__getattribute__\u001b[39m\u001b[34m(cls, key)\u001b[39m\n\u001b[32m   2155\u001b[39m \u001b[38;5;28;01mif\u001b[39;00m (key.startswith(\u001b[33m\"\u001b[39m\u001b[33m_\u001b[39m\u001b[33m\"\u001b[39m) \u001b[38;5;129;01mand\u001b[39;00m key != \u001b[33m\"\u001b[39m\u001b[33m_from_config\u001b[39m\u001b[33m\"\u001b[39m) \u001b[38;5;129;01mor\u001b[39;00m key == \u001b[33m\"\u001b[39m\u001b[33mis_dummy\u001b[39m\u001b[33m\"\u001b[39m \u001b[38;5;129;01mor\u001b[39;00m key == \u001b[33m\"\u001b[39m\u001b[33mmro\u001b[39m\u001b[33m\"\u001b[39m \u001b[38;5;129;01mor\u001b[39;00m key == \u001b[33m\"\u001b[39m\u001b[33mcall\u001b[39m\u001b[33m\"\u001b[39m:\n\u001b[32m   2156\u001b[39m     \u001b[38;5;28;01mreturn\u001b[39;00m \u001b[38;5;28msuper\u001b[39m().\u001b[34m__getattribute__\u001b[39m(key)\n\u001b[32m-> \u001b[39m\u001b[32m2157\u001b[39m \u001b[43mrequires_backends\u001b[49m\u001b[43m(\u001b[49m\u001b[38;5;28;43mcls\u001b[39;49m\u001b[43m,\u001b[49m\u001b[43m \u001b[49m\u001b[38;5;28;43mcls\u001b[39;49m\u001b[43m.\u001b[49m\u001b[43m_backends\u001b[49m\u001b[43m)\u001b[49m\n",
      "\u001b[36mFile \u001b[39m\u001b[32mc:\\Users\\Ing Armel Fopa\\Desktop\\cours M2\\Bloc 1 2026\\STIC-B545 - Traitement automatique de corpus - 202526\\PROJET\\Projet_TAC_1\\PROJET_TAC_1_venv\\Lib\\site-packages\\transformers\\utils\\import_utils.py:2143\u001b[39m, in \u001b[36mrequires_backends\u001b[39m\u001b[34m(obj, backends)\u001b[39m\n\u001b[32m   2140\u001b[39m         failed.append(msg.format(name))\n\u001b[32m   2142\u001b[39m \u001b[38;5;28;01mif\u001b[39;00m failed:\n\u001b[32m-> \u001b[39m\u001b[32m2143\u001b[39m     \u001b[38;5;28;01mraise\u001b[39;00m \u001b[38;5;167;01mImportError\u001b[39;00m(\u001b[33m\"\u001b[39m\u001b[33m\"\u001b[39m.join(failed))\n",
      "\u001b[31mImportError\u001b[39m: \nAutoModelForSequenceClassification requires the PyTorch library but it was not found in your environment. Check out the instructions on the\ninstallation page: https://pytorch.org/get-started/locally/ and follow the ones that match your environment.\nPlease note that you may need to restart your runtime after installation.\n"
     ]
    }
   ],
   "source": [
    "from transformers import AutoTokenizer, AutoModelForSequenceClassification\n",
    "import torch\n",
    "\n",
    "MODEL = \"nlptown/bert-base-multilingual-uncased-sentiment\"\n",
    "tokenizer = AutoTokenizer.from_pretrained(MODEL)\n",
    "model = AutoModelForSequenceClassification.from_pretrained(MODEL)\n",
    "\n",
    "id2label = model.config.id2label  # ex: {0:'1 star', ..., 4:'5 stars'}\n",
    "id2label"
   ]
  },
  {
   "cell_type": "markdown",
   "metadata": {},
   "source": [
    "Creation du pipeline d'analyse de sentiments"
   ]
  },
  {
   "cell_type": "markdown",
   "metadata": {},
   "source": [
    "Application du modèle sur nos 10 phrases"
   ]
  },
  {
   "cell_type": "code",
   "execution_count": null,
   "metadata": {},
   "outputs": [],
   "source": [
    "results_hf = []\n",
    "for s in sample_sentences:\n",
    "    r = sentiment_model(s[:512])[0]\n",
    "    results_hf.append((s, r[\"label\"], r[\"score\"]))\n",
    "\n",
    "import pandas as pd\n",
    "df_hf = pd.DataFrame(results_hf, columns=[\"phrase\", \"label\", \"score\"])\n",
    "df_hf\n"
   ]
  },
  {
   "cell_type": "markdown",
   "metadata": {},
   "source": [
    "## 2. Utilisation de transformers\n",
    "\n",
    "Documentation: https://github.com/TheophileBlard/french-sentiment-analysis-with-bert\n",
    "\n",
    "**!!** Si le code ne tourne pas sur votre machine, vous pouvez le tester directement sur Google Colab en utilisant [ce lien](https://colab.research.google.com/github/TheophileBlard/french-sentiment-analysis-with-bert/blob/master/colab/french_sentiment_analysis_with_bert.ipynb) **!!**\n",
    "\n",
    "Le modèle peut également être testé en ligne sur [HuggingFace](https://huggingface.co/tblard/tf-allocine)\n",
    "\n",
    "### Installation des librairies et imports"
   ]
  },
  {
   "cell_type": "code",
   "execution_count": 21,
   "metadata": {},
   "outputs": [
    {
     "name": "stdout",
     "output_type": "stream",
     "text": [
      "Requirement already satisfied: tensorflow in c:\\users\\ing armel fopa\\desktop\\cours m2\\bloc 1 2026\\stic-b545 - traitement automatique de corpus - 202526\\projet\\projet_tac_1\\projet_tac_1_venv\\lib\\site-packages (2.20.0)\n",
      "Requirement already satisfied: absl-py>=1.0.0 in c:\\users\\ing armel fopa\\desktop\\cours m2\\bloc 1 2026\\stic-b545 - traitement automatique de corpus - 202526\\projet\\projet_tac_1\\projet_tac_1_venv\\lib\\site-packages (from tensorflow) (2.3.1)\n",
      "Requirement already satisfied: astunparse>=1.6.0 in c:\\users\\ing armel fopa\\desktop\\cours m2\\bloc 1 2026\\stic-b545 - traitement automatique de corpus - 202526\\projet\\projet_tac_1\\projet_tac_1_venv\\lib\\site-packages (from tensorflow) (1.6.3)\n",
      "Requirement already satisfied: flatbuffers>=24.3.25 in c:\\users\\ing armel fopa\\desktop\\cours m2\\bloc 1 2026\\stic-b545 - traitement automatique de corpus - 202526\\projet\\projet_tac_1\\projet_tac_1_venv\\lib\\site-packages (from tensorflow) (25.9.23)\n",
      "Requirement already satisfied: gast!=0.5.0,!=0.5.1,!=0.5.2,>=0.2.1 in c:\\users\\ing armel fopa\\desktop\\cours m2\\bloc 1 2026\\stic-b545 - traitement automatique de corpus - 202526\\projet\\projet_tac_1\\projet_tac_1_venv\\lib\\site-packages (from tensorflow) (0.6.0)\n",
      "Requirement already satisfied: google_pasta>=0.1.1 in c:\\users\\ing armel fopa\\desktop\\cours m2\\bloc 1 2026\\stic-b545 - traitement automatique de corpus - 202526\\projet\\projet_tac_1\\projet_tac_1_venv\\lib\\site-packages (from tensorflow) (0.2.0)\n",
      "Requirement already satisfied: libclang>=13.0.0 in c:\\users\\ing armel fopa\\desktop\\cours m2\\bloc 1 2026\\stic-b545 - traitement automatique de corpus - 202526\\projet\\projet_tac_1\\projet_tac_1_venv\\lib\\site-packages (from tensorflow) (18.1.1)\n",
      "Requirement already satisfied: opt_einsum>=2.3.2 in c:\\users\\ing armel fopa\\desktop\\cours m2\\bloc 1 2026\\stic-b545 - traitement automatique de corpus - 202526\\projet\\projet_tac_1\\projet_tac_1_venv\\lib\\site-packages (from tensorflow) (3.4.0)\n",
      "Requirement already satisfied: packaging in c:\\users\\ing armel fopa\\desktop\\cours m2\\bloc 1 2026\\stic-b545 - traitement automatique de corpus - 202526\\projet\\projet_tac_1\\projet_tac_1_venv\\lib\\site-packages (from tensorflow) (25.0)\n",
      "Requirement already satisfied: protobuf>=5.28.0 in c:\\users\\ing armel fopa\\desktop\\cours m2\\bloc 1 2026\\stic-b545 - traitement automatique de corpus - 202526\\projet\\projet_tac_1\\projet_tac_1_venv\\lib\\site-packages (from tensorflow) (6.33.0)\n",
      "Requirement already satisfied: requests<3,>=2.21.0 in c:\\users\\ing armel fopa\\desktop\\cours m2\\bloc 1 2026\\stic-b545 - traitement automatique de corpus - 202526\\projet\\projet_tac_1\\projet_tac_1_venv\\lib\\site-packages (from tensorflow) (2.32.5)\n",
      "Requirement already satisfied: setuptools in c:\\users\\ing armel fopa\\desktop\\cours m2\\bloc 1 2026\\stic-b545 - traitement automatique de corpus - 202526\\projet\\projet_tac_1\\projet_tac_1_venv\\lib\\site-packages (from tensorflow) (80.9.0)\n",
      "Requirement already satisfied: six>=1.12.0 in c:\\users\\ing armel fopa\\desktop\\cours m2\\bloc 1 2026\\stic-b545 - traitement automatique de corpus - 202526\\projet\\projet_tac_1\\projet_tac_1_venv\\lib\\site-packages (from tensorflow) (1.17.0)\n",
      "Requirement already satisfied: termcolor>=1.1.0 in c:\\users\\ing armel fopa\\desktop\\cours m2\\bloc 1 2026\\stic-b545 - traitement automatique de corpus - 202526\\projet\\projet_tac_1\\projet_tac_1_venv\\lib\\site-packages (from tensorflow) (3.2.0)\n",
      "Requirement already satisfied: typing_extensions>=3.6.6 in c:\\users\\ing armel fopa\\desktop\\cours m2\\bloc 1 2026\\stic-b545 - traitement automatique de corpus - 202526\\projet\\projet_tac_1\\projet_tac_1_venv\\lib\\site-packages (from tensorflow) (4.15.0)\n",
      "Requirement already satisfied: wrapt>=1.11.0 in c:\\users\\ing armel fopa\\desktop\\cours m2\\bloc 1 2026\\stic-b545 - traitement automatique de corpus - 202526\\projet\\projet_tac_1\\projet_tac_1_venv\\lib\\site-packages (from tensorflow) (2.0.0)\n",
      "Requirement already satisfied: grpcio<2.0,>=1.24.3 in c:\\users\\ing armel fopa\\desktop\\cours m2\\bloc 1 2026\\stic-b545 - traitement automatique de corpus - 202526\\projet\\projet_tac_1\\projet_tac_1_venv\\lib\\site-packages (from tensorflow) (1.76.0)\n",
      "Requirement already satisfied: tensorboard~=2.20.0 in c:\\users\\ing armel fopa\\desktop\\cours m2\\bloc 1 2026\\stic-b545 - traitement automatique de corpus - 202526\\projet\\projet_tac_1\\projet_tac_1_venv\\lib\\site-packages (from tensorflow) (2.20.0)\n",
      "Requirement already satisfied: keras>=3.10.0 in c:\\users\\ing armel fopa\\desktop\\cours m2\\bloc 1 2026\\stic-b545 - traitement automatique de corpus - 202526\\projet\\projet_tac_1\\projet_tac_1_venv\\lib\\site-packages (from tensorflow) (3.12.0)\n",
      "Requirement already satisfied: numpy>=1.26.0 in c:\\users\\ing armel fopa\\desktop\\cours m2\\bloc 1 2026\\stic-b545 - traitement automatique de corpus - 202526\\projet\\projet_tac_1\\projet_tac_1_venv\\lib\\site-packages (from tensorflow) (2.3.3)\n",
      "Requirement already satisfied: h5py>=3.11.0 in c:\\users\\ing armel fopa\\desktop\\cours m2\\bloc 1 2026\\stic-b545 - traitement automatique de corpus - 202526\\projet\\projet_tac_1\\projet_tac_1_venv\\lib\\site-packages (from tensorflow) (3.15.1)\n",
      "Requirement already satisfied: ml_dtypes<1.0.0,>=0.5.1 in c:\\users\\ing armel fopa\\desktop\\cours m2\\bloc 1 2026\\stic-b545 - traitement automatique de corpus - 202526\\projet\\projet_tac_1\\projet_tac_1_venv\\lib\\site-packages (from tensorflow) (0.5.3)\n",
      "Requirement already satisfied: charset_normalizer<4,>=2 in c:\\users\\ing armel fopa\\desktop\\cours m2\\bloc 1 2026\\stic-b545 - traitement automatique de corpus - 202526\\projet\\projet_tac_1\\projet_tac_1_venv\\lib\\site-packages (from requests<3,>=2.21.0->tensorflow) (3.4.3)\n",
      "Requirement already satisfied: idna<4,>=2.5 in c:\\users\\ing armel fopa\\desktop\\cours m2\\bloc 1 2026\\stic-b545 - traitement automatique de corpus - 202526\\projet\\projet_tac_1\\projet_tac_1_venv\\lib\\site-packages (from requests<3,>=2.21.0->tensorflow) (3.10)\n",
      "Requirement already satisfied: urllib3<3,>=1.21.1 in c:\\users\\ing armel fopa\\desktop\\cours m2\\bloc 1 2026\\stic-b545 - traitement automatique de corpus - 202526\\projet\\projet_tac_1\\projet_tac_1_venv\\lib\\site-packages (from requests<3,>=2.21.0->tensorflow) (2.5.0)\n",
      "Requirement already satisfied: certifi>=2017.4.17 in c:\\users\\ing armel fopa\\desktop\\cours m2\\bloc 1 2026\\stic-b545 - traitement automatique de corpus - 202526\\projet\\projet_tac_1\\projet_tac_1_venv\\lib\\site-packages (from requests<3,>=2.21.0->tensorflow) (2025.10.5)\n",
      "Requirement already satisfied: markdown>=2.6.8 in c:\\users\\ing armel fopa\\desktop\\cours m2\\bloc 1 2026\\stic-b545 - traitement automatique de corpus - 202526\\projet\\projet_tac_1\\projet_tac_1_venv\\lib\\site-packages (from tensorboard~=2.20.0->tensorflow) (3.9)\n",
      "Requirement already satisfied: pillow in c:\\users\\ing armel fopa\\desktop\\cours m2\\bloc 1 2026\\stic-b545 - traitement automatique de corpus - 202526\\projet\\projet_tac_1\\projet_tac_1_venv\\lib\\site-packages (from tensorboard~=2.20.0->tensorflow) (11.3.0)\n",
      "Requirement already satisfied: tensorboard-data-server<0.8.0,>=0.7.0 in c:\\users\\ing armel fopa\\desktop\\cours m2\\bloc 1 2026\\stic-b545 - traitement automatique de corpus - 202526\\projet\\projet_tac_1\\projet_tac_1_venv\\lib\\site-packages (from tensorboard~=2.20.0->tensorflow) (0.7.2)\n",
      "Requirement already satisfied: werkzeug>=1.0.1 in c:\\users\\ing armel fopa\\desktop\\cours m2\\bloc 1 2026\\stic-b545 - traitement automatique de corpus - 202526\\projet\\projet_tac_1\\projet_tac_1_venv\\lib\\site-packages (from tensorboard~=2.20.0->tensorflow) (3.1.3)\n",
      "Requirement already satisfied: wheel<1.0,>=0.23.0 in c:\\users\\ing armel fopa\\desktop\\cours m2\\bloc 1 2026\\stic-b545 - traitement automatique de corpus - 202526\\projet\\projet_tac_1\\projet_tac_1_venv\\lib\\site-packages (from astunparse>=1.6.0->tensorflow) (0.45.1)\n",
      "Requirement already satisfied: rich in c:\\users\\ing armel fopa\\desktop\\cours m2\\bloc 1 2026\\stic-b545 - traitement automatique de corpus - 202526\\projet\\projet_tac_1\\projet_tac_1_venv\\lib\\site-packages (from keras>=3.10.0->tensorflow) (14.2.0)\n",
      "Requirement already satisfied: namex in c:\\users\\ing armel fopa\\desktop\\cours m2\\bloc 1 2026\\stic-b545 - traitement automatique de corpus - 202526\\projet\\projet_tac_1\\projet_tac_1_venv\\lib\\site-packages (from keras>=3.10.0->tensorflow) (0.1.0)\n",
      "Requirement already satisfied: optree in c:\\users\\ing armel fopa\\desktop\\cours m2\\bloc 1 2026\\stic-b545 - traitement automatique de corpus - 202526\\projet\\projet_tac_1\\projet_tac_1_venv\\lib\\site-packages (from keras>=3.10.0->tensorflow) (0.17.0)\n",
      "Requirement already satisfied: MarkupSafe>=2.1.1 in c:\\users\\ing armel fopa\\desktop\\cours m2\\bloc 1 2026\\stic-b545 - traitement automatique de corpus - 202526\\projet\\projet_tac_1\\projet_tac_1_venv\\lib\\site-packages (from werkzeug>=1.0.1->tensorboard~=2.20.0->tensorflow) (3.0.3)\n",
      "Requirement already satisfied: markdown-it-py>=2.2.0 in c:\\users\\ing armel fopa\\desktop\\cours m2\\bloc 1 2026\\stic-b545 - traitement automatique de corpus - 202526\\projet\\projet_tac_1\\projet_tac_1_venv\\lib\\site-packages (from rich->keras>=3.10.0->tensorflow) (4.0.0)\n",
      "Requirement already satisfied: pygments<3.0.0,>=2.13.0 in c:\\users\\ing armel fopa\\desktop\\cours m2\\bloc 1 2026\\stic-b545 - traitement automatique de corpus - 202526\\projet\\projet_tac_1\\projet_tac_1_venv\\lib\\site-packages (from rich->keras>=3.10.0->tensorflow) (2.19.2)\n",
      "Requirement already satisfied: mdurl~=0.1 in c:\\users\\ing armel fopa\\desktop\\cours m2\\bloc 1 2026\\stic-b545 - traitement automatique de corpus - 202526\\projet\\projet_tac_1\\projet_tac_1_venv\\lib\\site-packages (from markdown-it-py>=2.2.0->rich->keras>=3.10.0->tensorflow) (0.1.2)\n",
      "Note: you may need to restart the kernel to use updated packages.\n"
     ]
    },
    {
     "name": "stderr",
     "output_type": "stream",
     "text": [
      "\n",
      "[notice] A new release of pip is available: 25.2 -> 25.3\n",
      "[notice] To update, run: python.exe -m pip install --upgrade pip\n"
     ]
    },
    {
     "name": "stdout",
     "output_type": "stream",
     "text": [
      "Requirement already satisfied: sentencepiece in c:\\users\\ing armel fopa\\desktop\\cours m2\\bloc 1 2026\\stic-b545 - traitement automatique de corpus - 202526\\projet\\projet_tac_1\\projet_tac_1_venv\\lib\\site-packages (0.2.1)\n",
      "Note: you may need to restart the kernel to use updated packages.\n"
     ]
    },
    {
     "name": "stderr",
     "output_type": "stream",
     "text": [
      "\n",
      "[notice] A new release of pip is available: 25.2 -> 25.3\n",
      "[notice] To update, run: python.exe -m pip install --upgrade pip\n"
     ]
    },
    {
     "name": "stdout",
     "output_type": "stream",
     "text": [
      "Requirement already satisfied: transformers in c:\\users\\ing armel fopa\\desktop\\cours m2\\bloc 1 2026\\stic-b545 - traitement automatique de corpus - 202526\\projet\\projet_tac_1\\projet_tac_1_venv\\lib\\site-packages (4.57.1)\n",
      "Requirement already satisfied: filelock in c:\\users\\ing armel fopa\\desktop\\cours m2\\bloc 1 2026\\stic-b545 - traitement automatique de corpus - 202526\\projet\\projet_tac_1\\projet_tac_1_venv\\lib\\site-packages (from transformers) (3.20.0)\n",
      "Requirement already satisfied: huggingface-hub<1.0,>=0.34.0 in c:\\users\\ing armel fopa\\desktop\\cours m2\\bloc 1 2026\\stic-b545 - traitement automatique de corpus - 202526\\projet\\projet_tac_1\\projet_tac_1_venv\\lib\\site-packages (from transformers) (0.36.0)\n",
      "Requirement already satisfied: numpy>=1.17 in c:\\users\\ing armel fopa\\desktop\\cours m2\\bloc 1 2026\\stic-b545 - traitement automatique de corpus - 202526\\projet\\projet_tac_1\\projet_tac_1_venv\\lib\\site-packages (from transformers) (2.3.3)\n",
      "Requirement already satisfied: packaging>=20.0 in c:\\users\\ing armel fopa\\desktop\\cours m2\\bloc 1 2026\\stic-b545 - traitement automatique de corpus - 202526\\projet\\projet_tac_1\\projet_tac_1_venv\\lib\\site-packages (from transformers) (25.0)\n",
      "Requirement already satisfied: pyyaml>=5.1 in c:\\users\\ing armel fopa\\desktop\\cours m2\\bloc 1 2026\\stic-b545 - traitement automatique de corpus - 202526\\projet\\projet_tac_1\\projet_tac_1_venv\\lib\\site-packages (from transformers) (6.0.3)\n",
      "Requirement already satisfied: regex!=2019.12.17 in c:\\users\\ing armel fopa\\desktop\\cours m2\\bloc 1 2026\\stic-b545 - traitement automatique de corpus - 202526\\projet\\projet_tac_1\\projet_tac_1_venv\\lib\\site-packages (from transformers) (2025.9.18)\n",
      "Requirement already satisfied: requests in c:\\users\\ing armel fopa\\desktop\\cours m2\\bloc 1 2026\\stic-b545 - traitement automatique de corpus - 202526\\projet\\projet_tac_1\\projet_tac_1_venv\\lib\\site-packages (from transformers) (2.32.5)\n",
      "Requirement already satisfied: tokenizers<=0.23.0,>=0.22.0 in c:\\users\\ing armel fopa\\desktop\\cours m2\\bloc 1 2026\\stic-b545 - traitement automatique de corpus - 202526\\projet\\projet_tac_1\\projet_tac_1_venv\\lib\\site-packages (from transformers) (0.22.1)\n",
      "Requirement already satisfied: safetensors>=0.4.3 in c:\\users\\ing armel fopa\\desktop\\cours m2\\bloc 1 2026\\stic-b545 - traitement automatique de corpus - 202526\\projet\\projet_tac_1\\projet_tac_1_venv\\lib\\site-packages (from transformers) (0.6.2)\n",
      "Requirement already satisfied: tqdm>=4.27 in c:\\users\\ing armel fopa\\desktop\\cours m2\\bloc 1 2026\\stic-b545 - traitement automatique de corpus - 202526\\projet\\projet_tac_1\\projet_tac_1_venv\\lib\\site-packages (from transformers) (4.67.1)\n",
      "Requirement already satisfied: fsspec>=2023.5.0 in c:\\users\\ing armel fopa\\desktop\\cours m2\\bloc 1 2026\\stic-b545 - traitement automatique de corpus - 202526\\projet\\projet_tac_1\\projet_tac_1_venv\\lib\\site-packages (from huggingface-hub<1.0,>=0.34.0->transformers) (2025.9.0)\n",
      "Requirement already satisfied: typing-extensions>=3.7.4.3 in c:\\users\\ing armel fopa\\desktop\\cours m2\\bloc 1 2026\\stic-b545 - traitement automatique de corpus - 202526\\projet\\projet_tac_1\\projet_tac_1_venv\\lib\\site-packages (from huggingface-hub<1.0,>=0.34.0->transformers) (4.15.0)\n",
      "Requirement already satisfied: colorama in c:\\users\\ing armel fopa\\desktop\\cours m2\\bloc 1 2026\\stic-b545 - traitement automatique de corpus - 202526\\projet\\projet_tac_1\\projet_tac_1_venv\\lib\\site-packages (from tqdm>=4.27->transformers) (0.4.6)\n",
      "Requirement already satisfied: charset_normalizer<4,>=2 in c:\\users\\ing armel fopa\\desktop\\cours m2\\bloc 1 2026\\stic-b545 - traitement automatique de corpus - 202526\\projet\\projet_tac_1\\projet_tac_1_venv\\lib\\site-packages (from requests->transformers) (3.4.3)\n",
      "Requirement already satisfied: idna<4,>=2.5 in c:\\users\\ing armel fopa\\desktop\\cours m2\\bloc 1 2026\\stic-b545 - traitement automatique de corpus - 202526\\projet\\projet_tac_1\\projet_tac_1_venv\\lib\\site-packages (from requests->transformers) (3.10)\n",
      "Requirement already satisfied: urllib3<3,>=1.21.1 in c:\\users\\ing armel fopa\\desktop\\cours m2\\bloc 1 2026\\stic-b545 - traitement automatique de corpus - 202526\\projet\\projet_tac_1\\projet_tac_1_venv\\lib\\site-packages (from requests->transformers) (2.5.0)\n",
      "Requirement already satisfied: certifi>=2017.4.17 in c:\\users\\ing armel fopa\\desktop\\cours m2\\bloc 1 2026\\stic-b545 - traitement automatique de corpus - 202526\\projet\\projet_tac_1\\projet_tac_1_venv\\lib\\site-packages (from requests->transformers) (2025.10.5)\n",
      "Note: you may need to restart the kernel to use updated packages.\n"
     ]
    },
    {
     "name": "stderr",
     "output_type": "stream",
     "text": [
      "\n",
      "[notice] A new release of pip is available: 25.2 -> 25.3\n",
      "[notice] To update, run: python.exe -m pip install --upgrade pip\n"
     ]
    },
    {
     "name": "stdout",
     "output_type": "stream",
     "text": [
      "Requirement already satisfied: tf_keras in c:\\users\\ing armel fopa\\desktop\\cours m2\\bloc 1 2026\\stic-b545 - traitement automatique de corpus - 202526\\projet\\projet_tac_1\\projet_tac_1_venv\\lib\\site-packages (2.20.1)\n",
      "Requirement already satisfied: tensorflow<2.21,>=2.20 in c:\\users\\ing armel fopa\\desktop\\cours m2\\bloc 1 2026\\stic-b545 - traitement automatique de corpus - 202526\\projet\\projet_tac_1\\projet_tac_1_venv\\lib\\site-packages (from tf_keras) (2.20.0)\n",
      "Requirement already satisfied: absl-py>=1.0.0 in c:\\users\\ing armel fopa\\desktop\\cours m2\\bloc 1 2026\\stic-b545 - traitement automatique de corpus - 202526\\projet\\projet_tac_1\\projet_tac_1_venv\\lib\\site-packages (from tensorflow<2.21,>=2.20->tf_keras) (2.3.1)\n",
      "Requirement already satisfied: astunparse>=1.6.0 in c:\\users\\ing armel fopa\\desktop\\cours m2\\bloc 1 2026\\stic-b545 - traitement automatique de corpus - 202526\\projet\\projet_tac_1\\projet_tac_1_venv\\lib\\site-packages (from tensorflow<2.21,>=2.20->tf_keras) (1.6.3)\n",
      "Requirement already satisfied: flatbuffers>=24.3.25 in c:\\users\\ing armel fopa\\desktop\\cours m2\\bloc 1 2026\\stic-b545 - traitement automatique de corpus - 202526\\projet\\projet_tac_1\\projet_tac_1_venv\\lib\\site-packages (from tensorflow<2.21,>=2.20->tf_keras) (25.9.23)\n",
      "Requirement already satisfied: gast!=0.5.0,!=0.5.1,!=0.5.2,>=0.2.1 in c:\\users\\ing armel fopa\\desktop\\cours m2\\bloc 1 2026\\stic-b545 - traitement automatique de corpus - 202526\\projet\\projet_tac_1\\projet_tac_1_venv\\lib\\site-packages (from tensorflow<2.21,>=2.20->tf_keras) (0.6.0)\n",
      "Requirement already satisfied: google_pasta>=0.1.1 in c:\\users\\ing armel fopa\\desktop\\cours m2\\bloc 1 2026\\stic-b545 - traitement automatique de corpus - 202526\\projet\\projet_tac_1\\projet_tac_1_venv\\lib\\site-packages (from tensorflow<2.21,>=2.20->tf_keras) (0.2.0)\n",
      "Requirement already satisfied: libclang>=13.0.0 in c:\\users\\ing armel fopa\\desktop\\cours m2\\bloc 1 2026\\stic-b545 - traitement automatique de corpus - 202526\\projet\\projet_tac_1\\projet_tac_1_venv\\lib\\site-packages (from tensorflow<2.21,>=2.20->tf_keras) (18.1.1)\n",
      "Requirement already satisfied: opt_einsum>=2.3.2 in c:\\users\\ing armel fopa\\desktop\\cours m2\\bloc 1 2026\\stic-b545 - traitement automatique de corpus - 202526\\projet\\projet_tac_1\\projet_tac_1_venv\\lib\\site-packages (from tensorflow<2.21,>=2.20->tf_keras) (3.4.0)\n",
      "Requirement already satisfied: packaging in c:\\users\\ing armel fopa\\desktop\\cours m2\\bloc 1 2026\\stic-b545 - traitement automatique de corpus - 202526\\projet\\projet_tac_1\\projet_tac_1_venv\\lib\\site-packages (from tensorflow<2.21,>=2.20->tf_keras) (25.0)\n",
      "Requirement already satisfied: protobuf>=5.28.0 in c:\\users\\ing armel fopa\\desktop\\cours m2\\bloc 1 2026\\stic-b545 - traitement automatique de corpus - 202526\\projet\\projet_tac_1\\projet_tac_1_venv\\lib\\site-packages (from tensorflow<2.21,>=2.20->tf_keras) (6.33.0)\n",
      "Requirement already satisfied: requests<3,>=2.21.0 in c:\\users\\ing armel fopa\\desktop\\cours m2\\bloc 1 2026\\stic-b545 - traitement automatique de corpus - 202526\\projet\\projet_tac_1\\projet_tac_1_venv\\lib\\site-packages (from tensorflow<2.21,>=2.20->tf_keras) (2.32.5)\n",
      "Requirement already satisfied: setuptools in c:\\users\\ing armel fopa\\desktop\\cours m2\\bloc 1 2026\\stic-b545 - traitement automatique de corpus - 202526\\projet\\projet_tac_1\\projet_tac_1_venv\\lib\\site-packages (from tensorflow<2.21,>=2.20->tf_keras) (80.9.0)\n",
      "Requirement already satisfied: six>=1.12.0 in c:\\users\\ing armel fopa\\desktop\\cours m2\\bloc 1 2026\\stic-b545 - traitement automatique de corpus - 202526\\projet\\projet_tac_1\\projet_tac_1_venv\\lib\\site-packages (from tensorflow<2.21,>=2.20->tf_keras) (1.17.0)\n",
      "Requirement already satisfied: termcolor>=1.1.0 in c:\\users\\ing armel fopa\\desktop\\cours m2\\bloc 1 2026\\stic-b545 - traitement automatique de corpus - 202526\\projet\\projet_tac_1\\projet_tac_1_venv\\lib\\site-packages (from tensorflow<2.21,>=2.20->tf_keras) (3.2.0)\n",
      "Requirement already satisfied: typing_extensions>=3.6.6 in c:\\users\\ing armel fopa\\desktop\\cours m2\\bloc 1 2026\\stic-b545 - traitement automatique de corpus - 202526\\projet\\projet_tac_1\\projet_tac_1_venv\\lib\\site-packages (from tensorflow<2.21,>=2.20->tf_keras) (4.15.0)\n",
      "Requirement already satisfied: wrapt>=1.11.0 in c:\\users\\ing armel fopa\\desktop\\cours m2\\bloc 1 2026\\stic-b545 - traitement automatique de corpus - 202526\\projet\\projet_tac_1\\projet_tac_1_venv\\lib\\site-packages (from tensorflow<2.21,>=2.20->tf_keras) (2.0.0)\n",
      "Requirement already satisfied: grpcio<2.0,>=1.24.3 in c:\\users\\ing armel fopa\\desktop\\cours m2\\bloc 1 2026\\stic-b545 - traitement automatique de corpus - 202526\\projet\\projet_tac_1\\projet_tac_1_venv\\lib\\site-packages (from tensorflow<2.21,>=2.20->tf_keras) (1.76.0)\n",
      "Requirement already satisfied: tensorboard~=2.20.0 in c:\\users\\ing armel fopa\\desktop\\cours m2\\bloc 1 2026\\stic-b545 - traitement automatique de corpus - 202526\\projet\\projet_tac_1\\projet_tac_1_venv\\lib\\site-packages (from tensorflow<2.21,>=2.20->tf_keras) (2.20.0)\n",
      "Requirement already satisfied: keras>=3.10.0 in c:\\users\\ing armel fopa\\desktop\\cours m2\\bloc 1 2026\\stic-b545 - traitement automatique de corpus - 202526\\projet\\projet_tac_1\\projet_tac_1_venv\\lib\\site-packages (from tensorflow<2.21,>=2.20->tf_keras) (3.12.0)\n",
      "Requirement already satisfied: numpy>=1.26.0 in c:\\users\\ing armel fopa\\desktop\\cours m2\\bloc 1 2026\\stic-b545 - traitement automatique de corpus - 202526\\projet\\projet_tac_1\\projet_tac_1_venv\\lib\\site-packages (from tensorflow<2.21,>=2.20->tf_keras) (2.3.3)\n",
      "Requirement already satisfied: h5py>=3.11.0 in c:\\users\\ing armel fopa\\desktop\\cours m2\\bloc 1 2026\\stic-b545 - traitement automatique de corpus - 202526\\projet\\projet_tac_1\\projet_tac_1_venv\\lib\\site-packages (from tensorflow<2.21,>=2.20->tf_keras) (3.15.1)\n",
      "Requirement already satisfied: ml_dtypes<1.0.0,>=0.5.1 in c:\\users\\ing armel fopa\\desktop\\cours m2\\bloc 1 2026\\stic-b545 - traitement automatique de corpus - 202526\\projet\\projet_tac_1\\projet_tac_1_venv\\lib\\site-packages (from tensorflow<2.21,>=2.20->tf_keras) (0.5.3)\n",
      "Requirement already satisfied: charset_normalizer<4,>=2 in c:\\users\\ing armel fopa\\desktop\\cours m2\\bloc 1 2026\\stic-b545 - traitement automatique de corpus - 202526\\projet\\projet_tac_1\\projet_tac_1_venv\\lib\\site-packages (from requests<3,>=2.21.0->tensorflow<2.21,>=2.20->tf_keras) (3.4.3)\n",
      "Requirement already satisfied: idna<4,>=2.5 in c:\\users\\ing armel fopa\\desktop\\cours m2\\bloc 1 2026\\stic-b545 - traitement automatique de corpus - 202526\\projet\\projet_tac_1\\projet_tac_1_venv\\lib\\site-packages (from requests<3,>=2.21.0->tensorflow<2.21,>=2.20->tf_keras) (3.10)\n",
      "Requirement already satisfied: urllib3<3,>=1.21.1 in c:\\users\\ing armel fopa\\desktop\\cours m2\\bloc 1 2026\\stic-b545 - traitement automatique de corpus - 202526\\projet\\projet_tac_1\\projet_tac_1_venv\\lib\\site-packages (from requests<3,>=2.21.0->tensorflow<2.21,>=2.20->tf_keras) (2.5.0)\n",
      "Requirement already satisfied: certifi>=2017.4.17 in c:\\users\\ing armel fopa\\desktop\\cours m2\\bloc 1 2026\\stic-b545 - traitement automatique de corpus - 202526\\projet\\projet_tac_1\\projet_tac_1_venv\\lib\\site-packages (from requests<3,>=2.21.0->tensorflow<2.21,>=2.20->tf_keras) (2025.10.5)\n",
      "Requirement already satisfied: markdown>=2.6.8 in c:\\users\\ing armel fopa\\desktop\\cours m2\\bloc 1 2026\\stic-b545 - traitement automatique de corpus - 202526\\projet\\projet_tac_1\\projet_tac_1_venv\\lib\\site-packages (from tensorboard~=2.20.0->tensorflow<2.21,>=2.20->tf_keras) (3.9)\n",
      "Requirement already satisfied: pillow in c:\\users\\ing armel fopa\\desktop\\cours m2\\bloc 1 2026\\stic-b545 - traitement automatique de corpus - 202526\\projet\\projet_tac_1\\projet_tac_1_venv\\lib\\site-packages (from tensorboard~=2.20.0->tensorflow<2.21,>=2.20->tf_keras) (11.3.0)\n",
      "Requirement already satisfied: tensorboard-data-server<0.8.0,>=0.7.0 in c:\\users\\ing armel fopa\\desktop\\cours m2\\bloc 1 2026\\stic-b545 - traitement automatique de corpus - 202526\\projet\\projet_tac_1\\projet_tac_1_venv\\lib\\site-packages (from tensorboard~=2.20.0->tensorflow<2.21,>=2.20->tf_keras) (0.7.2)\n",
      "Requirement already satisfied: werkzeug>=1.0.1 in c:\\users\\ing armel fopa\\desktop\\cours m2\\bloc 1 2026\\stic-b545 - traitement automatique de corpus - 202526\\projet\\projet_tac_1\\projet_tac_1_venv\\lib\\site-packages (from tensorboard~=2.20.0->tensorflow<2.21,>=2.20->tf_keras) (3.1.3)\n",
      "Requirement already satisfied: wheel<1.0,>=0.23.0 in c:\\users\\ing armel fopa\\desktop\\cours m2\\bloc 1 2026\\stic-b545 - traitement automatique de corpus - 202526\\projet\\projet_tac_1\\projet_tac_1_venv\\lib\\site-packages (from astunparse>=1.6.0->tensorflow<2.21,>=2.20->tf_keras) (0.45.1)\n",
      "Requirement already satisfied: rich in c:\\users\\ing armel fopa\\desktop\\cours m2\\bloc 1 2026\\stic-b545 - traitement automatique de corpus - 202526\\projet\\projet_tac_1\\projet_tac_1_venv\\lib\\site-packages (from keras>=3.10.0->tensorflow<2.21,>=2.20->tf_keras) (14.2.0)\n",
      "Requirement already satisfied: namex in c:\\users\\ing armel fopa\\desktop\\cours m2\\bloc 1 2026\\stic-b545 - traitement automatique de corpus - 202526\\projet\\projet_tac_1\\projet_tac_1_venv\\lib\\site-packages (from keras>=3.10.0->tensorflow<2.21,>=2.20->tf_keras) (0.1.0)\n",
      "Requirement already satisfied: optree in c:\\users\\ing armel fopa\\desktop\\cours m2\\bloc 1 2026\\stic-b545 - traitement automatique de corpus - 202526\\projet\\projet_tac_1\\projet_tac_1_venv\\lib\\site-packages (from keras>=3.10.0->tensorflow<2.21,>=2.20->tf_keras) (0.17.0)\n",
      "Requirement already satisfied: MarkupSafe>=2.1.1 in c:\\users\\ing armel fopa\\desktop\\cours m2\\bloc 1 2026\\stic-b545 - traitement automatique de corpus - 202526\\projet\\projet_tac_1\\projet_tac_1_venv\\lib\\site-packages (from werkzeug>=1.0.1->tensorboard~=2.20.0->tensorflow<2.21,>=2.20->tf_keras) (3.0.3)\n",
      "Requirement already satisfied: markdown-it-py>=2.2.0 in c:\\users\\ing armel fopa\\desktop\\cours m2\\bloc 1 2026\\stic-b545 - traitement automatique de corpus - 202526\\projet\\projet_tac_1\\projet_tac_1_venv\\lib\\site-packages (from rich->keras>=3.10.0->tensorflow<2.21,>=2.20->tf_keras) (4.0.0)\n",
      "Requirement already satisfied: pygments<3.0.0,>=2.13.0 in c:\\users\\ing armel fopa\\desktop\\cours m2\\bloc 1 2026\\stic-b545 - traitement automatique de corpus - 202526\\projet\\projet_tac_1\\projet_tac_1_venv\\lib\\site-packages (from rich->keras>=3.10.0->tensorflow<2.21,>=2.20->tf_keras) (2.19.2)\n",
      "Requirement already satisfied: mdurl~=0.1 in c:\\users\\ing armel fopa\\desktop\\cours m2\\bloc 1 2026\\stic-b545 - traitement automatique de corpus - 202526\\projet\\projet_tac_1\\projet_tac_1_venv\\lib\\site-packages (from markdown-it-py>=2.2.0->rich->keras>=3.10.0->tensorflow<2.21,>=2.20->tf_keras) (0.1.2)\n",
      "Note: you may need to restart the kernel to use updated packages.\n"
     ]
    },
    {
     "name": "stderr",
     "output_type": "stream",
     "text": [
      "\n",
      "[notice] A new release of pip is available: 25.2 -> 25.3\n",
      "[notice] To update, run: python.exe -m pip install --upgrade pip\n"
     ]
    }
   ],
   "source": [
    "%pip install tensorflow\n",
    "%pip install sentencepiece\n",
    "%pip install transformers\n",
    "%pip install tf_keras\n",
    "\n",
    "from transformers import AutoTokenizer, TFAutoModelForSequenceClassification\n",
    "from transformers import pipeline"
   ]
  },
  {
   "cell_type": "markdown",
   "metadata": {},
   "source": [
    "### Chargement du modèle"
   ]
  },
  {
   "cell_type": "code",
   "execution_count": null,
   "metadata": {},
   "outputs": [],
   "source": [
    "tokenizer = AutoTokenizer.from_pretrained(\"tblard/tf-allocine\", use_pt=True)\n",
    "model = TFAutoModelForSequenceClassification.from_pretrained(\"tblard/tf-allocine\")\n",
    "\n",
    "sentiment_analyser = pipeline('sentiment-analysis', model=model, tokenizer=tokenizer)"
   ]
  },
  {
   "cell_type": "markdown",
   "metadata": {},
   "source": [
    "### Analyser le sentiment d'une phrase"
   ]
  },
  {
   "cell_type": "code",
   "execution_count": 39,
   "metadata": {},
   "outputs": [],
   "source": [
    "sentiment_analyser(\"Ce journal est vraiment super intéressant.\")"
   ]
  },
  {
   "cell_type": "code",
   "execution_count": null,
   "metadata": {},
   "outputs": [],
   "source": [
    "sentiment_analyser(\"Cette phrase est négative et je ne suis pas content !\")"
   ]
  }
 ],
 "metadata": {
  "kernelspec": {
   "display_name": "PROJET_TAC_1_venv",
   "language": "python",
   "name": "python3"
  },
  "language_info": {
   "codemirror_mode": {
    "name": "ipython",
    "version": 3
   },
   "file_extension": ".py",
   "mimetype": "text/x-python",
   "name": "python",
   "nbconvert_exporter": "python",
   "pygments_lexer": "ipython3",
   "version": "3.13.9"
  }
 },
 "nbformat": 4,
 "nbformat_minor": 4
}
