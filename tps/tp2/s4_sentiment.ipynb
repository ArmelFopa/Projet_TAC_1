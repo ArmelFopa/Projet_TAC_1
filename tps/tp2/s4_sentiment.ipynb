{
 "cells": [
  {
   "cell_type": "markdown",
   "metadata": {},
   "source": [
    "# Sentiment analysis \n",
    "\n",
    "\n",
    "\n",
    "Documentation: https://textblob.readthedocs.io/en/"
   ]
  },
  {
   "cell_type": "markdown",
   "metadata": {},
   "source": [
    "Preparation et chargement du corpus"
   ]
  },
  {
   "cell_type": "code",
   "execution_count": 5,
   "metadata": {},
   "outputs": [
    {
     "name": "stdout",
     "output_type": "stream",
     "text": [
      "Fichiers trouvés pour 1950: 4\n",
      "Taille du corpus 1950: 133,895 caractères\n",
      "\n",
      "Extrait:\n",
      " L'AVENIR DU LUXEMBOURG Samedi 15 avri j 350, \n",
      "MORHET \n",
      "Soirée dramatique \n",
      "1 Le cercle dramatique Sainte-Cécile \n",
      "de Morhet reprendra, ce dimanche 16 \n",
      "avril ^Quasimodo), sa brillante soirée \n",
      "qui a remporté un succès si remarqua-\n",
      "| bie le 10 mars dernier. \n",
      "i Rappelons ie programme : \n",
      "; 1) ouverture : « Brabançonne »,par \n",
      "• la Fantare ; 2) « La .bohème », chœur \n",
      "à 2 voix exécuté par JV^.es Renée Cara, \n",
      "j Josée Goffin, Anyse Hubermont et Hé-\n",
      "f lène Bellanger ; a) La comédie en deux \n",
      "actes de Marcell* \n"
     ]
    }
   ],
   "source": [
    "from pathlib import Path\n",
    "import re\n",
    "\n",
    "\n",
    "data_dir = Path(\"../../data/txt\")\n",
    "\n",
    "all_txt = list(data_dir.glob(\"*.txt\"))\n",
    "\n",
    "YEAR = \"1950\"\n",
    "pat = re.compile(rf\"{YEAR}\")\n",
    "\n",
    "files_year = [p for p in all_txt if pat.search(p.name)]\n",
    "print(f\"Fichiers trouvés pour {YEAR}: {len(files_year)}\")\n",
    "\n",
    "corpus_year = \"\"\n",
    "for path in files_year:\n",
    "    for enc in (\"utf-8\", \"latin-1\", \"cp1252\"):\n",
    "        try:\n",
    "            with open(path, \"r\", encoding=enc, errors=\"ignore\") as f:\n",
    "                corpus_year += f.read() + \"\\n\"\n",
    "            break\n",
    "        except Exception:\n",
    "            continue\n",
    "\n",
    "print(f\"Taille du corpus {YEAR}: {len(corpus_year):,} caractères\")\n",
    "print(\"\\nExtrait:\\n\", corpus_year[:500])"
   ]
  },
  {
   "cell_type": "code",
   "execution_count": 2,
   "metadata": {},
   "outputs": [
    {
     "name": "stderr",
     "output_type": "stream",
     "text": [
      "\n",
      "[notice] A new release of pip is available: 25.2 -> 25.3\n",
      "[notice] To update, run: python.exe -m pip install --upgrade pip\n"
     ]
    }
   ],
   "source": [
    "!python -m pip install -q textblob textblob-fr"
   ]
  },
  {
   "cell_type": "markdown",
   "metadata": {},
   "source": [
    "Import"
   ]
  },
  {
   "cell_type": "code",
   "execution_count": 6,
   "metadata": {},
   "outputs": [],
   "source": [
    "import pandas as pd\n",
    "from textblob import Blobber\n",
    "from textblob_fr import PatternTagger, PatternAnalyzer\n",
    "\n",
    "tb = Blobber(pos_tagger=PatternTagger(), analyzer=PatternAnalyzer())"
   ]
  },
  {
   "cell_type": "markdown",
   "metadata": {},
   "source": [
    "Decoupe du corpus en phrases"
   ]
  },
  {
   "cell_type": "code",
   "execution_count": 7,
   "metadata": {},
   "outputs": [
    {
     "data": {
      "text/plain": [
       "(2583,\n",
       " [\"L'AVENIR DU LUXEMBOURG Samedi 15 avri j 350, \\nMORHET \\nSoirée dramatique \\n1 Le cercle dramatique Sainte-Cécile \\nde Morhet reprendra, ce dimanche 16 \\navril ^Quasimodo), sa brillante soirée \\nqui a remporté un succès si remarqua-\\n| bie le 10 mars dernier.\",\n",
       "  \"i Rappelons ie programme : \\n; 1) ouverture : « Brabançonne »,par \\n• la Fantare ; 2) « La .bohème », chœur \\nà 2 voix exécuté par JV^.es Renée Cara, \\nj Josée Goffin, Anyse Hubermont et Hé-\\nf lène Bellanger ; a) La comédie en deux \\nactes de Marcell* Joignet « L'escalier \\n' du Monastère de -viarmoutier », qui se-\\n; ra interDretée par Josée Goffin, Marie-\\nLouise Flamant,, Madeleine Ska, Renée \\nCara, Solange Noirot, Jeanine Grand-\\n!\",\n",
       "  'iean,.'])"
      ]
     },
     "execution_count": 7,
     "metadata": {},
     "output_type": "execute_result"
    }
   ],
   "source": [
    "sentences = re.split(r'(?<=[\\.\\?\\!])\\s+', corpus_year)\n",
    "len(sentences), sentences[:3]"
   ]
  },
  {
   "cell_type": "markdown",
   "metadata": {},
   "source": [
    "Filtrage et choix de 10 phrases"
   ]
  },
  {
   "cell_type": "code",
   "execution_count": 8,
   "metadata": {},
   "outputs": [
    {
     "name": "stdout",
     "output_type": "stream",
     "text": [
      "1. Madeleine Van Mullem ; 4) « La \n",
      "Vierge du Portail de Reims », 1 acte en \n",
      "prose de Philippe Gérard, interprété \n",
      "par Renée Lambert, Madeleine Ska, \n",
      "j Renée Cara, Jeanine Grandjean, Ma-\n",
      "j rie-Louise Flamant, Marguerite Maquet \n",
      "', et Solange Grandjean ; 5) La comédie \n",
      ",' en 2 actes de M.\n",
      "\n",
      "2. Cartier-Bresson « L'E-\n",
      ": toile », Interorétée par Madeleine Ska, \n",
      "' Jeanine Grandjean, Marguerite Ma-\n",
      "3uet, Jeanne Bays, Solange Noirot, Ma-\n",
      "eleine Van Mullem, Marie-Louise Fla­\n",
      "mant, Josée Goffin et Solange Grand­\n",
      "jean ; 6) Intermèdes et tombola ; 7) \n",
      "€ Vers l'Avenir », exécuté par la Fan-\n",
      "lare.\n",
      "\n",
      "3. La Fanfare sera dirigée par M.\n",
      "\n",
      "4. Emile \n",
      "Binet, organiste de l'église Saint-Mar­\n",
      "tin, à Arlon.\n",
      "\n",
      "5. VAUX-LEZ-ROSIERES \n",
      "Succès théâtral \n",
      "Le dimanche de Pâques, la dramati­\n",
      "que locale s'est taillée un magnifique \n",
      "succès en interprétant : t Gosse de \n",
      "misère », grand drame humain en 5 ac­\n",
      "tes, de Mathilde Mortier, et « Notre \n",
      "nouveau Malt' d'école », la fine comédie \n",
      "d'A.\n",
      "\n",
      "6. jeux de lumière très bien appropriés.\n",
      "\n",
      "7. D'avance, on se \n",
      "1 réjouit déjà de la saison prochaine, \n",
      "] lorsque la scène et la salle seront agran-\n",
      "d eiset où pourront être portées usr les \n",
      "planches, des pièces de grande envergu­\n",
      "re.\n",
      "\n",
      "8. Quant à la comédie, disons tout de \n",
      "suite qu'avec des spécialistes de ce gen­\n",
      "re, elle était assurée d'avance de re­\n",
      "cueillir tous les suffrages.\n",
      "\n",
      "9. Aussi, nous \n",
      "nous bornerons à signaler qu'elle fut \n",
      "enlevée avec brio.\n",
      "\n",
      "10. Le même spectacle sera rendu ce di­\n",
      "manche 16 avril.\n",
      "\n"
     ]
    }
   ],
   "source": [
    "clean_sentences = [s.strip() for s in sentences \n",
    "                   if len(s.split()) >= 6 and not re.search(r\"[@^~%$§<>]\", s)]\n",
    "\n",
    "# Prendre les 10 premières\n",
    "sample_sentences = clean_sentences[:10]\n",
    "\n",
    "for i, s in enumerate(sample_sentences, 1):\n",
    "    print(f\"{i}. {s}\\n\")"
   ]
  },
  {
   "cell_type": "markdown",
   "metadata": {},
   "source": [
    "Calcul de la polarité et subjectivité"
   ]
  },
  {
   "cell_type": "code",
   "execution_count": 9,
   "metadata": {},
   "outputs": [
    {
     "data": {
      "text/html": [
       "<div>\n",
       "<style scoped>\n",
       "    .dataframe tbody tr th:only-of-type {\n",
       "        vertical-align: middle;\n",
       "    }\n",
       "\n",
       "    .dataframe tbody tr th {\n",
       "        vertical-align: top;\n",
       "    }\n",
       "\n",
       "    .dataframe thead th {\n",
       "        text-align: right;\n",
       "    }\n",
       "</style>\n",
       "<table border=\"1\" class=\"dataframe\">\n",
       "  <thead>\n",
       "    <tr style=\"text-align: right;\">\n",
       "      <th></th>\n",
       "      <th>phrase</th>\n",
       "      <th>polarité</th>\n",
       "      <th>subjectivité</th>\n",
       "    </tr>\n",
       "  </thead>\n",
       "  <tbody>\n",
       "    <tr>\n",
       "      <th>0</th>\n",
       "      <td>Madeleine Van Mullem ; 4) « La \\nVierge du Por...</td>\n",
       "      <td>0.100000</td>\n",
       "      <td>0.000000</td>\n",
       "    </tr>\n",
       "    <tr>\n",
       "      <th>1</th>\n",
       "      <td>Cartier-Bresson « L'E-\\n: toile », Interorétée...</td>\n",
       "      <td>0.000000</td>\n",
       "      <td>0.000000</td>\n",
       "    </tr>\n",
       "    <tr>\n",
       "      <th>2</th>\n",
       "      <td>La Fanfare sera dirigée par M.</td>\n",
       "      <td>0.000000</td>\n",
       "      <td>0.000000</td>\n",
       "    </tr>\n",
       "    <tr>\n",
       "      <th>3</th>\n",
       "      <td>Emile \\nBinet, organiste de l'église Saint-Mar...</td>\n",
       "      <td>0.000000</td>\n",
       "      <td>0.000000</td>\n",
       "    </tr>\n",
       "    <tr>\n",
       "      <th>4</th>\n",
       "      <td>VAUX-LEZ-ROSIERES \\nSuccès théâtral \\nLe diman...</td>\n",
       "      <td>0.226250</td>\n",
       "      <td>0.337500</td>\n",
       "    </tr>\n",
       "    <tr>\n",
       "      <th>5</th>\n",
       "      <td>jeux de lumière très bien appropriés.</td>\n",
       "      <td>0.000000</td>\n",
       "      <td>0.200000</td>\n",
       "    </tr>\n",
       "    <tr>\n",
       "      <th>6</th>\n",
       "      <td>D'avance, on se \\n1 réjouit déjà de la saison ...</td>\n",
       "      <td>0.150000</td>\n",
       "      <td>0.100000</td>\n",
       "    </tr>\n",
       "    <tr>\n",
       "      <th>7</th>\n",
       "      <td>Quant à la comédie, disons tout de \\nsuite qu'...</td>\n",
       "      <td>0.213333</td>\n",
       "      <td>0.133333</td>\n",
       "    </tr>\n",
       "    <tr>\n",
       "      <th>8</th>\n",
       "      <td>Aussi, nous \\nnous bornerons à signaler qu'ell...</td>\n",
       "      <td>0.000000</td>\n",
       "      <td>0.000000</td>\n",
       "    </tr>\n",
       "    <tr>\n",
       "      <th>9</th>\n",
       "      <td>Le même spectacle sera rendu ce di­\\nmanche 16...</td>\n",
       "      <td>0.000000</td>\n",
       "      <td>0.500000</td>\n",
       "    </tr>\n",
       "  </tbody>\n",
       "</table>\n",
       "</div>"
      ],
      "text/plain": [
       "                                              phrase  polarité  subjectivité\n",
       "0  Madeleine Van Mullem ; 4) « La \\nVierge du Por...  0.100000      0.000000\n",
       "1  Cartier-Bresson « L'E-\\n: toile », Interorétée...  0.000000      0.000000\n",
       "2                     La Fanfare sera dirigée par M.  0.000000      0.000000\n",
       "3  Emile \\nBinet, organiste de l'église Saint-Mar...  0.000000      0.000000\n",
       "4  VAUX-LEZ-ROSIERES \\nSuccès théâtral \\nLe diman...  0.226250      0.337500\n",
       "5              jeux de lumière très bien appropriés.  0.000000      0.200000\n",
       "6  D'avance, on se \\n1 réjouit déjà de la saison ...  0.150000      0.100000\n",
       "7  Quant à la comédie, disons tout de \\nsuite qu'...  0.213333      0.133333\n",
       "8  Aussi, nous \\nnous bornerons à signaler qu'ell...  0.000000      0.000000\n",
       "9  Le même spectacle sera rendu ce di­\\nmanche 16...  0.000000      0.500000"
      ]
     },
     "execution_count": 9,
     "metadata": {},
     "output_type": "execute_result"
    }
   ],
   "source": [
    "results = []\n",
    "\n",
    "for s in sample_sentences:\n",
    "    blob = tb(s)\n",
    "    sentiment = blob.sentiment\n",
    "    results.append((s, sentiment[0], sentiment[1]))\n",
    "\n",
    "\n",
    "df_sent = pd.DataFrame(results, columns=[\"phrase\", \"polarité\", \"subjectivité\"])\n",
    "df_sent"
   ]
  },
  {
   "cell_type": "markdown",
   "metadata": {},
   "source": [
    "## Utilisation de transformers"
   ]
  },
  {
   "cell_type": "markdown",
   "metadata": {},
   "source": [
    "Importation du pipeline Transformers"
   ]
  },
  {
   "cell_type": "code",
   "execution_count": 1,
   "metadata": {},
   "outputs": [
    {
     "name": "stderr",
     "output_type": "stream",
     "text": [
      "\n",
      "[notice] A new release of pip is available: 25.2 -> 25.3\n",
      "[notice] To update, run: python.exe -m pip install --upgrade pip\n"
     ]
    }
   ],
   "source": [
    "!pip install transformers -q"
   ]
  },
  {
   "cell_type": "code",
   "execution_count": 2,
   "metadata": {},
   "outputs": [
    {
     "name": "stderr",
     "output_type": "stream",
     "text": [
      "c:\\Users\\Ing Armel Fopa\\Desktop\\cours M2\\Bloc 1 2026\\STIC-B545 - Traitement automatique de corpus - 202526\\PROJET\\Projet_TAC_1\\PROJET_TAC_1_venv\\Lib\\site-packages\\tqdm\\auto.py:21: TqdmWarning: IProgress not found. Please update jupyter and ipywidgets. See https://ipywidgets.readthedocs.io/en/stable/user_install.html\n",
      "  from .autonotebook import tqdm as notebook_tqdm\n",
      "Xet Storage is enabled for this repo, but the 'hf_xet' package is not installed. Falling back to regular HTTP download. For better performance, install the package with: `pip install huggingface_hub[hf_xet]` or `pip install hf_xet`\n",
      "c:\\Users\\Ing Armel Fopa\\Desktop\\cours M2\\Bloc 1 2026\\STIC-B545 - Traitement automatique de corpus - 202526\\PROJET\\Projet_TAC_1\\PROJET_TAC_1_venv\\Lib\\site-packages\\huggingface_hub\\file_download.py:143: UserWarning: `huggingface_hub` cache-system uses symlinks by default to efficiently store duplicated files but your machine does not support them in C:\\Users\\Ing Armel Fopa\\.cache\\huggingface\\hub\\models--nlptown--bert-base-multilingual-uncased-sentiment. Caching files will still work but in a degraded version that might require more space on your disk. This warning can be disabled by setting the `HF_HUB_DISABLE_SYMLINKS_WARNING` environment variable. For more details, see https://huggingface.co/docs/huggingface_hub/how-to-cache#limitations.\n",
      "To support symlinks on Windows, you either need to activate Developer Mode or to run Python as an administrator. In order to activate developer mode, see this article: https://docs.microsoft.com/en-us/windows/apps/get-started/enable-your-device-for-development\n",
      "  warnings.warn(message)\n"
     ]
    },
    {
     "data": {
      "text/plain": [
       "{0: '1 star', 1: '2 stars', 2: '3 stars', 3: '4 stars', 4: '5 stars'}"
      ]
     },
     "execution_count": 2,
     "metadata": {},
     "output_type": "execute_result"
    }
   ],
   "source": [
    "from transformers import AutoTokenizer, AutoModelForSequenceClassification\n",
    "import torch\n",
    "\n",
    "MODEL = \"nlptown/bert-base-multilingual-uncased-sentiment\"\n",
    "tokenizer = AutoTokenizer.from_pretrained(MODEL)\n",
    "model = AutoModelForSequenceClassification.from_pretrained(MODEL)\n",
    "\n",
    "id2label = model.config.id2label\n",
    "id2label"
   ]
  },
  {
   "cell_type": "markdown",
   "metadata": {},
   "source": [
    "Fonction d'inférence"
   ]
  },
  {
   "cell_type": "code",
   "execution_count": 3,
   "metadata": {},
   "outputs": [],
   "source": [
    "def hf_sentiment_stars(text):\n",
    "    enc = tokenizer(text, return_tensors=\"pt\", truncation=True, max_length=512)\n",
    "    with torch.no_grad():\n",
    "        logits = model(**enc).logits\n",
    "        probs = torch.softmax(logits, dim=-1)[0]\n",
    "        idx = int(torch.argmax(probs).item())\n",
    "        return id2label[idx], float(probs[idx].item())"
   ]
  },
  {
   "cell_type": "markdown",
   "metadata": {},
   "source": [
    "Application du modèle sur nos 10 phrases"
   ]
  },
  {
   "cell_type": "code",
   "execution_count": 10,
   "metadata": {},
   "outputs": [
    {
     "data": {
      "text/html": [
       "<div>\n",
       "<style scoped>\n",
       "    .dataframe tbody tr th:only-of-type {\n",
       "        vertical-align: middle;\n",
       "    }\n",
       "\n",
       "    .dataframe tbody tr th {\n",
       "        vertical-align: top;\n",
       "    }\n",
       "\n",
       "    .dataframe thead th {\n",
       "        text-align: right;\n",
       "    }\n",
       "</style>\n",
       "<table border=\"1\" class=\"dataframe\">\n",
       "  <thead>\n",
       "    <tr style=\"text-align: right;\">\n",
       "      <th></th>\n",
       "      <th>phrase</th>\n",
       "      <th>label</th>\n",
       "      <th>score</th>\n",
       "    </tr>\n",
       "  </thead>\n",
       "  <tbody>\n",
       "    <tr>\n",
       "      <th>0</th>\n",
       "      <td>Madeleine Van Mullem ; 4) « La \\nVierge du Por...</td>\n",
       "      <td>4 stars</td>\n",
       "      <td>0.414476</td>\n",
       "    </tr>\n",
       "    <tr>\n",
       "      <th>1</th>\n",
       "      <td>Cartier-Bresson « L'E-\\n: toile », Interorétée...</td>\n",
       "      <td>5 stars</td>\n",
       "      <td>0.408238</td>\n",
       "    </tr>\n",
       "    <tr>\n",
       "      <th>2</th>\n",
       "      <td>La Fanfare sera dirigée par M.</td>\n",
       "      <td>5 stars</td>\n",
       "      <td>0.337333</td>\n",
       "    </tr>\n",
       "    <tr>\n",
       "      <th>3</th>\n",
       "      <td>Emile \\nBinet, organiste de l'église Saint-Mar...</td>\n",
       "      <td>4 stars</td>\n",
       "      <td>0.333331</td>\n",
       "    </tr>\n",
       "    <tr>\n",
       "      <th>4</th>\n",
       "      <td>VAUX-LEZ-ROSIERES \\nSuccès théâtral \\nLe diman...</td>\n",
       "      <td>5 stars</td>\n",
       "      <td>0.407650</td>\n",
       "    </tr>\n",
       "    <tr>\n",
       "      <th>5</th>\n",
       "      <td>jeux de lumière très bien appropriés.</td>\n",
       "      <td>5 stars</td>\n",
       "      <td>0.620357</td>\n",
       "    </tr>\n",
       "    <tr>\n",
       "      <th>6</th>\n",
       "      <td>D'avance, on se \\n1 réjouit déjà de la saison ...</td>\n",
       "      <td>2 stars</td>\n",
       "      <td>0.415875</td>\n",
       "    </tr>\n",
       "    <tr>\n",
       "      <th>7</th>\n",
       "      <td>Quant à la comédie, disons tout de \\nsuite qu'...</td>\n",
       "      <td>3 stars</td>\n",
       "      <td>0.353920</td>\n",
       "    </tr>\n",
       "    <tr>\n",
       "      <th>8</th>\n",
       "      <td>Aussi, nous \\nnous bornerons à signaler qu'ell...</td>\n",
       "      <td>3 stars</td>\n",
       "      <td>0.290528</td>\n",
       "    </tr>\n",
       "    <tr>\n",
       "      <th>9</th>\n",
       "      <td>Le même spectacle sera rendu ce di­\\nmanche 16...</td>\n",
       "      <td>1 star</td>\n",
       "      <td>0.407523</td>\n",
       "    </tr>\n",
       "  </tbody>\n",
       "</table>\n",
       "</div>"
      ],
      "text/plain": [
       "                                              phrase    label     score\n",
       "0  Madeleine Van Mullem ; 4) « La \\nVierge du Por...  4 stars  0.414476\n",
       "1  Cartier-Bresson « L'E-\\n: toile », Interorétée...  5 stars  0.408238\n",
       "2                     La Fanfare sera dirigée par M.  5 stars  0.337333\n",
       "3  Emile \\nBinet, organiste de l'église Saint-Mar...  4 stars  0.333331\n",
       "4  VAUX-LEZ-ROSIERES \\nSuccès théâtral \\nLe diman...  5 stars  0.407650\n",
       "5              jeux de lumière très bien appropriés.  5 stars  0.620357\n",
       "6  D'avance, on se \\n1 réjouit déjà de la saison ...  2 stars  0.415875\n",
       "7  Quant à la comédie, disons tout de \\nsuite qu'...  3 stars  0.353920\n",
       "8  Aussi, nous \\nnous bornerons à signaler qu'ell...  3 stars  0.290528\n",
       "9  Le même spectacle sera rendu ce di­\\nmanche 16...   1 star  0.407523"
      ]
     },
     "execution_count": 10,
     "metadata": {},
     "output_type": "execute_result"
    }
   ],
   "source": [
    "results_hf = []\n",
    "for s in sample_sentences:\n",
    "    label, score = hf_sentiment_stars(s)\n",
    "    results_hf.append((s, label, score))\n",
    "\n",
    "import pandas as pd\n",
    "df_hf = pd.DataFrame(results_hf, columns=[\"phrase\", \"label\", \"score\"])\n",
    "df_hf\n"
   ]
  }
 ],
 "metadata": {
  "kernelspec": {
   "display_name": "PROJET_TAC_1_venv",
   "language": "python",
   "name": "python3"
  },
  "language_info": {
   "codemirror_mode": {
    "name": "ipython",
    "version": 3
   },
   "file_extension": ".py",
   "mimetype": "text/x-python",
   "name": "python",
   "nbconvert_exporter": "python",
   "pygments_lexer": "ipython3",
   "version": "3.13.9"
  }
 },
 "nbformat": 4,
 "nbformat_minor": 4
}
