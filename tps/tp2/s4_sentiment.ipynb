{
 "cells": [
  {
   "cell_type": "markdown",
   "metadata": {},
   "source": [
    "# Sentiment analysis \n",
    "\n",
    "\n",
    "\n",
    "Documentation: https://textblob.readthedocs.io/en/"
   ]
  },
  {
   "cell_type": "markdown",
   "metadata": {},
   "source": [
    "Preparation et chargement du corpus"
   ]
  },
  {
   "cell_type": "code",
   "execution_count": 1,
   "metadata": {},
   "outputs": [
    {
     "name": "stdout",
     "output_type": "stream",
     "text": [
      "Fichiers trouvés pour 1950: 4\n",
      "Taille du corpus 1950: 133,895 caractères\n",
      "\n",
      "Extrait:\n",
      " L'AVENIR DU LUXEMBOURG Samedi 15 avri j 350, \n",
      "MORHET \n",
      "Soirée dramatique \n",
      "1 Le cercle dramatique Sainte-Cécile \n",
      "de Morhet reprendra, ce dimanche 16 \n",
      "avril ^Quasimodo), sa brillante soirée \n",
      "qui a remporté un succès si remarqua-\n",
      "| bie le 10 mars dernier. \n",
      "i Rappelons ie programme : \n",
      "; 1) ouverture : « Brabançonne »,par \n",
      "• la Fantare ; 2) « La .bohème », chœur \n",
      "à 2 voix exécuté par JV^.es Renée Cara, \n",
      "j Josée Goffin, Anyse Hubermont et Hé-\n",
      "f lène Bellanger ; a) La comédie en deux \n",
      "actes de Marcell* \n"
     ]
    }
   ],
   "source": [
    "from pathlib import Path\n",
    "import re\n",
    "\n",
    "\n",
    "data_dir = Path(\"../../data/txt\")\n",
    "\n",
    "all_txt = list(data_dir.glob(\"*.txt\"))\n",
    "\n",
    "YEAR = \"1950\"\n",
    "pat = re.compile(rf\"{YEAR}\")\n",
    "\n",
    "files_year = [p for p in all_txt if pat.search(p.name)]\n",
    "print(f\"Fichiers trouvés pour {YEAR}: {len(files_year)}\")\n",
    "\n",
    "corpus_year = \"\"\n",
    "for path in files_year:\n",
    "    for enc in (\"utf-8\", \"latin-1\", \"cp1252\"):\n",
    "        try:\n",
    "            with open(path, \"r\", encoding=enc, errors=\"ignore\") as f:\n",
    "                corpus_year += f.read() + \"\\n\"\n",
    "            break\n",
    "        except Exception:\n",
    "            continue\n",
    "\n",
    "print(f\"Taille du corpus {YEAR}: {len(corpus_year):,} caractères\")\n",
    "print(\"\\nExtrait:\\n\", corpus_year[:500])"
   ]
  },
  {
   "cell_type": "markdown",
   "metadata": {},
   "source": []
  },
  {
   "cell_type": "code",
   "execution_count": 2,
   "metadata": {},
   "outputs": [
    {
     "name": "stderr",
     "output_type": "stream",
     "text": [
      "\n",
      "[notice] A new release of pip is available: 25.2 -> 25.3\n",
      "[notice] To update, run: python.exe -m pip install --upgrade pip\n"
     ]
    }
   ],
   "source": [
    "!python -m pip install -q textblob textblob-fr"
   ]
  },
  {
   "cell_type": "markdown",
   "metadata": {},
   "source": [
    "Import"
   ]
  },
  {
   "cell_type": "code",
   "execution_count": 6,
   "metadata": {},
   "outputs": [],
   "source": [
    "import pandas as pd\n",
    "from textblob import Blobber\n",
    "from textblob_fr import PatternTagger, PatternAnalyzer\n",
    "\n",
    "tb = Blobber(pos_tagger=PatternTagger(), analyzer=PatternAnalyzer())"
   ]
  },
  {
   "cell_type": "markdown",
   "metadata": {},
   "source": [
    "Decoupe du corpus en phrases"
   ]
  },
  {
   "cell_type": "code",
   "execution_count": 7,
   "metadata": {},
   "outputs": [
    {
     "data": {
      "text/plain": [
       "(2583,\n",
       " [\"L'AVENIR DU LUXEMBOURG Samedi 15 avri j 350, \\nMORHET \\nSoirée dramatique \\n1 Le cercle dramatique Sainte-Cécile \\nde Morhet reprendra, ce dimanche 16 \\navril ^Quasimodo), sa brillante soirée \\nqui a remporté un succès si remarqua-\\n| bie le 10 mars dernier.\",\n",
       "  \"i Rappelons ie programme : \\n; 1) ouverture : « Brabançonne »,par \\n• la Fantare ; 2) « La .bohème », chœur \\nà 2 voix exécuté par JV^.es Renée Cara, \\nj Josée Goffin, Anyse Hubermont et Hé-\\nf lène Bellanger ; a) La comédie en deux \\nactes de Marcell* Joignet « L'escalier \\n' du Monastère de -viarmoutier », qui se-\\n; ra interDretée par Josée Goffin, Marie-\\nLouise Flamant,, Madeleine Ska, Renée \\nCara, Solange Noirot, Jeanine Grand-\\n!\",\n",
       "  'iean,.'])"
      ]
     },
     "execution_count": 7,
     "metadata": {},
     "output_type": "execute_result"
    }
   ],
   "source": [
    "sentences = re.split(r'(?<=[\\.\\?\\!])\\s+', corpus_year)\n",
    "len(sentences), sentences[:3]"
   ]
  },
  {
   "cell_type": "markdown",
   "metadata": {},
   "source": [
    "Filtrage et choix de 10 phrases"
   ]
  },
  {
   "cell_type": "code",
   "execution_count": 5,
   "metadata": {},
   "outputs": [
    {
     "name": "stdout",
     "output_type": "stream",
     "text": [
      "1. Madeleine Van Mullem ; 4) « La \n",
      "Vierge du Portail de Reims », 1 acte en \n",
      "prose de Philippe Gérard, interprété \n",
      "par Renée Lambert, Madeleine Ska, \n",
      "j Renée Cara, Jeanine Grandjean, Ma-\n",
      "j rie-Louise Flamant, Marguerite Maquet \n",
      "', et Solange Grandjean ; 5) La comédie \n",
      ",' en 2 actes de M.\n",
      "\n",
      "2. Cartier-Bresson « L'E-\n",
      ": toile », Interorétée par Madeleine Ska, \n",
      "' Jeanine Grandjean, Marguerite Ma-\n",
      "3uet, Jeanne Bays, Solange Noirot, Ma-\n",
      "eleine Van Mullem, Marie-Louise Fla­\n",
      "mant, Josée Goffin et Solange Grand­\n",
      "jean ; 6) Intermèdes et tombola ; 7) \n",
      "€ Vers l'Avenir », exécuté par la Fan-\n",
      "lare.\n",
      "\n",
      "3. La Fanfare sera dirigée par M.\n",
      "\n",
      "4. Emile \n",
      "Binet, organiste de l'église Saint-Mar­\n",
      "tin, à Arlon.\n",
      "\n",
      "5. VAUX-LEZ-ROSIERES \n",
      "Succès théâtral \n",
      "Le dimanche de Pâques, la dramati­\n",
      "que locale s'est taillée un magnifique \n",
      "succès en interprétant : t Gosse de \n",
      "misère », grand drame humain en 5 ac­\n",
      "tes, de Mathilde Mortier, et « Notre \n",
      "nouveau Malt' d'école », la fine comédie \n",
      "d'A.\n",
      "\n",
      "6. jeux de lumière très bien appropriés.\n",
      "\n",
      "7. D'avance, on se \n",
      "1 réjouit déjà de la saison prochaine, \n",
      "] lorsque la scène et la salle seront agran-\n",
      "d eiset où pourront être portées usr les \n",
      "planches, des pièces de grande envergu­\n",
      "re.\n",
      "\n",
      "8. Quant à la comédie, disons tout de \n",
      "suite qu'avec des spécialistes de ce gen­\n",
      "re, elle était assurée d'avance de re­\n",
      "cueillir tous les suffrages.\n",
      "\n",
      "9. Aussi, nous \n",
      "nous bornerons à signaler qu'elle fut \n",
      "enlevée avec brio.\n",
      "\n",
      "10. Le même spectacle sera rendu ce di­\n",
      "manche 16 avril.\n",
      "\n"
     ]
    }
   ],
   "source": [
    "clean_sentences = [s.strip() for s in sentences \n",
    "                   if len(s.split()) >= 6 and not re.search(r\"[@^~%$§<>]\", s)]\n",
    "\n",
    "# Prendre les 10 premières\n",
    "sample_sentences = clean_sentences[:10]\n",
    "\n",
    "for i, s in enumerate(sample_sentences, 1):\n",
    "    print(f\"{i}. {s}\\n\")"
   ]
  },
  {
   "cell_type": "markdown",
   "metadata": {},
   "source": [
    "Calcul de la polarité et subjectivité"
   ]
  },
  {
   "cell_type": "code",
   "execution_count": 8,
   "metadata": {},
   "outputs": [
    {
     "data": {
      "text/html": [
       "<div>\n",
       "<style scoped>\n",
       "    .dataframe tbody tr th:only-of-type {\n",
       "        vertical-align: middle;\n",
       "    }\n",
       "\n",
       "    .dataframe tbody tr th {\n",
       "        vertical-align: top;\n",
       "    }\n",
       "\n",
       "    .dataframe thead th {\n",
       "        text-align: right;\n",
       "    }\n",
       "</style>\n",
       "<table border=\"1\" class=\"dataframe\">\n",
       "  <thead>\n",
       "    <tr style=\"text-align: right;\">\n",
       "      <th></th>\n",
       "      <th>phrase</th>\n",
       "      <th>polarité</th>\n",
       "      <th>subjectivité</th>\n",
       "    </tr>\n",
       "  </thead>\n",
       "  <tbody>\n",
       "    <tr>\n",
       "      <th>0</th>\n",
       "      <td>Madeleine Van Mullem ; 4) « La \\nVierge du Por...</td>\n",
       "      <td>0.100000</td>\n",
       "      <td>0.000000</td>\n",
       "    </tr>\n",
       "    <tr>\n",
       "      <th>1</th>\n",
       "      <td>Cartier-Bresson « L'E-\\n: toile », Interorétée...</td>\n",
       "      <td>0.000000</td>\n",
       "      <td>0.000000</td>\n",
       "    </tr>\n",
       "    <tr>\n",
       "      <th>2</th>\n",
       "      <td>La Fanfare sera dirigée par M.</td>\n",
       "      <td>0.000000</td>\n",
       "      <td>0.000000</td>\n",
       "    </tr>\n",
       "    <tr>\n",
       "      <th>3</th>\n",
       "      <td>Emile \\nBinet, organiste de l'église Saint-Mar...</td>\n",
       "      <td>0.000000</td>\n",
       "      <td>0.000000</td>\n",
       "    </tr>\n",
       "    <tr>\n",
       "      <th>4</th>\n",
       "      <td>VAUX-LEZ-ROSIERES \\nSuccès théâtral \\nLe diman...</td>\n",
       "      <td>0.226250</td>\n",
       "      <td>0.337500</td>\n",
       "    </tr>\n",
       "    <tr>\n",
       "      <th>5</th>\n",
       "      <td>jeux de lumière très bien appropriés.</td>\n",
       "      <td>0.000000</td>\n",
       "      <td>0.200000</td>\n",
       "    </tr>\n",
       "    <tr>\n",
       "      <th>6</th>\n",
       "      <td>D'avance, on se \\n1 réjouit déjà de la saison ...</td>\n",
       "      <td>0.150000</td>\n",
       "      <td>0.100000</td>\n",
       "    </tr>\n",
       "    <tr>\n",
       "      <th>7</th>\n",
       "      <td>Quant à la comédie, disons tout de \\nsuite qu'...</td>\n",
       "      <td>0.213333</td>\n",
       "      <td>0.133333</td>\n",
       "    </tr>\n",
       "    <tr>\n",
       "      <th>8</th>\n",
       "      <td>Aussi, nous \\nnous bornerons à signaler qu'ell...</td>\n",
       "      <td>0.000000</td>\n",
       "      <td>0.000000</td>\n",
       "    </tr>\n",
       "    <tr>\n",
       "      <th>9</th>\n",
       "      <td>Le même spectacle sera rendu ce di­\\nmanche 16...</td>\n",
       "      <td>0.000000</td>\n",
       "      <td>0.500000</td>\n",
       "    </tr>\n",
       "  </tbody>\n",
       "</table>\n",
       "</div>"
      ],
      "text/plain": [
       "                                              phrase  polarité  subjectivité\n",
       "0  Madeleine Van Mullem ; 4) « La \\nVierge du Por...  0.100000      0.000000\n",
       "1  Cartier-Bresson « L'E-\\n: toile », Interorétée...  0.000000      0.000000\n",
       "2                     La Fanfare sera dirigée par M.  0.000000      0.000000\n",
       "3  Emile \\nBinet, organiste de l'église Saint-Mar...  0.000000      0.000000\n",
       "4  VAUX-LEZ-ROSIERES \\nSuccès théâtral \\nLe diman...  0.226250      0.337500\n",
       "5              jeux de lumière très bien appropriés.  0.000000      0.200000\n",
       "6  D'avance, on se \\n1 réjouit déjà de la saison ...  0.150000      0.100000\n",
       "7  Quant à la comédie, disons tout de \\nsuite qu'...  0.213333      0.133333\n",
       "8  Aussi, nous \\nnous bornerons à signaler qu'ell...  0.000000      0.000000\n",
       "9  Le même spectacle sera rendu ce di­\\nmanche 16...  0.000000      0.500000"
      ]
     },
     "execution_count": 8,
     "metadata": {},
     "output_type": "execute_result"
    }
   ],
   "source": [
    "results = []\n",
    "\n",
    "for s in sample_sentences:\n",
    "    blob = tb(s)\n",
    "    sentiment = blob.sentiment\n",
    "    results.append((s, sentiment[0], sentiment[1]))\n",
    "\n",
    "\n",
    "df_sent = pd.DataFrame(results, columns=[\"phrase\", \"polarité\", \"subjectivité\"])\n",
    "df_sent"
   ]
  },
  {
   "cell_type": "markdown",
   "metadata": {},
   "source": [
    "### Création d'une fonction `get_sentiment`"
   ]
  },
  {
   "cell_type": "code",
   "execution_count": 4,
   "metadata": {},
   "outputs": [],
   "source": [
    "tb = Blobber(pos_tagger=PatternTagger(), analyzer=PatternAnalyzer())\n",
    "\n",
    "def get_sentiment(input_text):\n",
    "    blob = tb(input_text)\n",
    "    polarity, subjectivity = blob.sentiment\n",
    "    polarity_perc = f\"{100*abs(polarity):.0f}\"\n",
    "    subjectivity_perc = f\"{100*subjectivity:.0f}\"\n",
    "    if polarity > 0:\n",
    "        polarity_str = f\"{polarity_perc}% positive\"\n",
    "    elif polarity < 0:\n",
    "        polarity_str = f\"{polarity_perc}% negative\"\n",
    "    else:\n",
    "        polarity_str = \"neutral\"\n",
    "    if subjectivity > 0:\n",
    "        subjectivity_str = f\"{subjectivity_perc}% subjective\"\n",
    "    else:\n",
    "        subjectivity_str = \"perfectly objective\"\n",
    "    print(f\"This text is {polarity_str} and {subjectivity_str}.\")"
   ]
  },
  {
   "cell_type": "markdown",
   "metadata": {},
   "source": [
    "### Analyser le sentiment d'une phrase"
   ]
  },
  {
   "cell_type": "code",
   "execution_count": null,
   "metadata": {
    "tags": []
   },
   "outputs": [],
   "source": [
    "get_sentiment(\"Ce journal est vraiment super intéressant.\")"
   ]
  },
  {
   "cell_type": "code",
   "execution_count": null,
   "metadata": {
    "tags": []
   },
   "outputs": [],
   "source": [
    "get_sentiment(\"Cette phrase est négative et je ne suis pas content !\")"
   ]
  },
  {
   "cell_type": "markdown",
   "metadata": {},
   "source": [
    "## Utilisation de transformers"
   ]
  },
  {
   "cell_type": "markdown",
   "metadata": {},
   "source": [
    "Importation du pipeline Transformers"
   ]
  },
  {
   "cell_type": "code",
   "execution_count": null,
   "metadata": {},
   "outputs": [],
   "source": [
    "from transformers import pipeline"
   ]
  },
  {
   "cell_type": "markdown",
   "metadata": {},
   "source": [
    "## 2. Utilisation de transformers\n",
    "\n",
    "Documentation: https://github.com/TheophileBlard/french-sentiment-analysis-with-bert\n",
    "\n",
    "**!!** Si le code ne tourne pas sur votre machine, vous pouvez le tester directement sur Google Colab en utilisant [ce lien](https://colab.research.google.com/github/TheophileBlard/french-sentiment-analysis-with-bert/blob/master/colab/french_sentiment_analysis_with_bert.ipynb) **!!**\n",
    "\n",
    "Le modèle peut également être testé en ligne sur [HuggingFace](https://huggingface.co/tblard/tf-allocine)\n",
    "\n",
    "### Installation des librairies et imports"
   ]
  },
  {
   "cell_type": "code",
   "execution_count": null,
   "metadata": {},
   "outputs": [],
   "source": [
    "%pip install tensorflow\n",
    "%pip install sentencepiece\n",
    "%pip install transformers\n",
    "%pip install tf_keras\n",
    "\n",
    "from transformers import AutoTokenizer, TFAutoModelForSequenceClassification\n",
    "from transformers import pipeline"
   ]
  },
  {
   "cell_type": "markdown",
   "metadata": {},
   "source": [
    "### Chargement du modèle"
   ]
  },
  {
   "cell_type": "code",
   "execution_count": null,
   "metadata": {},
   "outputs": [],
   "source": [
    "tokenizer = AutoTokenizer.from_pretrained(\"tblard/tf-allocine\", use_pt=True)\n",
    "model = TFAutoModelForSequenceClassification.from_pretrained(\"tblard/tf-allocine\")\n",
    "\n",
    "sentiment_analyser = pipeline('sentiment-analysis', model=model, tokenizer=tokenizer)"
   ]
  },
  {
   "cell_type": "markdown",
   "metadata": {},
   "source": [
    "### Analyser le sentiment d'une phrase"
   ]
  },
  {
   "cell_type": "code",
   "execution_count": 39,
   "metadata": {},
   "outputs": [],
   "source": [
    "sentiment_analyser(\"Ce journal est vraiment super intéressant.\")"
   ]
  },
  {
   "cell_type": "code",
   "execution_count": null,
   "metadata": {},
   "outputs": [],
   "source": [
    "sentiment_analyser(\"Cette phrase est négative et je ne suis pas content !\")"
   ]
  }
 ],
 "metadata": {
  "kernelspec": {
   "display_name": "PROJET_TAC_1_venv",
   "language": "python",
   "name": "python3"
  },
  "language_info": {
   "codemirror_mode": {
    "name": "ipython",
    "version": 3
   },
   "file_extension": ".py",
   "mimetype": "text/x-python",
   "name": "python",
   "nbconvert_exporter": "python",
   "pygments_lexer": "ipython3",
   "version": "3.13.9"
  }
 },
 "nbformat": 4,
 "nbformat_minor": 4
}
