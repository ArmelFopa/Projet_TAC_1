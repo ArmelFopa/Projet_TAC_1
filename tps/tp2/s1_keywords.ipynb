{
 "cells": [
  {
   "cell_type": "markdown",
   "metadata": {},
   "source": [
    "# Preparation du corpus CAMille"
   ]
  },
  {
   "cell_type": "markdown",
   "metadata": {},
   "source": [
    "Import"
   ]
  },
  {
   "cell_type": "code",
   "execution_count": 8,
   "metadata": {},
   "outputs": [],
   "source": [
    "from pathlib import Path\n",
    "import re\n",
    "from collections import Counter"
   ]
  },
  {
   "cell_type": "markdown",
   "metadata": {},
   "source": [
    "Recencement des années disponibles dans le corpus"
   ]
  },
  {
   "cell_type": "code",
   "execution_count": 9,
   "metadata": {},
   "outputs": [
    {
     "name": "stdout",
     "output_type": "stream",
     "text": [
      "Total fichiers txt: 51\n",
      "Années détectées: 37\n",
      "1950: 4\n",
      "1892: 2\n",
      "1903: 2\n",
      "1913: 2\n",
      "1894: 2\n",
      "1899: 2\n",
      "1933: 2\n",
      "1949: 2\n",
      "1939: 2\n",
      "1927: 2\n",
      "1860: 2\n",
      "1911: 2\n",
      "1884: 1\n",
      "1906: 1\n",
      "1926: 1\n",
      "1920: 1\n",
      "1846: 1\n",
      "1912: 1\n",
      "1947: 1\n",
      "1853: 1\n",
      "1922: 1\n",
      "1836: 1\n",
      "1940: 1\n",
      "1857: 1\n",
      "1924: 1\n",
      "1850: 1\n",
      "1902: 1\n",
      "1946: 1\n",
      "1895: 1\n",
      "1918: 1\n",
      "1930: 1\n",
      "1886: 1\n",
      "1925: 1\n",
      "1887: 1\n",
      "1943: 1\n",
      "1873: 1\n",
      "1885: 1\n"
     ]
    }
   ],
   "source": [
    "data_dir = Path(\"../../data/txt\")\n",
    "all_txt = list(data_dir.rglob(\"*.txt\"))\n",
    "\n",
    "year_pat = re.compile(r\"(18|19)\\d{2}\")\n",
    "years = []\n",
    "\n",
    "for p in all_txt:\n",
    "    m = year_pat.search(p.name)\n",
    "    if m:\n",
    "        years.append(m.group(0))\n",
    "\n",
    "year_counts = Counter(years)\n",
    "print(f\"Total fichiers txt: {len(all_txt)}\")\n",
    "print(f\"Années détectées: {len(year_counts)}\")\n",
    "\n",
    "for y, c in sorted(year_counts.items(), key=lambda x: x[1], reverse=True):\n",
    "    print(f\"{y}: {c}\")"
   ]
  },
  {
   "cell_type": "markdown",
   "metadata": {},
   "source": [
    "Choix et chargement de l'annee 1950"
   ]
  },
  {
   "cell_type": "code",
   "execution_count": 10,
   "metadata": {},
   "outputs": [
    {
     "name": "stdout",
     "output_type": "stream",
     "text": [
      "Fichiers trouvés pour 1950: 4\n",
      "Taille du corpus 1950: 133,895 caractères\n",
      "\n",
      "Extrait:\n",
      " L'AVENIR DU LUXEMBOURG Samedi 15 avri j 350, \n",
      "MORHET \n",
      "Soirée dramatique \n",
      "1 Le cercle dramatique Sainte-Cécile \n",
      "de Morhet reprendra, ce dimanche 16 \n",
      "avril ^Quasimodo), sa brillante soirée \n",
      "qui a remporté un succès si remarqua-\n",
      "| bie le 10 mars dernier. \n",
      "i Rappelons ie programme : \n",
      "; 1) ouverture : « Brabançonne »,par \n",
      "• la Fantare ; 2) « La .bohème », chœur \n",
      "à 2 voix exécuté par JV^.es Renée Cara, \n",
      "j Josée Goffin, Anyse Hubermont et Hé-\n",
      "f lène Bellanger ; a) La comédie en deux \n",
      "actes de Marcell* \n"
     ]
    }
   ],
   "source": [
    "YEAR = \"1950\"\n",
    "pat = re.compile(rf\"{YEAR}\")\n",
    "\n",
    "files_year = [p for p in all_txt if pat.search(p.name)]\n",
    "print(f\"Fichiers trouvés pour {YEAR}: {len(files_year)}\")\n",
    "\n",
    "corpus_year = \"\"\n",
    "for path in files_year:\n",
    "    for enc in (\"utf-8\", \"latin-1\", \"cp1252\"):\n",
    "        try:\n",
    "            with open(path, \"r\", encoding=enc, errors=\"ignore\") as f:\n",
    "                corpus_year += f.read() + \"\\n\"\n",
    "            break\n",
    "        except Exception:\n",
    "            continue\n",
    "\n",
    "print(f\"Taille du corpus {YEAR}: {len(corpus_year):,} caractères\")\n",
    "print(\"\\nExtrait:\\n\", corpus_year[:500])"
   ]
  },
  {
   "cell_type": "markdown",
   "metadata": {},
   "source": [
    "# Extraction de Keywords"
   ]
  },
  {
   "cell_type": "markdown",
   "metadata": {},
   "source": [
    "## Imports"
   ]
  },
  {
   "cell_type": "code",
   "execution_count": 13,
   "metadata": {},
   "outputs": [],
   "source": [
    "import os\n",
    "import yake\n",
    "import pandas as pd"
   ]
  },
  {
   "cell_type": "markdown",
   "metadata": {},
   "source": [
    "## Extraire les mots clés d'un document avec Yake"
   ]
  },
  {
   "cell_type": "markdown",
   "metadata": {},
   "source": [
    "https://github.com/LIAAD/yake"
   ]
  },
  {
   "cell_type": "code",
   "execution_count": 38,
   "metadata": {},
   "outputs": [],
   "source": [
    "# Instancier l'extracteur\n",
    "kw_extractor = yake.KeywordExtractor(lan=\"fr\", n=3, dedupLim=0.9, dedupFunc=\"seqm\", windowsSize=2, top=30)"
   ]
  },
  {
   "cell_type": "code",
   "execution_count": 39,
   "metadata": {},
   "outputs": [],
   "source": [
    "# Lister les Fichiers de l'année 1950\n",
    "YEAR = \"1950\"\n",
    "files_YEAR = [p for p in all_txt if YEAR in p.name]"
   ]
  },
  {
   "cell_type": "code",
   "execution_count": 40,
   "metadata": {},
   "outputs": [
    {
     "name": "stdout",
     "output_type": "stream",
     "text": [
      "4\n"
     ]
    }
   ],
   "source": [
    "# Imprimer le nombre de fichiers identifiés\n",
    "print(len(files_year))"
   ]
  },
  {
   "cell_type": "code",
   "execution_count": 41,
   "metadata": {},
   "outputs": [
    {
     "data": {
      "text/plain": [
       "['KB_JB421_1950-04-15_01-00004.txt',\n",
       " 'KB_JB572_1950-06-07_01-00004.txt',\n",
       " 'KB_JB773_1950-07-22_01-00010.txt',\n",
       " 'KB_JB837_1950-12-01_01-00007.txt']"
      ]
     },
     "execution_count": 41,
     "metadata": {},
     "output_type": "execute_result"
    }
   ],
   "source": [
    "# Les premiers fichiers\n",
    "[f.name for f in files_year[:10]]"
   ]
  },
  {
   "cell_type": "code",
   "execution_count": 42,
   "metadata": {},
   "outputs": [
    {
     "data": {
      "text/plain": [
       "WindowsPath('../../data/txt/KB_JB421_1950-04-15_01-00004.txt')"
      ]
     },
     "execution_count": 42,
     "metadata": {},
     "output_type": "execute_result"
    }
   ],
   "source": [
    "# Choisir un fichier\n",
    "this_file = files_year[0]\n",
    "this_file"
   ]
  },
  {
   "cell_type": "code",
   "execution_count": 43,
   "metadata": {},
   "outputs": [
    {
     "data": {
      "text/plain": [
       "39690"
      ]
     },
     "execution_count": 43,
     "metadata": {},
     "output_type": "execute_result"
    }
   ],
   "source": [
    "# Récupérer le texte du fichier\n",
    "text = open(this_file, \"r\", encoding=\"utf-8\", errors=\"ignore\").read()\n",
    "len(text)"
   ]
  },
  {
   "cell_type": "code",
   "execution_count": 44,
   "metadata": {},
   "outputs": [
    {
     "data": {
      "text/plain": [
       "[('MORHET Soirée dramatique', np.float64(0.0030620731204945655)),\n",
       " ('Van Zeeland', np.float64(0.0034696802972468406)),\n",
       " ('Renée Cara', np.float64(0.005843820319018758)),\n",
       " ('cercle dramatique Sainte-Cécile', np.float64(0.0063214064561661)),\n",
       " ('Madeleine Van Mullem', np.float64(0.007451394848005148)),\n",
       " ('Bruxelles', np.float64(0.007964269390347075)),\n",
       " ('Madeleine Ska', np.float64(0.008697568145652755)),\n",
       " (\"d'une\", np.float64(0.008991250150359485)),\n",
       " ('Josée Goffin', np.float64(0.009245105952324528)),\n",
       " ('Van', np.float64(0.010757041762850186))]"
      ]
     },
     "execution_count": 44,
     "metadata": {},
     "output_type": "execute_result"
    }
   ],
   "source": [
    "# Extraire les mots clés de ce texte\n",
    "kws = kw_extractor.extract_keywords(text)\n",
    "kws[:10]"
   ]
  },
  {
   "cell_type": "markdown",
   "metadata": {},
   "source": [
    "Mettre en DataFrame"
   ]
  },
  {
   "cell_type": "code",
   "execution_count": 45,
   "metadata": {},
   "outputs": [
    {
     "data": {
      "text/html": [
       "<div>\n",
       "<style scoped>\n",
       "    .dataframe tbody tr th:only-of-type {\n",
       "        vertical-align: middle;\n",
       "    }\n",
       "\n",
       "    .dataframe tbody tr th {\n",
       "        vertical-align: top;\n",
       "    }\n",
       "\n",
       "    .dataframe thead th {\n",
       "        text-align: right;\n",
       "    }\n",
       "</style>\n",
       "<table border=\"1\" class=\"dataframe\">\n",
       "  <thead>\n",
       "    <tr style=\"text-align: right;\">\n",
       "      <th></th>\n",
       "      <th>term</th>\n",
       "      <th>score</th>\n",
       "    </tr>\n",
       "  </thead>\n",
       "  <tbody>\n",
       "    <tr>\n",
       "      <th>0</th>\n",
       "      <td>MORHET Soirée dramatique</td>\n",
       "      <td>0.003062</td>\n",
       "    </tr>\n",
       "    <tr>\n",
       "      <th>1</th>\n",
       "      <td>Van Zeeland</td>\n",
       "      <td>0.003470</td>\n",
       "    </tr>\n",
       "    <tr>\n",
       "      <th>2</th>\n",
       "      <td>Renée Cara</td>\n",
       "      <td>0.005844</td>\n",
       "    </tr>\n",
       "    <tr>\n",
       "      <th>3</th>\n",
       "      <td>cercle dramatique Sainte-Cécile</td>\n",
       "      <td>0.006321</td>\n",
       "    </tr>\n",
       "    <tr>\n",
       "      <th>4</th>\n",
       "      <td>Madeleine Van Mullem</td>\n",
       "      <td>0.007451</td>\n",
       "    </tr>\n",
       "  </tbody>\n",
       "</table>\n",
       "</div>"
      ],
      "text/plain": [
       "                              term     score\n",
       "0         MORHET Soirée dramatique  0.003062\n",
       "1                      Van Zeeland  0.003470\n",
       "2                       Renée Cara  0.005844\n",
       "3  cercle dramatique Sainte-Cécile  0.006321\n",
       "4             Madeleine Van Mullem  0.007451"
      ]
     },
     "execution_count": 45,
     "metadata": {},
     "output_type": "execute_result"
    }
   ],
   "source": [
    "df = pd.DataFrame(kws, columns=[\"term\", \"score\"])\n",
    "df.head()"
   ]
  },
  {
   "cell_type": "markdown",
   "metadata": {},
   "source": [
    "Filtrer uniquement les bi-grammes"
   ]
  },
  {
   "cell_type": "code",
   "execution_count": 46,
   "metadata": {},
   "outputs": [
    {
     "data": {
      "text/plain": [
       "15"
      ]
     },
     "execution_count": 46,
     "metadata": {},
     "output_type": "execute_result"
    }
   ],
   "source": [
    "df2 = df[df[\"term\"].str.split().str.len() == 2].copy()\n",
    "len(df2)"
   ]
  },
  {
   "cell_type": "markdown",
   "metadata": {},
   "source": [
    "Trions par score croissant et affichons"
   ]
  },
  {
   "cell_type": "code",
   "execution_count": 47,
   "metadata": {},
   "outputs": [
    {
     "data": {
      "text/html": [
       "<div>\n",
       "<style scoped>\n",
       "    .dataframe tbody tr th:only-of-type {\n",
       "        vertical-align: middle;\n",
       "    }\n",
       "\n",
       "    .dataframe tbody tr th {\n",
       "        vertical-align: top;\n",
       "    }\n",
       "\n",
       "    .dataframe thead th {\n",
       "        text-align: right;\n",
       "    }\n",
       "</style>\n",
       "<table border=\"1\" class=\"dataframe\">\n",
       "  <thead>\n",
       "    <tr style=\"text-align: right;\">\n",
       "      <th></th>\n",
       "      <th>term</th>\n",
       "      <th>score</th>\n",
       "    </tr>\n",
       "  </thead>\n",
       "  <tbody>\n",
       "    <tr>\n",
       "      <th>0</th>\n",
       "      <td>Van Zeeland</td>\n",
       "      <td>0.003470</td>\n",
       "    </tr>\n",
       "    <tr>\n",
       "      <th>1</th>\n",
       "      <td>Renée Cara</td>\n",
       "      <td>0.005844</td>\n",
       "    </tr>\n",
       "    <tr>\n",
       "      <th>2</th>\n",
       "      <td>Madeleine Ska</td>\n",
       "      <td>0.008698</td>\n",
       "    </tr>\n",
       "    <tr>\n",
       "      <th>3</th>\n",
       "      <td>Josée Goffin</td>\n",
       "      <td>0.009245</td>\n",
       "    </tr>\n",
       "    <tr>\n",
       "      <th>4</th>\n",
       "      <td>roi Léopold</td>\n",
       "      <td>0.011665</td>\n",
       "    </tr>\n",
       "    <tr>\n",
       "      <th>5</th>\n",
       "      <td>Solange Noirot</td>\n",
       "      <td>0.014375</td>\n",
       "    </tr>\n",
       "    <tr>\n",
       "      <th>6</th>\n",
       "      <td>Jeanine Grandjean</td>\n",
       "      <td>0.015065</td>\n",
       "    </tr>\n",
       "    <tr>\n",
       "      <th>7</th>\n",
       "      <td>Morhet reprendra</td>\n",
       "      <td>0.015255</td>\n",
       "    </tr>\n",
       "    <tr>\n",
       "      <th>8</th>\n",
       "      <td>Van Mullem</td>\n",
       "      <td>0.022524</td>\n",
       "    </tr>\n",
       "    <tr>\n",
       "      <th>9</th>\n",
       "      <td>Bruxelles Bruxelles</td>\n",
       "      <td>0.023435</td>\n",
       "    </tr>\n",
       "    <tr>\n",
       "      <th>10</th>\n",
       "      <td>MORHET Soirée</td>\n",
       "      <td>0.023787</td>\n",
       "    </tr>\n",
       "    <tr>\n",
       "      <th>11</th>\n",
       "      <td>Solange Grandjean</td>\n",
       "      <td>0.025256</td>\n",
       "    </tr>\n",
       "    <tr>\n",
       "      <th>12</th>\n",
       "      <td>cercle dramatique</td>\n",
       "      <td>0.027344</td>\n",
       "    </tr>\n",
       "    <tr>\n",
       "      <th>13</th>\n",
       "      <td>dramatique Sainte-Cécile</td>\n",
       "      <td>0.027344</td>\n",
       "    </tr>\n",
       "    <tr>\n",
       "      <th>14</th>\n",
       "      <td>Roi Bruxelles</td>\n",
       "      <td>0.028611</td>\n",
       "    </tr>\n",
       "  </tbody>\n",
       "</table>\n",
       "</div>"
      ],
      "text/plain": [
       "                        term     score\n",
       "0                Van Zeeland  0.003470\n",
       "1                 Renée Cara  0.005844\n",
       "2              Madeleine Ska  0.008698\n",
       "3               Josée Goffin  0.009245\n",
       "4                roi Léopold  0.011665\n",
       "5             Solange Noirot  0.014375\n",
       "6          Jeanine Grandjean  0.015065\n",
       "7           Morhet reprendra  0.015255\n",
       "8                 Van Mullem  0.022524\n",
       "9        Bruxelles Bruxelles  0.023435\n",
       "10             MORHET Soirée  0.023787\n",
       "11         Solange Grandjean  0.025256\n",
       "12         cercle dramatique  0.027344\n",
       "13  dramatique Sainte-Cécile  0.027344\n",
       "14             Roi Bruxelles  0.028611"
      ]
     },
     "execution_count": 47,
     "metadata": {},
     "output_type": "execute_result"
    }
   ],
   "source": [
    "df2 = df2.sort_values(\"score\", ascending=True).reset_index(drop=True)\n",
    "df2.head(15)"
   ]
  },
  {
   "cell_type": "markdown",
   "metadata": {},
   "source": [
    "## Faire la même opération sur tous les documents"
   ]
  },
  {
   "cell_type": "markdown",
   "metadata": {},
   "source": [
    "Boucler sur tous les fichiers "
   ]
  },
  {
   "cell_type": "code",
   "execution_count": 48,
   "metadata": {},
   "outputs": [
    {
     "data": {
      "text/plain": [
       "(True, str)"
      ]
     },
     "execution_count": 48,
     "metadata": {},
     "output_type": "execute_result"
    }
   ],
   "source": [
    "hasattr(kw_extractor, \"extract_keywords\"), type(kw)"
   ]
  },
  {
   "cell_type": "code",
   "execution_count": 49,
   "metadata": {},
   "outputs": [
    {
     "name": "stdout",
     "output_type": "stream",
     "text": [
      "KB_JB421_1950-04-15_01-00004.txt mentions these keywords: Van Zeeland, Renée Cara, Madeleine Ska, Josée Goffin, roi Léopold, Solange Noirot, Jeanine Grandjean, Morhet reprendra, Van Mullem, Bruxelles Bruxelles, MORHET Soirée, Solange Grandjean, cercle dramatique, dramatique Sainte-Cécile, Roi Bruxelles...\n",
      "KB_JB572_1950-06-07_01-00004.txt mentions these keywords: pigeons lâchés, VAN ERCK, Van Oyen, Van Eycken, Van Binst...\n",
      "KB_JB773_1950-07-22_01-00010.txt mentions these keywords: Lames Gillette, Gillette Bleues, Gillette Lames, Gillette L'homme, Garage VAN, VAN WANGH, L'AVENIR Samedi, vendre rue...\n",
      "KB_JB837_1950-12-01_01-00007.txt mentions these keywords: pâte dentifrice, dentifrice PRODENT, Gala Wagner, Dieux barbares, BRUXELLES JEUDI, EST-IL POSSIBLE, PRODENT pâte...\n"
     ]
    }
   ],
   "source": [
    "for f in sorted(files_year)[:10]:\n",
    "    text = open(f, \"r\", encoding=\"utf-8\", errors=\"ignore\").read()\n",
    "    keywords = kw_extractor.extract_keywords(text)\n",
    "    kept = []\n",
    "    for kw_text, score in keywords:\n",
    "        #words = kw_text.split()\n",
    "        if len(kw_text.split()) == 2:\n",
    "            kept.append(kw_text)\n",
    "    print(f\"{f.name} mentions these keywords: {', '.join(kept)}...\")"
   ]
  },
  {
   "cell_type": "markdown",
   "metadata": {},
   "source": []
  },
  {
   "cell_type": "code",
   "execution_count": 50,
   "metadata": {},
   "outputs": [],
   "source": [
    "rows = []\n",
    "for f in sorted(files_year):\n",
    "    text = open(f, \"r\", encoding=\"utf-8\", errors=\"ignore\").read()\n",
    "    rows.append((f.name, kw_extractor.extract_keywords(text)))"
   ]
  },
  {
   "cell_type": "code",
   "execution_count": 51,
   "metadata": {},
   "outputs": [],
   "source": [
    "out = []\n",
    "for f in sorted(files_year):\n",
    "    text = open(f, \"r\", encoding=\"utf-8\", errors=\"ignore\").read()\n",
    "    rows.append((f.name, kw_extractor.extract_keywords(text)))"
   ]
  },
  {
   "cell_type": "code",
   "execution_count": 52,
   "metadata": {},
   "outputs": [],
   "source": [
    "out = []\n",
    "for fname, pairs in rows:\n",
    "    for term, score in pairs:\n",
    "        out.append((fname, term, score))"
   ]
  },
  {
   "cell_type": "code",
   "execution_count": 53,
   "metadata": {},
   "outputs": [
    {
     "data": {
      "text/html": [
       "<div>\n",
       "<style scoped>\n",
       "    .dataframe tbody tr th:only-of-type {\n",
       "        vertical-align: middle;\n",
       "    }\n",
       "\n",
       "    .dataframe tbody tr th {\n",
       "        vertical-align: top;\n",
       "    }\n",
       "\n",
       "    .dataframe thead th {\n",
       "        text-align: right;\n",
       "    }\n",
       "</style>\n",
       "<table border=\"1\" class=\"dataframe\">\n",
       "  <thead>\n",
       "    <tr style=\"text-align: right;\">\n",
       "      <th></th>\n",
       "      <th>file</th>\n",
       "      <th>term</th>\n",
       "      <th>score</th>\n",
       "    </tr>\n",
       "  </thead>\n",
       "  <tbody>\n",
       "    <tr>\n",
       "      <th>0</th>\n",
       "      <td>KB_JB421_1950-04-15_01-00004.txt</td>\n",
       "      <td>MORHET Soirée dramatique</td>\n",
       "      <td>0.003062</td>\n",
       "    </tr>\n",
       "    <tr>\n",
       "      <th>1</th>\n",
       "      <td>KB_JB421_1950-04-15_01-00004.txt</td>\n",
       "      <td>Van Zeeland</td>\n",
       "      <td>0.003470</td>\n",
       "    </tr>\n",
       "    <tr>\n",
       "      <th>2</th>\n",
       "      <td>KB_JB421_1950-04-15_01-00004.txt</td>\n",
       "      <td>Renée Cara</td>\n",
       "      <td>0.005844</td>\n",
       "    </tr>\n",
       "    <tr>\n",
       "      <th>3</th>\n",
       "      <td>KB_JB421_1950-04-15_01-00004.txt</td>\n",
       "      <td>cercle dramatique Sainte-Cécile</td>\n",
       "      <td>0.006321</td>\n",
       "    </tr>\n",
       "    <tr>\n",
       "      <th>4</th>\n",
       "      <td>KB_JB421_1950-04-15_01-00004.txt</td>\n",
       "      <td>Madeleine Van Mullem</td>\n",
       "      <td>0.007451</td>\n",
       "    </tr>\n",
       "  </tbody>\n",
       "</table>\n",
       "</div>"
      ],
      "text/plain": [
       "                               file                             term     score\n",
       "0  KB_JB421_1950-04-15_01-00004.txt         MORHET Soirée dramatique  0.003062\n",
       "1  KB_JB421_1950-04-15_01-00004.txt                      Van Zeeland  0.003470\n",
       "2  KB_JB421_1950-04-15_01-00004.txt                       Renée Cara  0.005844\n",
       "3  KB_JB421_1950-04-15_01-00004.txt  cercle dramatique Sainte-Cécile  0.006321\n",
       "4  KB_JB421_1950-04-15_01-00004.txt             Madeleine Van Mullem  0.007451"
      ]
     },
     "execution_count": 53,
     "metadata": {},
     "output_type": "execute_result"
    }
   ],
   "source": [
    "all_kw = pd.DataFrame(out, columns=[\"file\", \"term\", \"score\"])\n",
    "all_kw.head()"
   ]
  },
  {
   "cell_type": "code",
   "execution_count": 54,
   "metadata": {},
   "outputs": [
    {
     "data": {
      "text/plain": [
       "70"
      ]
     },
     "execution_count": 54,
     "metadata": {},
     "output_type": "execute_result"
    }
   ],
   "source": [
    "big = all_kw[all_kw[\"term\"].str.split().str.len() == 2].copy()\n",
    "len(big)"
   ]
  },
  {
   "cell_type": "code",
   "execution_count": 55,
   "metadata": {},
   "outputs": [
    {
     "data": {
      "text/html": [
       "<div>\n",
       "<style scoped>\n",
       "    .dataframe tbody tr th:only-of-type {\n",
       "        vertical-align: middle;\n",
       "    }\n",
       "\n",
       "    .dataframe tbody tr th {\n",
       "        vertical-align: top;\n",
       "    }\n",
       "\n",
       "    .dataframe thead th {\n",
       "        text-align: right;\n",
       "    }\n",
       "</style>\n",
       "<table border=\"1\" class=\"dataframe\">\n",
       "  <thead>\n",
       "    <tr style=\"text-align: right;\">\n",
       "      <th></th>\n",
       "      <th>term</th>\n",
       "      <th>score</th>\n",
       "    </tr>\n",
       "  </thead>\n",
       "  <tbody>\n",
       "    <tr>\n",
       "      <th>0</th>\n",
       "      <td>Van Zeeland</td>\n",
       "      <td>0.003470</td>\n",
       "    </tr>\n",
       "    <tr>\n",
       "      <th>1</th>\n",
       "      <td>Renée Cara</td>\n",
       "      <td>0.005844</td>\n",
       "    </tr>\n",
       "    <tr>\n",
       "      <th>2</th>\n",
       "      <td>Lames Gillette</td>\n",
       "      <td>0.007390</td>\n",
       "    </tr>\n",
       "    <tr>\n",
       "      <th>3</th>\n",
       "      <td>Madeleine Ska</td>\n",
       "      <td>0.008698</td>\n",
       "    </tr>\n",
       "    <tr>\n",
       "      <th>4</th>\n",
       "      <td>Josée Goffin</td>\n",
       "      <td>0.009245</td>\n",
       "    </tr>\n",
       "    <tr>\n",
       "      <th>5</th>\n",
       "      <td>roi Léopold</td>\n",
       "      <td>0.011665</td>\n",
       "    </tr>\n",
       "    <tr>\n",
       "      <th>6</th>\n",
       "      <td>pigeons lâchés</td>\n",
       "      <td>0.012354</td>\n",
       "    </tr>\n",
       "    <tr>\n",
       "      <th>7</th>\n",
       "      <td>Solange Noirot</td>\n",
       "      <td>0.014375</td>\n",
       "    </tr>\n",
       "    <tr>\n",
       "      <th>8</th>\n",
       "      <td>Gillette Bleues</td>\n",
       "      <td>0.015029</td>\n",
       "    </tr>\n",
       "    <tr>\n",
       "      <th>9</th>\n",
       "      <td>Jeanine Grandjean</td>\n",
       "      <td>0.015065</td>\n",
       "    </tr>\n",
       "    <tr>\n",
       "      <th>10</th>\n",
       "      <td>Morhet reprendra</td>\n",
       "      <td>0.015255</td>\n",
       "    </tr>\n",
       "    <tr>\n",
       "      <th>11</th>\n",
       "      <td>Gillette Lames</td>\n",
       "      <td>0.022169</td>\n",
       "    </tr>\n",
       "    <tr>\n",
       "      <th>12</th>\n",
       "      <td>Van Mullem</td>\n",
       "      <td>0.022524</td>\n",
       "    </tr>\n",
       "    <tr>\n",
       "      <th>13</th>\n",
       "      <td>Bruxelles Bruxelles</td>\n",
       "      <td>0.023435</td>\n",
       "    </tr>\n",
       "    <tr>\n",
       "      <th>14</th>\n",
       "      <td>MORHET Soirée</td>\n",
       "      <td>0.023787</td>\n",
       "    </tr>\n",
       "    <tr>\n",
       "      <th>15</th>\n",
       "      <td>Gillette L'homme</td>\n",
       "      <td>0.024058</td>\n",
       "    </tr>\n",
       "    <tr>\n",
       "      <th>16</th>\n",
       "      <td>pâte dentifrice</td>\n",
       "      <td>0.024623</td>\n",
       "    </tr>\n",
       "    <tr>\n",
       "      <th>17</th>\n",
       "      <td>VAN ERCK</td>\n",
       "      <td>0.025209</td>\n",
       "    </tr>\n",
       "    <tr>\n",
       "      <th>18</th>\n",
       "      <td>Solange Grandjean</td>\n",
       "      <td>0.025256</td>\n",
       "    </tr>\n",
       "    <tr>\n",
       "      <th>19</th>\n",
       "      <td>dentifrice PRODENT</td>\n",
       "      <td>0.025879</td>\n",
       "    </tr>\n",
       "  </tbody>\n",
       "</table>\n",
       "</div>"
      ],
      "text/plain": [
       "                   term     score\n",
       "0           Van Zeeland  0.003470\n",
       "1            Renée Cara  0.005844\n",
       "2        Lames Gillette  0.007390\n",
       "3         Madeleine Ska  0.008698\n",
       "4          Josée Goffin  0.009245\n",
       "5           roi Léopold  0.011665\n",
       "6        pigeons lâchés  0.012354\n",
       "7        Solange Noirot  0.014375\n",
       "8       Gillette Bleues  0.015029\n",
       "9     Jeanine Grandjean  0.015065\n",
       "10     Morhet reprendra  0.015255\n",
       "11       Gillette Lames  0.022169\n",
       "12           Van Mullem  0.022524\n",
       "13  Bruxelles Bruxelles  0.023435\n",
       "14        MORHET Soirée  0.023787\n",
       "15     Gillette L'homme  0.024058\n",
       "16      pâte dentifrice  0.024623\n",
       "17             VAN ERCK  0.025209\n",
       "18    Solange Grandjean  0.025256\n",
       "19   dentifrice PRODENT  0.025879"
      ]
     },
     "execution_count": 55,
     "metadata": {},
     "output_type": "execute_result"
    }
   ],
   "source": [
    "top2 = (big.groupby(\"term\")[\"score\"]\n",
    "        .mean()\n",
    "        .sort_values()\n",
    "        .head(20)\n",
    "        .reset_index())\n",
    "top2"
   ]
  },
  {
   "cell_type": "code",
   "execution_count": 59,
   "metadata": {},
   "outputs": [
    {
     "data": {
      "text/html": [
       "<div>\n",
       "<style scoped>\n",
       "    .dataframe tbody tr th:only-of-type {\n",
       "        vertical-align: middle;\n",
       "    }\n",
       "\n",
       "    .dataframe tbody tr th {\n",
       "        vertical-align: top;\n",
       "    }\n",
       "\n",
       "    .dataframe thead th {\n",
       "        text-align: right;\n",
       "    }\n",
       "</style>\n",
       "<table border=\"1\" class=\"dataframe\">\n",
       "  <thead>\n",
       "    <tr style=\"text-align: right;\">\n",
       "      <th></th>\n",
       "      <th>file</th>\n",
       "      <th>term</th>\n",
       "      <th>score</th>\n",
       "    </tr>\n",
       "  </thead>\n",
       "  <tbody>\n",
       "    <tr>\n",
       "      <th>0</th>\n",
       "      <td>KB_JB421_1950-04-15_01-00004.txt</td>\n",
       "      <td>Van Zeeland</td>\n",
       "      <td>0.003470</td>\n",
       "    </tr>\n",
       "    <tr>\n",
       "      <th>1</th>\n",
       "      <td>KB_JB421_1950-04-15_01-00004.txt</td>\n",
       "      <td>Renée Cara</td>\n",
       "      <td>0.005844</td>\n",
       "    </tr>\n",
       "    <tr>\n",
       "      <th>2</th>\n",
       "      <td>KB_JB773_1950-07-22_01-00010.txt</td>\n",
       "      <td>Lames Gillette</td>\n",
       "      <td>0.007390</td>\n",
       "    </tr>\n",
       "    <tr>\n",
       "      <th>3</th>\n",
       "      <td>KB_JB421_1950-04-15_01-00004.txt</td>\n",
       "      <td>Madeleine Ska</td>\n",
       "      <td>0.008698</td>\n",
       "    </tr>\n",
       "    <tr>\n",
       "      <th>4</th>\n",
       "      <td>KB_JB421_1950-04-15_01-00004.txt</td>\n",
       "      <td>Josée Goffin</td>\n",
       "      <td>0.009245</td>\n",
       "    </tr>\n",
       "    <tr>\n",
       "      <th>5</th>\n",
       "      <td>KB_JB421_1950-04-15_01-00004.txt</td>\n",
       "      <td>roi Léopold</td>\n",
       "      <td>0.011665</td>\n",
       "    </tr>\n",
       "    <tr>\n",
       "      <th>6</th>\n",
       "      <td>KB_JB572_1950-06-07_01-00004.txt</td>\n",
       "      <td>pigeons lâchés</td>\n",
       "      <td>0.012354</td>\n",
       "    </tr>\n",
       "    <tr>\n",
       "      <th>7</th>\n",
       "      <td>KB_JB773_1950-07-22_01-00010.txt</td>\n",
       "      <td>Gillette Bleues</td>\n",
       "      <td>0.015029</td>\n",
       "    </tr>\n",
       "    <tr>\n",
       "      <th>8</th>\n",
       "      <td>KB_JB773_1950-07-22_01-00010.txt</td>\n",
       "      <td>Gillette Lames</td>\n",
       "      <td>0.022169</td>\n",
       "    </tr>\n",
       "    <tr>\n",
       "      <th>9</th>\n",
       "      <td>KB_JB773_1950-07-22_01-00010.txt</td>\n",
       "      <td>Gillette L'homme</td>\n",
       "      <td>0.024058</td>\n",
       "    </tr>\n",
       "  </tbody>\n",
       "</table>\n",
       "</div>"
      ],
      "text/plain": [
       "                               file              term     score\n",
       "0  KB_JB421_1950-04-15_01-00004.txt       Van Zeeland  0.003470\n",
       "1  KB_JB421_1950-04-15_01-00004.txt        Renée Cara  0.005844\n",
       "2  KB_JB773_1950-07-22_01-00010.txt    Lames Gillette  0.007390\n",
       "3  KB_JB421_1950-04-15_01-00004.txt     Madeleine Ska  0.008698\n",
       "4  KB_JB421_1950-04-15_01-00004.txt      Josée Goffin  0.009245\n",
       "5  KB_JB421_1950-04-15_01-00004.txt       roi Léopold  0.011665\n",
       "6  KB_JB572_1950-06-07_01-00004.txt    pigeons lâchés  0.012354\n",
       "7  KB_JB773_1950-07-22_01-00010.txt   Gillette Bleues  0.015029\n",
       "8  KB_JB773_1950-07-22_01-00010.txt    Gillette Lames  0.022169\n",
       "9  KB_JB773_1950-07-22_01-00010.txt  Gillette L'homme  0.024058"
      ]
     },
     "execution_count": 59,
     "metadata": {},
     "output_type": "execute_result"
    }
   ],
   "source": [
    "top2_by_file = (big.groupby([\"file\", \"term\"])[\"score\"]\n",
    "                .mean().sort_values()\n",
    "                .groupby(level=0).head(5)\n",
    "                .reset_index())\n",
    "top2_by_file.head(10)"
   ]
  }
 ],
 "metadata": {
  "kernelspec": {
   "display_name": "PROJET_TAC_1_venv",
   "language": "python",
   "name": "python3"
  },
  "language_info": {
   "codemirror_mode": {
    "name": "ipython",
    "version": 3
   },
   "file_extension": ".py",
   "mimetype": "text/x-python",
   "name": "python",
   "nbconvert_exporter": "python",
   "pygments_lexer": "ipython3",
   "version": "3.13.8"
  }
 },
 "nbformat": 4,
 "nbformat_minor": 4
}
